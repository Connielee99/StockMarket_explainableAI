{
 "cells": [
  {
   "cell_type": "markdown",
   "metadata": {},
   "source": [
    "### Imports & Dependencies"
   ]
  },
  {
   "cell_type": "code",
   "execution_count": 1,
   "metadata": {},
   "outputs": [],
   "source": [
    "import sys, json, os\n",
    "import warnings \n",
    "warnings.filterwarnings(\"ignore\")"
   ]
  },
  {
   "cell_type": "code",
   "execution_count": 2,
   "metadata": {},
   "outputs": [],
   "source": [
    "import pandas as pd\n",
    "import matplotlib.pyplot as plt"
   ]
  },
  {
   "cell_type": "code",
   "execution_count": 3,
   "metadata": {},
   "outputs": [],
   "source": [
    "sys.path.insert(0, 'src')"
   ]
  },
  {
   "cell_type": "code",
   "execution_count": 4,
   "metadata": {},
   "outputs": [],
   "source": [
    "from data import make_dataset\n",
    "from features import build_features, build_images, build_labels"
   ]
  },
  {
   "cell_type": "markdown",
   "metadata": {},
   "source": [
    "### Define Params\n",
    "* Save these to params.json"
   ]
  },
  {
   "cell_type": "code",
   "execution_count": 18,
   "metadata": {},
   "outputs": [],
   "source": [
    "with open('config/data_params.json') as fh:\n",
    "    data_cfg = json.load(fh)\n",
    "    \n",
    "with open('config/test_params.json') as fh:\n",
    "    test_cfg = json.load(fh)"
   ]
  },
  {
   "cell_type": "code",
   "execution_count": 17,
   "metadata": {},
   "outputs": [
    {
     "data": {
      "text/plain": [
       "{'raw_path': 'data/TSLA/RawData',\n",
       " 'result_path': 'result/',\n",
       " 'time_wdw': 5,\n",
       " 'output_img_path': 'data/folderforrun'}"
      ]
     },
     "execution_count": 17,
     "metadata": {},
     "output_type": "execute_result"
    }
   ],
   "source": [
    "data_cfg"
   ]
  },
  {
   "cell_type": "code",
   "execution_count": 19,
   "metadata": {},
   "outputs": [
    {
     "data": {
      "text/plain": [
       "{'raw_path': 'data/TSLA/TestData',\n",
       " 'file_name': 'test_20210115.csv',\n",
       " 'result_path': 'result/',\n",
       " 'time_wdw': 5,\n",
       " 'output_img_path': 'data/imgs/test'}"
      ]
     },
     "execution_count": 19,
     "metadata": {},
     "output_type": "execute_result"
    }
   ],
   "source": [
    "test_cfg"
   ]
  },
  {
   "cell_type": "markdown",
   "metadata": {},
   "source": [
    "### Read in data -- Image Coordinate Data"
   ]
  },
  {
   "cell_type": "code",
   "execution_count": 6,
   "metadata": {},
   "outputs": [],
   "source": [
    "raw_fp = data_cfg['raw_path']\n",
    "time_wdw = data_cfg['time_wdw']\n",
    "img_fp = data_cfg['output_img_path']"
   ]
  },
  {
   "cell_type": "code",
   "execution_count": 7,
   "metadata": {},
   "outputs": [],
   "source": [
    "# merged 8:30-9:30 data\n",
    "data = make_dataset.merge_data(raw_fp)"
   ]
  },
  {
   "cell_type": "code",
   "execution_count": 8,
   "metadata": {},
   "outputs": [],
   "source": [
    "# data with volatility\n",
    "data = build_features.feature_engineer(data, time_wdw)"
   ]
  },
  {
   "cell_type": "code",
   "execution_count": 9,
   "metadata": {},
   "outputs": [],
   "source": [
    "# data for gramian angular field\n",
    "data = make_dataset.gaf_df(data)"
   ]
  },
  {
   "cell_type": "markdown",
   "metadata": {},
   "source": [
    "### Data -- Images"
   ]
  },
  {
   "cell_type": "code",
   "execution_count": 46,
   "metadata": {},
   "outputs": [],
   "source": [
    "# creates images from polar coordinates, saves them to img_fp\n",
    "# build_images.gramian_img(img_fp, data)"
   ]
  },
  {
   "cell_type": "code",
   "execution_count": null,
   "metadata": {},
   "outputs": [],
   "source": []
  },
  {
   "cell_type": "code",
   "execution_count": null,
   "metadata": {},
   "outputs": [],
   "source": []
  },
  {
   "cell_type": "code",
   "execution_count": null,
   "metadata": {},
   "outputs": [],
   "source": []
  },
  {
   "cell_type": "markdown",
   "metadata": {},
   "source": [
    "### Wrap"
   ]
  },
  {
   "cell_type": "code",
   "execution_count": null,
   "metadata": {},
   "outputs": [],
   "source": [
    "# dependencies & imports\n",
    "\n",
    "import sys, json, os\n",
    "import warnings \n",
    "import pandas as pd\n",
    "\n",
    "warnings.filterwarnings(\"ignore\")\n",
    "sys.path.insert(0, 'src')\n",
    "\n",
    "from data import make_dataset\n",
    "from features import build_features, build_images, build_labels\n",
    "\n",
    "def main(targets):\n",
    "    \n",
    "    # all case\n",
    "    if ('all' in targets):\n",
    "        \n",
    "        # get all params\n",
    "        with open('config/data_params.json') as fh:\n",
    "            data_cfg = json.load(fh)\n",
    "        \n",
    "        raw_fp = data_cfg['raw_path']\n",
    "        time_wdw = data_cfg['time_wdw']\n",
    "        img_fp = data_cfg['output_img_path']\n",
    "        \n",
    "        # merged 8:30-9:30 data\n",
    "        data = make_dataset.merge_data(raw_fp)\n",
    "        \n",
    "    # test case: merged already\n",
    "    if ('test' in targets):\n",
    "        \n",
    "        # get test params\n",
    "        with open('config/test_params.json') as fh:\n",
    "            data_cfg = json.load(fh)\n",
    "        \n",
    "        raw_fp = data_cfg['raw_path']\n",
    "        test_fn = data_cfg['file_name']\n",
    "        time_wdw = data_cfg['time_wdw']\n",
    "        img_fp = data_cfg['output_img_path']\n",
    "        \n",
    "        data_file = os.path.join(test_fp, test_fn)\n",
    "        data = pd.read_csv(test_data_file, parse_dates = ['time'])\n",
    "        \n",
    "    # data with volatility\n",
    "    data = build_features.feature_engineer(data, time_wdw)\n",
    "    # data for gramian angular field\n",
    "    data = make_dataset.gaf_df(data)\n",
    "    # creates images from polar coordinates, saves them to img_fp\n",
    "    build_images.gramian_img(img_fp, data)\n",
    "    \n",
    "    return \n",
    "\n"
   ]
  },
  {
   "cell_type": "code",
   "execution_count": null,
   "metadata": {},
   "outputs": [],
   "source": [
    "if __name__ == '__main__':\n",
    "    \n",
    "    targets = sys.argv[1:]\n",
    "    main(targets)"
   ]
  },
  {
   "cell_type": "code",
   "execution_count": 27,
   "metadata": {},
   "outputs": [
    {
     "data": {
      "text/html": [
       "<div>\n",
       "<style scoped>\n",
       "    .dataframe tbody tr th:only-of-type {\n",
       "        vertical-align: middle;\n",
       "    }\n",
       "\n",
       "    .dataframe tbody tr th {\n",
       "        vertical-align: top;\n",
       "    }\n",
       "\n",
       "    .dataframe thead th {\n",
       "        text-align: right;\n",
       "    }\n",
       "</style>\n",
       "<table border=\"1\" class=\"dataframe\">\n",
       "  <thead>\n",
       "    <tr style=\"text-align: right;\">\n",
       "      <th></th>\n",
       "      <th>0</th>\n",
       "      <th>1</th>\n",
       "      <th>2</th>\n",
       "      <th>3</th>\n",
       "      <th>4</th>\n",
       "      <th>5</th>\n",
       "      <th>6</th>\n",
       "      <th>7</th>\n",
       "      <th>8</th>\n",
       "      <th>9</th>\n",
       "      <th>...</th>\n",
       "      <th>51</th>\n",
       "      <th>52</th>\n",
       "      <th>53</th>\n",
       "      <th>54</th>\n",
       "      <th>55</th>\n",
       "      <th>56</th>\n",
       "      <th>57</th>\n",
       "      <th>58</th>\n",
       "      <th>59</th>\n",
       "      <th>60</th>\n",
       "    </tr>\n",
       "    <tr>\n",
       "      <th>Date</th>\n",
       "      <th></th>\n",
       "      <th></th>\n",
       "      <th></th>\n",
       "      <th></th>\n",
       "      <th></th>\n",
       "      <th></th>\n",
       "      <th></th>\n",
       "      <th></th>\n",
       "      <th></th>\n",
       "      <th></th>\n",
       "      <th></th>\n",
       "      <th></th>\n",
       "      <th></th>\n",
       "      <th></th>\n",
       "      <th></th>\n",
       "      <th></th>\n",
       "      <th></th>\n",
       "      <th></th>\n",
       "      <th></th>\n",
       "      <th></th>\n",
       "      <th></th>\n",
       "    </tr>\n",
       "  </thead>\n",
       "  <tbody>\n",
       "    <tr>\n",
       "      <th>2019-01-30</th>\n",
       "      <td>0.0646</td>\n",
       "      <td>0.0646</td>\n",
       "      <td>0.0802</td>\n",
       "      <td>0.079600</td>\n",
       "      <td>0.055600</td>\n",
       "      <td>0.026000</td>\n",
       "      <td>0.026000</td>\n",
       "      <td>0.006400</td>\n",
       "      <td>0.001200</td>\n",
       "      <td>0.005200</td>\n",
       "      <td>...</td>\n",
       "      <td>NaN</td>\n",
       "      <td>NaN</td>\n",
       "      <td>NaN</td>\n",
       "      <td>NaN</td>\n",
       "      <td>NaN</td>\n",
       "      <td>NaN</td>\n",
       "      <td>NaN</td>\n",
       "      <td>NaN</td>\n",
       "      <td>NaN</td>\n",
       "      <td>NaN</td>\n",
       "    </tr>\n",
       "    <tr>\n",
       "      <th>2019-01-31</th>\n",
       "      <td>0.0328</td>\n",
       "      <td>0.0528</td>\n",
       "      <td>0.0648</td>\n",
       "      <td>0.087600</td>\n",
       "      <td>0.106800</td>\n",
       "      <td>0.110800</td>\n",
       "      <td>0.110804</td>\n",
       "      <td>0.100404</td>\n",
       "      <td>0.097604</td>\n",
       "      <td>0.102004</td>\n",
       "      <td>...</td>\n",
       "      <td>0.0204</td>\n",
       "      <td>0.024</td>\n",
       "      <td>0.0214</td>\n",
       "      <td>0.0374</td>\n",
       "      <td>NaN</td>\n",
       "      <td>NaN</td>\n",
       "      <td>NaN</td>\n",
       "      <td>NaN</td>\n",
       "      <td>NaN</td>\n",
       "      <td>NaN</td>\n",
       "    </tr>\n",
       "    <tr>\n",
       "      <th>2019-02-01</th>\n",
       "      <td>0.1064</td>\n",
       "      <td>0.0792</td>\n",
       "      <td>0.0336</td>\n",
       "      <td>0.026000</td>\n",
       "      <td>0.032000</td>\n",
       "      <td>0.032000</td>\n",
       "      <td>0.032000</td>\n",
       "      <td>0.032000</td>\n",
       "      <td>0.012000</td>\n",
       "      <td>0.000000</td>\n",
       "      <td>...</td>\n",
       "      <td>NaN</td>\n",
       "      <td>NaN</td>\n",
       "      <td>NaN</td>\n",
       "      <td>NaN</td>\n",
       "      <td>NaN</td>\n",
       "      <td>NaN</td>\n",
       "      <td>NaN</td>\n",
       "      <td>NaN</td>\n",
       "      <td>NaN</td>\n",
       "      <td>NaN</td>\n",
       "    </tr>\n",
       "    <tr>\n",
       "      <th>2019-02-04</th>\n",
       "      <td>0.0004</td>\n",
       "      <td>0.0020</td>\n",
       "      <td>0.0080</td>\n",
       "      <td>0.010000</td>\n",
       "      <td>0.022000</td>\n",
       "      <td>0.028800</td>\n",
       "      <td>0.029200</td>\n",
       "      <td>0.026000</td>\n",
       "      <td>0.039600</td>\n",
       "      <td>0.043600</td>\n",
       "      <td>...</td>\n",
       "      <td>NaN</td>\n",
       "      <td>NaN</td>\n",
       "      <td>NaN</td>\n",
       "      <td>NaN</td>\n",
       "      <td>NaN</td>\n",
       "      <td>NaN</td>\n",
       "      <td>NaN</td>\n",
       "      <td>NaN</td>\n",
       "      <td>NaN</td>\n",
       "      <td>NaN</td>\n",
       "    </tr>\n",
       "    <tr>\n",
       "      <th>2019-02-05</th>\n",
       "      <td>0.0160</td>\n",
       "      <td>0.0160</td>\n",
       "      <td>0.0360</td>\n",
       "      <td>0.033808</td>\n",
       "      <td>0.033808</td>\n",
       "      <td>0.020208</td>\n",
       "      <td>0.020208</td>\n",
       "      <td>0.000208</td>\n",
       "      <td>0.000000</td>\n",
       "      <td>0.000800</td>\n",
       "      <td>...</td>\n",
       "      <td>NaN</td>\n",
       "      <td>NaN</td>\n",
       "      <td>NaN</td>\n",
       "      <td>NaN</td>\n",
       "      <td>NaN</td>\n",
       "      <td>NaN</td>\n",
       "      <td>NaN</td>\n",
       "      <td>NaN</td>\n",
       "      <td>NaN</td>\n",
       "      <td>NaN</td>\n",
       "    </tr>\n",
       "  </tbody>\n",
       "</table>\n",
       "<p>5 rows × 61 columns</p>\n",
       "</div>"
      ],
      "text/plain": [
       "                0       1       2         3         4         5         6   \\\n",
       "Date                                                                         \n",
       "2019-01-30  0.0646  0.0646  0.0802  0.079600  0.055600  0.026000  0.026000   \n",
       "2019-01-31  0.0328  0.0528  0.0648  0.087600  0.106800  0.110800  0.110804   \n",
       "2019-02-01  0.1064  0.0792  0.0336  0.026000  0.032000  0.032000  0.032000   \n",
       "2019-02-04  0.0004  0.0020  0.0080  0.010000  0.022000  0.028800  0.029200   \n",
       "2019-02-05  0.0160  0.0160  0.0360  0.033808  0.033808  0.020208  0.020208   \n",
       "\n",
       "                  7         8         9   ...      51     52      53      54  \\\n",
       "Date                                      ...                                  \n",
       "2019-01-30  0.006400  0.001200  0.005200  ...     NaN    NaN     NaN     NaN   \n",
       "2019-01-31  0.100404  0.097604  0.102004  ...  0.0204  0.024  0.0214  0.0374   \n",
       "2019-02-01  0.032000  0.012000  0.000000  ...     NaN    NaN     NaN     NaN   \n",
       "2019-02-04  0.026000  0.039600  0.043600  ...     NaN    NaN     NaN     NaN   \n",
       "2019-02-05  0.000208  0.000000  0.000800  ...     NaN    NaN     NaN     NaN   \n",
       "\n",
       "            55  56  57  58  59  60  \n",
       "Date                                \n",
       "2019-01-30 NaN NaN NaN NaN NaN NaN  \n",
       "2019-01-31 NaN NaN NaN NaN NaN NaN  \n",
       "2019-02-01 NaN NaN NaN NaN NaN NaN  \n",
       "2019-02-04 NaN NaN NaN NaN NaN NaN  \n",
       "2019-02-05 NaN NaN NaN NaN NaN NaN  \n",
       "\n",
       "[5 rows x 61 columns]"
      ]
     },
     "execution_count": 27,
     "metadata": {},
     "output_type": "execute_result"
    }
   ],
   "source": [
    "data[:5]"
   ]
  },
  {
   "cell_type": "code",
   "execution_count": null,
   "metadata": {},
   "outputs": [],
   "source": []
  }
 ],
 "metadata": {
  "kernelspec": {
   "display_name": "Python 3",
   "language": "python",
   "name": "python3"
  },
  "language_info": {
   "codemirror_mode": {
    "name": "ipython",
    "version": 3
   },
   "file_extension": ".py",
   "mimetype": "text/x-python",
   "name": "python",
   "nbconvert_exporter": "python",
   "pygments_lexer": "ipython3",
   "version": "3.8.5"
  }
 },
 "nbformat": 4,
 "nbformat_minor": 4
}
