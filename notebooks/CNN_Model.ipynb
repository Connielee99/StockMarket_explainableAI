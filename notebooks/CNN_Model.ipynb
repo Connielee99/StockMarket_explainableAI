{
 "cells": [
  {
   "cell_type": "markdown",
   "metadata": {},
   "source": [
    "# CNN Model"
   ]
  },
  {
   "cell_type": "markdown",
   "metadata": {},
   "source": [
    "- input = image\n",
    "\n",
    "- output = score (Mean Vol After Open / Mean Vol Before Open) "
   ]
  },
  {
   "cell_type": "markdown",
   "metadata": {},
   "source": [
    "### 1. Installation (torch & fastai)"
   ]
  },
  {
   "cell_type": "code",
   "execution_count": 2,
   "metadata": {
    "collapsed": true
   },
   "outputs": [
    {
     "name": "stdout",
     "output_type": "stream",
     "text": [
      "Looking in links: https://download.pytorch.org/whl/torch_stable.html\n",
      "Note: you may need to restart the kernel to use updated packages.\n",
      "Collecting torch===1.7.0\n",
      "  Downloading https://download.pytorch.org/whl/cu102/torch-1.7.0-cp37-cp37m-win_amd64.whl (1282.4 MB)\n",
      "Collecting torchvision===0.8.1\n",
      "  Downloading https://download.pytorch.org/whl/cu102/torchvision-0.8.1-cp37-cp37m-win_amd64.whl (1.5 MB)\n",
      "Collecting torchaudio===0.7.0\n",
      "  Downloading https://download.pytorch.org/whl/torchaudio-0.7.0-cp37-none-win_amd64.whl (103 kB)\n",
      "Requirement already satisfied: numpy in c:\\users\\sohyun\\anaconda3\\lib\\site-packages (from torch===1.7.0) (1.19.1)\n",
      "Requirement already satisfied: typing-extensions in c:\\users\\sohyun\\anaconda3\\lib\\site-packages (from torch===1.7.0) (3.7.4.2)\n",
      "Collecting dataclasses\n",
      "  Downloading dataclasses-0.6-py3-none-any.whl (14 kB)\n",
      "Requirement already satisfied: future in c:\\users\\sohyun\\anaconda3\\lib\\site-packages (from torch===1.7.0) (0.18.2)\n",
      "Requirement already satisfied: pillow>=4.1.1 in c:\\users\\sohyun\\appdata\\roaming\\python\\python37\\site-packages (from torchvision===0.8.1) (7.2.0)\n",
      "Installing collected packages: dataclasses, torch, torchvision, torchaudio\n",
      "  Attempting uninstall: torch\n",
      "    Found existing installation: torch 1.6.0+cu101\n",
      "    Uninstalling torch-1.6.0+cu101:\n",
      "      Successfully uninstalled torch-1.6.0+cu101\n",
      "  Attempting uninstall: torchvision\n",
      "    Found existing installation: torchvision 0.7.0+cu101\n",
      "    Uninstalling torchvision-0.7.0+cu101:\n",
      "      Successfully uninstalled torchvision-0.7.0+cu101\n",
      "Successfully installed dataclasses-0.6 torch-1.7.0 torchaudio-0.7.0 torchvision-0.8.1\n"
     ]
    }
   ],
   "source": [
    "# pip install torch===1.7.0 torchvision===0.8.1 torchaudio===0.7.0 -f https://download.pytorch.org/whl/torch_stable.html"
   ]
  },
  {
   "cell_type": "code",
   "execution_count": 4,
   "metadata": {
    "collapsed": true
   },
   "outputs": [
    {
     "name": "stdout",
     "output_type": "stream",
     "text": [
      "Collecting fastai\n",
      "  Using cached fastai-2.2.5-py3-none-any.whl (191 kB)\n",
      "Requirement already satisfied: pillow>6.0.0 in c:\\users\\sohyun\\appdata\\roaming\\python\\python37\\site-packages (from fastai) (7.2.0)\n",
      "Requirement already satisfied: pyyaml in c:\\users\\sohyun\\anaconda3\\lib\\site-packages (from fastai) (5.3.1)\n",
      "Collecting spacy\n",
      "  Using cached spacy-2.3.5-cp37-cp37m-win_amd64.whl (9.5 MB)\n",
      "Requirement already satisfied: scikit-learn in c:\\users\\sohyun\\anaconda3\\lib\\site-packages (from fastai) (0.23.1)\n",
      "Requirement already satisfied: pip in c:\\users\\sohyun\\anaconda3\\lib\\site-packages (from fastai) (21.0.1)\n",
      "Requirement already satisfied: pandas in c:\\users\\sohyun\\anaconda3\\lib\\site-packages (from fastai) (1.1.0)\n",
      "Collecting fastprogress>=0.2.4\n",
      "  Using cached fastprogress-1.0.0-py3-none-any.whl (12 kB)\n",
      "Requirement already satisfied: matplotlib in c:\\users\\sohyun\\appdata\\roaming\\python\\python37\\site-packages (from fastai) (3.3.0)\n",
      "Requirement already satisfied: packaging in c:\\users\\sohyun\\anaconda3\\lib\\site-packages (from fastai) (20.4)\n",
      "Requirement already satisfied: torchvision<0.9,>=0.8 in c:\\users\\sohyun\\anaconda3\\lib\\site-packages (from fastai) (0.8.1)\n",
      "Requirement already satisfied: torch<1.8,>=1.7.0 in c:\\users\\sohyun\\anaconda3\\lib\\site-packages (from fastai) (1.7.0)\n",
      "Collecting fastcore<1.4,>=1.3.8\n",
      "  Using cached fastcore-1.3.19-py3-none-any.whl (53 kB)\n",
      "Requirement already satisfied: scipy in c:\\users\\sohyun\\anaconda3\\lib\\site-packages (from fastai) (1.5.0)\n",
      "Requirement already satisfied: requests in c:\\users\\sohyun\\appdata\\roaming\\python\\python37\\site-packages (from fastai) (2.24.0)\n",
      "Requirement already satisfied: numpy in c:\\users\\sohyun\\anaconda3\\lib\\site-packages (from fastprogress>=0.2.4->fastai) (1.19.1)\n",
      "Requirement already satisfied: typing-extensions in c:\\users\\sohyun\\anaconda3\\lib\\site-packages (from torch<1.8,>=1.7.0->fastai) (3.7.4.2)\n",
      "Requirement already satisfied: dataclasses in c:\\users\\sohyun\\anaconda3\\lib\\site-packages (from torch<1.8,>=1.7.0->fastai) (0.6)\n",
      "Requirement already satisfied: future in c:\\users\\sohyun\\anaconda3\\lib\\site-packages (from torch<1.8,>=1.7.0->fastai) (0.18.2)\n",
      "Requirement already satisfied: python-dateutil>=2.1 in c:\\users\\sohyun\\anaconda3\\lib\\site-packages (from matplotlib->fastai) (2.8.1)\n",
      "Requirement already satisfied: kiwisolver>=1.0.1 in c:\\users\\sohyun\\anaconda3\\lib\\site-packages (from matplotlib->fastai) (1.2.0)\n",
      "Requirement already satisfied: cycler>=0.10 in c:\\users\\sohyun\\anaconda3\\lib\\site-packages (from matplotlib->fastai) (0.10.0)\n",
      "Requirement already satisfied: pyparsing!=2.0.4,!=2.1.2,!=2.1.6,>=2.0.3 in c:\\users\\sohyun\\anaconda3\\lib\\site-packages (from matplotlib->fastai) (2.4.7)\n",
      "Requirement already satisfied: six in c:\\users\\sohyun\\anaconda3\\lib\\site-packages (from cycler>=0.10->matplotlib->fastai) (1.12.0)\n",
      "Requirement already satisfied: pytz>=2017.2 in c:\\users\\sohyun\\anaconda3\\lib\\site-packages (from pandas->fastai) (2020.1)\n",
      "Requirement already satisfied: certifi>=2017.4.17 in c:\\users\\sohyun\\anaconda3\\lib\\site-packages (from requests->fastai) (2020.6.20)\n",
      "Requirement already satisfied: urllib3!=1.25.0,!=1.25.1,<1.26,>=1.21.1 in c:\\users\\sohyun\\anaconda3\\lib\\site-packages (from requests->fastai) (1.25.9)\n",
      "Requirement already satisfied: chardet<4,>=3.0.2 in c:\\users\\sohyun\\anaconda3\\lib\\site-packages (from requests->fastai) (3.0.4)\n",
      "Requirement already satisfied: idna<3,>=2.5 in c:\\users\\sohyun\\anaconda3\\lib\\site-packages (from requests->fastai) (2.10)\n",
      "Requirement already satisfied: threadpoolctl>=2.0.0 in c:\\users\\sohyun\\anaconda3\\lib\\site-packages (from scikit-learn->fastai) (2.1.0)\n",
      "Requirement already satisfied: joblib>=0.11 in c:\\users\\sohyun\\anaconda3\\lib\\site-packages (from scikit-learn->fastai) (0.16.0)\n",
      "Collecting preshed<3.1.0,>=3.0.2\n",
      "  Downloading preshed-3.0.5-cp37-cp37m-win_amd64.whl (108 kB)\n",
      "Requirement already satisfied: tqdm<5.0.0,>=4.38.0 in c:\\users\\sohyun\\appdata\\roaming\\python\\python37\\site-packages (from spacy->fastai) (4.48.0)\n",
      "Requirement already satisfied: setuptools in c:\\users\\sohyun\\anaconda3\\lib\\site-packages (from spacy->fastai) (49.2.0.post20200714)\n",
      "Collecting plac<1.2.0,>=0.9.6\n",
      "  Downloading plac-1.1.3-py2.py3-none-any.whl (20 kB)\n",
      "Collecting blis<0.8.0,>=0.4.0\n",
      "  Downloading blis-0.7.4-cp37-cp37m-win_amd64.whl (6.5 MB)\n",
      "Collecting thinc<7.5.0,>=7.4.1\n",
      "  Downloading thinc-7.4.5-cp37-cp37m-win_amd64.whl (888 kB)\n",
      "Collecting murmurhash<1.1.0,>=0.28.0\n",
      "  Downloading murmurhash-1.0.5-cp37-cp37m-win_amd64.whl (20 kB)\n",
      "Collecting catalogue<1.1.0,>=0.0.7\n",
      "  Downloading catalogue-1.0.0-py2.py3-none-any.whl (7.7 kB)\n",
      "Collecting srsly<1.1.0,>=1.0.2\n",
      "  Downloading srsly-1.0.5-cp37-cp37m-win_amd64.whl (176 kB)\n",
      "Collecting wasabi<1.1.0,>=0.4.0\n",
      "  Downloading wasabi-0.8.1-py3-none-any.whl (23 kB)\n",
      "Collecting cymem<2.1.0,>=2.0.2\n",
      "  Downloading cymem-2.0.5-cp37-cp37m-win_amd64.whl (35 kB)\n",
      "Requirement already satisfied: importlib-metadata>=0.20 in c:\\users\\sohyun\\anaconda3\\lib\\site-packages (from catalogue<1.1.0,>=0.0.7->spacy->fastai) (1.7.0)\n",
      "Requirement already satisfied: zipp>=0.5 in c:\\users\\sohyun\\anaconda3\\lib\\site-packages (from importlib-metadata>=0.20->catalogue<1.1.0,>=0.0.7->spacy->fastai) (3.1.0)\n",
      "Installing collected packages: murmurhash, cymem, wasabi, srsly, preshed, plac, catalogue, blis, thinc, spacy, fastprogress, fastcore, fastai\n",
      "Successfully installed blis-0.7.4 catalogue-1.0.0 cymem-2.0.5 fastai-2.2.5 fastcore-1.3.19 fastprogress-1.0.0 murmurhash-1.0.5 plac-1.1.3 preshed-3.0.5 spacy-2.3.5 srsly-1.0.5 thinc-7.4.5 wasabi-0.8.1\n",
      "Note: you may need to restart the kernel to use updated packages.\n"
     ]
    }
   ],
   "source": [
    "# pip install fastai"
   ]
  },
  {
   "cell_type": "code",
   "execution_count": 3,
   "metadata": {},
   "outputs": [],
   "source": [
    "# pip install --upgrade pip"
   ]
  },
  {
   "cell_type": "code",
   "execution_count": 1,
   "metadata": {},
   "outputs": [
    {
     "name": "stdout",
     "output_type": "stream",
     "text": [
      "Name: fastai\n",
      "Version: 2.2.5\n",
      "Summary: fastai simplifies training fast and accurate neural nets using modern best practices\n",
      "Home-page: https://github.com/fastai/fastai/tree/master/\n",
      "Author: Jeremy Howard, Sylvain Gugger, and contributors\n",
      "Author-email: info@fast.ai\n",
      "License: Apache Software License 2.0\n",
      "Location: /home/sehara/.local/lib/python3.7/site-packages\n",
      "Requires: pandas, pyyaml, matplotlib, fastprogress, fastcore, spacy, torch, scikit-learn, requests, scipy, torchvision, packaging, pip, pillow\n",
      "Required-by: \n",
      "Note: you may need to restart the kernel to use updated packages.\n"
     ]
    }
   ],
   "source": [
    "pip show fastai"
   ]
  },
  {
   "cell_type": "markdown",
   "metadata": {},
   "source": [
    "### 2. cnn model"
   ]
  },
  {
   "cell_type": "code",
   "execution_count": 16,
   "metadata": {},
   "outputs": [],
   "source": [
    "import torch\n",
    "from fastai.vision import *"
   ]
  },
  {
   "cell_type": "code",
   "execution_count": 23,
   "metadata": {
    "scrolled": false
   },
   "outputs": [
    {
     "ename": "NameError",
     "evalue": "name 'ImageList' is not defined",
     "output_type": "error",
     "traceback": [
      "\u001b[0;31m\u001b[0m",
      "\u001b[0;31mNameError\u001b[0mTraceback (most recent call last)",
      "\u001b[0;32m<ipython-input-23-6ca052e18d83>\u001b[0m in \u001b[0;36m<module>\u001b[0;34m\u001b[0m\n\u001b[1;32m      1\u001b[0m \u001b[0mdir_path\u001b[0m \u001b[0;34m=\u001b[0m \u001b[0;34m'../data/imgs'\u001b[0m\u001b[0;34m\u001b[0m\u001b[0;34m\u001b[0m\u001b[0m\n\u001b[1;32m      2\u001b[0m \u001b[0;34m\u001b[0m\u001b[0m\n\u001b[0;32m----> 3\u001b[0;31m data = (ImageList.from_csv(path, csv_name='image_label_dir.csv')\n\u001b[0m\u001b[1;32m      4\u001b[0m         .label_from_df(cols='label',label_delim=' '))\n\u001b[1;32m      5\u001b[0m \u001b[0mdata\u001b[0m\u001b[0;34m.\u001b[0m\u001b[0mshow_batch\u001b[0m\u001b[0;34m(\u001b[0m\u001b[0mrows\u001b[0m\u001b[0;34m=\u001b[0m\u001b[0;36m3\u001b[0m\u001b[0;34m,\u001b[0m \u001b[0mfigsize\u001b[0m\u001b[0;34m=\u001b[0m\u001b[0;34m(\u001b[0m\u001b[0;36m10\u001b[0m\u001b[0;34m,\u001b[0m\u001b[0;36m7\u001b[0m\u001b[0;34m)\u001b[0m\u001b[0;34m)\u001b[0m\u001b[0;34m\u001b[0m\u001b[0;34m\u001b[0m\u001b[0m\n",
      "\u001b[0;31mNameError\u001b[0m: name 'ImageList' is not defined"
     ]
    }
   ],
   "source": [
    "dir_path = '../data/imgs'\n",
    "\n",
    "data = (ImageList.from_csv(path, csv_name='image_label_dir.csv')\n",
    "        .label_from_df(cols='label',label_delim=' '))\n",
    "data.show_batch(rows=3, figsize=(10,7))\n",
    "\n",
    "#learner = cnn_learner(data, models.resnet34, loss_func=mae, metrics=[r2_score])\n",
    "#learner.model[1]\n",
    "\n",
    "# Sequential(\n",
    "#   (0): AdaptiveConcatPool2d(\n",
    "#     (ap): AdaptiveAvgPool2d(output_size=1)\n",
    "#     (mp): AdaptiveMaxPool2d(output_size=1)\n",
    "#   )\n",
    "#   (1): Flatten()\n",
    "#   (2): BatchNorm1d(1024, eps=1e-05, momentum=0.1, affine=True, track_running_stats=True)\n",
    "#   (3): Dropout(p=0.25, inplace=False)\n",
    "#   (4): Linear(in_features=1024, out_features=512, bias=True)\n",
    "#   (5): ReLU(inplace=True)\n",
    "#   (6): BatchNorm1d(512, eps=1e-05, momentum=0.1, affine=True, track_running_stats=True)\n",
    "#   (7): Dropout(p=0.5, inplace=False)\n",
    "#   (8): Linear(in_features=512, out_features=1, bias=True)\n",
    "# )"
   ]
  },
  {
   "cell_type": "code",
   "execution_count": null,
   "metadata": {},
   "outputs": [],
   "source": []
  },
  {
   "cell_type": "code",
   "execution_count": null,
   "metadata": {},
   "outputs": [],
   "source": []
  },
  {
   "cell_type": "code",
   "execution_count": null,
   "metadata": {},
   "outputs": [],
   "source": []
  }
 ],
 "metadata": {
  "kernelspec": {
   "display_name": "Python 3",
   "language": "python",
   "name": "python3"
  },
  "language_info": {
   "codemirror_mode": {
    "name": "ipython",
    "version": 3
   },
   "file_extension": ".py",
   "mimetype": "text/x-python",
   "name": "python",
   "nbconvert_exporter": "python",
   "pygments_lexer": "ipython3",
   "version": "3.7.6"
  }
 },
 "nbformat": 4,
 "nbformat_minor": 4
}
