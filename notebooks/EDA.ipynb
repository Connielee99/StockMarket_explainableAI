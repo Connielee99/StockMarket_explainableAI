{
 "cells": [
  {
   "cell_type": "markdown",
   "metadata": {},
   "source": [
    "# Exploratory Data Analysis (EDA)"
   ]
  },
  {
   "cell_type": "markdown",
   "metadata": {},
   "source": [
    "This notebook generates plots for daily closing price of NIFTY 100 from 2017-01-02 to 2021-01-01 and minute-level closing rice of NIFTY 100 on 2021-01-01 for full market hours and first market hour. "
   ]
  },
  {
   "cell_type": "code",
   "execution_count": 1,
   "metadata": {},
   "outputs": [],
   "source": [
    "# import libraries and packages\n",
    "import pandas as pd\n",
    "import os\n",
    "import matplotlib.pyplot as plt"
   ]
  },
  {
   "cell_type": "code",
   "execution_count": 2,
   "metadata": {},
   "outputs": [],
   "source": [
    "from PIL import Image"
   ]
  },
  {
   "cell_type": "markdown",
   "metadata": {},
   "source": [
    "## 1. Load data\n",
    "- The first one hour of market hours (9:15 - 10:15)"
   ]
  },
  {
   "cell_type": "code",
   "execution_count": 3,
   "metadata": {},
   "outputs": [],
   "source": [
    "raw_data = pd.read_csv('../data/raw data/raw_NIFTY100.csv')\n",
    "raw_data['time'] = pd.to_datetime(raw_data.timestamp)"
   ]
  },
  {
   "cell_type": "code",
   "execution_count": 4,
   "metadata": {
    "scrolled": true
   },
   "outputs": [
    {
     "data": {
      "text/html": [
       "<div>\n",
       "<style scoped>\n",
       "    .dataframe tbody tr th:only-of-type {\n",
       "        vertical-align: middle;\n",
       "    }\n",
       "\n",
       "    .dataframe tbody tr th {\n",
       "        vertical-align: top;\n",
       "    }\n",
       "\n",
       "    .dataframe thead th {\n",
       "        text-align: right;\n",
       "    }\n",
       "</style>\n",
       "<table border=\"1\" class=\"dataframe\">\n",
       "  <thead>\n",
       "    <tr style=\"text-align: right;\">\n",
       "      <th></th>\n",
       "      <th>timestamp</th>\n",
       "      <th>open</th>\n",
       "      <th>high</th>\n",
       "      <th>low</th>\n",
       "      <th>close</th>\n",
       "      <th>volume</th>\n",
       "      <th>time</th>\n",
       "    </tr>\n",
       "  </thead>\n",
       "  <tbody>\n",
       "    <tr>\n",
       "      <th>0</th>\n",
       "      <td>2017-01-02 09:15:00+05:30</td>\n",
       "      <td>8409.60</td>\n",
       "      <td>8409.75</td>\n",
       "      <td>8390.75</td>\n",
       "      <td>8391.10</td>\n",
       "      <td>0.0</td>\n",
       "      <td>2017-01-02 09:15:00+05:30</td>\n",
       "    </tr>\n",
       "    <tr>\n",
       "      <th>1</th>\n",
       "      <td>2017-01-02 09:16:00+05:30</td>\n",
       "      <td>8391.85</td>\n",
       "      <td>8395.35</td>\n",
       "      <td>8390.40</td>\n",
       "      <td>8391.15</td>\n",
       "      <td>0.0</td>\n",
       "      <td>2017-01-02 09:16:00+05:30</td>\n",
       "    </tr>\n",
       "    <tr>\n",
       "      <th>2</th>\n",
       "      <td>2017-01-02 09:17:00+05:30</td>\n",
       "      <td>8391.15</td>\n",
       "      <td>8391.55</td>\n",
       "      <td>8373.60</td>\n",
       "      <td>8373.60</td>\n",
       "      <td>0.0</td>\n",
       "      <td>2017-01-02 09:17:00+05:30</td>\n",
       "    </tr>\n",
       "    <tr>\n",
       "      <th>3</th>\n",
       "      <td>2017-01-02 09:18:00+05:30</td>\n",
       "      <td>8373.60</td>\n",
       "      <td>8376.75</td>\n",
       "      <td>8369.90</td>\n",
       "      <td>8376.75</td>\n",
       "      <td>0.0</td>\n",
       "      <td>2017-01-02 09:18:00+05:30</td>\n",
       "    </tr>\n",
       "    <tr>\n",
       "      <th>4</th>\n",
       "      <td>2017-01-02 09:19:00+05:30</td>\n",
       "      <td>8376.95</td>\n",
       "      <td>8377.25</td>\n",
       "      <td>8372.60</td>\n",
       "      <td>8373.70</td>\n",
       "      <td>0.0</td>\n",
       "      <td>2017-01-02 09:19:00+05:30</td>\n",
       "    </tr>\n",
       "  </tbody>\n",
       "</table>\n",
       "</div>"
      ],
      "text/plain": [
       "                   timestamp     open     high      low    close  volume  \\\n",
       "0  2017-01-02 09:15:00+05:30  8409.60  8409.75  8390.75  8391.10     0.0   \n",
       "1  2017-01-02 09:16:00+05:30  8391.85  8395.35  8390.40  8391.15     0.0   \n",
       "2  2017-01-02 09:17:00+05:30  8391.15  8391.55  8373.60  8373.60     0.0   \n",
       "3  2017-01-02 09:18:00+05:30  8373.60  8376.75  8369.90  8376.75     0.0   \n",
       "4  2017-01-02 09:19:00+05:30  8376.95  8377.25  8372.60  8373.70     0.0   \n",
       "\n",
       "                       time  \n",
       "0 2017-01-02 09:15:00+05:30  \n",
       "1 2017-01-02 09:16:00+05:30  \n",
       "2 2017-01-02 09:17:00+05:30  \n",
       "3 2017-01-02 09:18:00+05:30  \n",
       "4 2017-01-02 09:19:00+05:30  "
      ]
     },
     "execution_count": 4,
     "metadata": {},
     "output_type": "execute_result"
    }
   ],
   "source": [
    "raw_data.head()"
   ]
  },
  {
   "cell_type": "code",
   "execution_count": 5,
   "metadata": {},
   "outputs": [
    {
     "data": {
      "text/plain": [
       "0        2017-01-02 09:15:00+05:30\n",
       "1        2017-01-02 09:16:00+05:30\n",
       "2        2017-01-02 09:17:00+05:30\n",
       "3        2017-01-02 09:18:00+05:30\n",
       "4        2017-01-02 09:19:00+05:30\n",
       "                    ...           \n",
       "370735   2021-01-01 15:25:00+05:30\n",
       "370736   2021-01-01 15:26:00+05:30\n",
       "370737   2021-01-01 15:27:00+05:30\n",
       "370738   2021-01-01 15:28:00+05:30\n",
       "370739   2021-01-01 15:29:00+05:30\n",
       "Name: time, Length: 370740, dtype: datetime64[ns, pytz.FixedOffset(330)]"
      ]
     },
     "execution_count": 5,
     "metadata": {},
     "output_type": "execute_result"
    }
   ],
   "source": [
    "raw_data['time']"
   ]
  },
  {
   "cell_type": "code",
   "execution_count": 6,
   "metadata": {},
   "outputs": [
    {
     "data": {
      "text/html": [
       "<div>\n",
       "<style scoped>\n",
       "    .dataframe tbody tr th:only-of-type {\n",
       "        vertical-align: middle;\n",
       "    }\n",
       "\n",
       "    .dataframe tbody tr th {\n",
       "        vertical-align: top;\n",
       "    }\n",
       "\n",
       "    .dataframe thead th {\n",
       "        text-align: right;\n",
       "    }\n",
       "</style>\n",
       "<table border=\"1\" class=\"dataframe\">\n",
       "  <thead>\n",
       "    <tr style=\"text-align: right;\">\n",
       "      <th></th>\n",
       "      <th>timestamp</th>\n",
       "      <th>open</th>\n",
       "      <th>high</th>\n",
       "      <th>low</th>\n",
       "      <th>close</th>\n",
       "      <th>volume</th>\n",
       "    </tr>\n",
       "    <tr>\n",
       "      <th>time</th>\n",
       "      <th></th>\n",
       "      <th></th>\n",
       "      <th></th>\n",
       "      <th></th>\n",
       "      <th></th>\n",
       "      <th></th>\n",
       "    </tr>\n",
       "  </thead>\n",
       "  <tbody>\n",
       "    <tr>\n",
       "      <th>2017-01-02 09:15:00+05:30</th>\n",
       "      <td>2017-01-02 09:15:00+05:30</td>\n",
       "      <td>8409.60</td>\n",
       "      <td>8409.75</td>\n",
       "      <td>8390.75</td>\n",
       "      <td>8391.10</td>\n",
       "      <td>0.0</td>\n",
       "    </tr>\n",
       "    <tr>\n",
       "      <th>2017-01-02 09:16:00+05:30</th>\n",
       "      <td>2017-01-02 09:16:00+05:30</td>\n",
       "      <td>8391.85</td>\n",
       "      <td>8395.35</td>\n",
       "      <td>8390.40</td>\n",
       "      <td>8391.15</td>\n",
       "      <td>0.0</td>\n",
       "    </tr>\n",
       "    <tr>\n",
       "      <th>2017-01-02 09:17:00+05:30</th>\n",
       "      <td>2017-01-02 09:17:00+05:30</td>\n",
       "      <td>8391.15</td>\n",
       "      <td>8391.55</td>\n",
       "      <td>8373.60</td>\n",
       "      <td>8373.60</td>\n",
       "      <td>0.0</td>\n",
       "    </tr>\n",
       "    <tr>\n",
       "      <th>2017-01-02 09:18:00+05:30</th>\n",
       "      <td>2017-01-02 09:18:00+05:30</td>\n",
       "      <td>8373.60</td>\n",
       "      <td>8376.75</td>\n",
       "      <td>8369.90</td>\n",
       "      <td>8376.75</td>\n",
       "      <td>0.0</td>\n",
       "    </tr>\n",
       "    <tr>\n",
       "      <th>2017-01-02 09:19:00+05:30</th>\n",
       "      <td>2017-01-02 09:19:00+05:30</td>\n",
       "      <td>8376.95</td>\n",
       "      <td>8377.25</td>\n",
       "      <td>8372.60</td>\n",
       "      <td>8373.70</td>\n",
       "      <td>0.0</td>\n",
       "    </tr>\n",
       "  </tbody>\n",
       "</table>\n",
       "</div>"
      ],
      "text/plain": [
       "                                           timestamp     open     high  \\\n",
       "time                                                                     \n",
       "2017-01-02 09:15:00+05:30  2017-01-02 09:15:00+05:30  8409.60  8409.75   \n",
       "2017-01-02 09:16:00+05:30  2017-01-02 09:16:00+05:30  8391.85  8395.35   \n",
       "2017-01-02 09:17:00+05:30  2017-01-02 09:17:00+05:30  8391.15  8391.55   \n",
       "2017-01-02 09:18:00+05:30  2017-01-02 09:18:00+05:30  8373.60  8376.75   \n",
       "2017-01-02 09:19:00+05:30  2017-01-02 09:19:00+05:30  8376.95  8377.25   \n",
       "\n",
       "                               low    close  volume  \n",
       "time                                                 \n",
       "2017-01-02 09:15:00+05:30  8390.75  8391.10     0.0  \n",
       "2017-01-02 09:16:00+05:30  8390.40  8391.15     0.0  \n",
       "2017-01-02 09:17:00+05:30  8373.60  8373.60     0.0  \n",
       "2017-01-02 09:18:00+05:30  8369.90  8376.75     0.0  \n",
       "2017-01-02 09:19:00+05:30  8372.60  8373.70     0.0  "
      ]
     },
     "execution_count": 6,
     "metadata": {},
     "output_type": "execute_result"
    }
   ],
   "source": [
    "test_20210101 = raw_data.loc[raw_data.time.apply(lambda x:x.date()==raw_data.time[0].date())].set_index('time')\n",
    "test_20210101.head()"
   ]
  },
  {
   "cell_type": "code",
   "execution_count": 7,
   "metadata": {},
   "outputs": [
    {
     "data": {
      "text/plain": [
       "Timestamp('2017-01-02 09:15:00+0530', tz='pytz.FixedOffset(330)')"
      ]
     },
     "execution_count": 7,
     "metadata": {},
     "output_type": "execute_result"
    }
   ],
   "source": [
    "raw_data.time.min()"
   ]
  },
  {
   "cell_type": "code",
   "execution_count": 8,
   "metadata": {},
   "outputs": [
    {
     "data": {
      "text/plain": [
       "Timestamp('2021-01-01 15:29:00+0530', tz='pytz.FixedOffset(330)')"
      ]
     },
     "execution_count": 8,
     "metadata": {},
     "output_type": "execute_result"
    }
   ],
   "source": [
    "raw_data.time.max()"
   ]
  },
  {
   "cell_type": "code",
   "execution_count": 9,
   "metadata": {},
   "outputs": [],
   "source": [
    "raw_data = raw_data.set_index('time')"
   ]
  },
  {
   "cell_type": "code",
   "execution_count": 10,
   "metadata": {
    "scrolled": false
   },
   "outputs": [
    {
     "name": "stderr",
     "output_type": "stream",
     "text": [
      "C:\\Users\\sohyun\\Anaconda3\\lib\\site-packages\\pandas\\plotting\\_matplotlib\\converter.py:256: MatplotlibDeprecationWarning: \n",
      "The epoch2num function was deprecated in Matplotlib 3.3 and will be removed two minor releases later.\n",
      "  base = dates.epoch2num(dt.asi8 / 1.0e9)\n"
     ]
    },
    {
     "data": {
      "image/png": "[encoded data removed]",
      "text/plain": [
       "<Figure size 720x504 with 1 Axes>"
      ]
     },
     "metadata": {
      "needs_background": "light"
     },
     "output_type": "display_data"
    }
   ],
   "source": [
    "plt.figure(figsize=(10,7))\n",
    "raw_data.close.plot(fontsize=15)\n",
    "plt.xlabel('Date',fontsize=15)\n",
    "plt.ylabel('Closing Price',fontsize=15)\n",
    "plt.title('Daily Closing Price of NIFTY 100 from 2017-01-02 to 2021-01-01', fontsize = 15)\n",
    "plt.show()"
   ]
  },
  {
   "cell_type": "code",
   "execution_count": 11,
   "metadata": {
    "scrolled": false
   },
   "outputs": [
    {
     "name": "stderr",
     "output_type": "stream",
     "text": [
      "C:\\Users\\sohyun\\Anaconda3\\lib\\site-packages\\pandas\\plotting\\_matplotlib\\converter.py:256: MatplotlibDeprecationWarning: \n",
      "The epoch2num function was deprecated in Matplotlib 3.3 and will be removed two minor releases later.\n",
      "  base = dates.epoch2num(dt.asi8 / 1.0e9)\n"
     ]
    },
    {
     "data": {
      "image/png": "[encoded data removed]",
      "text/plain": [
       "<Figure size 720x504 with 1 Axes>"
      ]
     },
     "metadata": {
      "needs_background": "light"
     },
     "output_type": "display_data"
    }
   ],
   "source": [
    "plt.figure(figsize=(10,7))\n",
    "test_20210101.close.plot(fontsize=15)\n",
    "plt.xlabel('Time',fontsize=15)\n",
    "plt.ylabel('Closing Price ',fontsize=15)\n",
    "plt.show()"
   ]
  },
  {
   "cell_type": "markdown",
   "metadata": {},
   "source": [
    "### All: Concat 8:30 - end"
   ]
  },
  {
   "cell_type": "code",
   "execution_count": 12,
   "metadata": {},
   "outputs": [
    {
     "ename": "NameError",
     "evalue": "name 'raw_fp' is not defined",
     "output_type": "error",
     "traceback": [
      "\u001b[1;31m---------------------------------------------------------------------------\u001b[0m",
      "\u001b[1;31mNameError\u001b[0m                                 Traceback (most recent call last)",
      "\u001b[1;32m<ipython-input-12-5b555fd5404e>\u001b[0m in \u001b[0;36m<module>\u001b[1;34m\u001b[0m\n\u001b[1;32m----> 1\u001b[1;33m \u001b[0mdm_fp\u001b[0m \u001b[1;33m=\u001b[0m \u001b[0mos\u001b[0m\u001b[1;33m.\u001b[0m\u001b[0mpath\u001b[0m\u001b[1;33m.\u001b[0m\u001b[0mjoin\u001b[0m\u001b[1;33m(\u001b[0m\u001b[0mraw_fp\u001b[0m\u001b[1;33m,\u001b[0m \u001b[0mdata_market_name\u001b[0m\u001b[1;33m)\u001b[0m\u001b[1;33m\u001b[0m\u001b[1;33m\u001b[0m\u001b[0m\n\u001b[0m\u001b[0;32m      2\u001b[0m \u001b[0mdata_market\u001b[0m \u001b[1;33m=\u001b[0m \u001b[0mpd\u001b[0m\u001b[1;33m.\u001b[0m\u001b[0mread_csv\u001b[0m\u001b[1;33m(\u001b[0m\u001b[0mdm_fp\u001b[0m\u001b[1;33m,\u001b[0m \u001b[0mparse_dates\u001b[0m\u001b[1;33m=\u001b[0m\u001b[1;33m[\u001b[0m\u001b[1;34m'time'\u001b[0m\u001b[1;33m]\u001b[0m\u001b[1;33m)\u001b[0m\u001b[1;33m\u001b[0m\u001b[1;33m\u001b[0m\u001b[0m\n",
      "\u001b[1;31mNameError\u001b[0m: name 'raw_fp' is not defined"
     ]
    }
   ],
   "source": [
    "dm_fp = os.path.join(raw_fp, data_market_name)\n",
    "data_market = pd.read_csv(dm_fp, parse_dates=['time'])"
   ]
  },
  {
   "cell_type": "code",
   "execution_count": null,
   "metadata": {},
   "outputs": [],
   "source": [
    "data_market.head()"
   ]
  },
  {
   "cell_type": "code",
   "execution_count": null,
   "metadata": {},
   "outputs": [],
   "source": [
    "data_market_vol_20210115 = data_market.loc[data_market.time.apply(lambda x:x.date()==data_market.time[0].date())].set_index('time')\n",
    "data_market_vol_20210115.head()"
   ]
  },
  {
   "cell_type": "code",
   "execution_count": null,
   "metadata": {},
   "outputs": [],
   "source": [
    "data_all = pd.concat([data_vol_20210115, data_market_vol_20210115])\n",
    "data_all.head()"
   ]
  },
  {
   "cell_type": "code",
   "execution_count": null,
   "metadata": {},
   "outputs": [],
   "source": [
    "# data_all.to_csv('test_all_vol_20210115.csv')"
   ]
  },
  {
   "cell_type": "code",
   "execution_count": null,
   "metadata": {},
   "outputs": [],
   "source": [
    "data_all.reset_index().time.min()"
   ]
  },
  {
   "cell_type": "code",
   "execution_count": null,
   "metadata": {},
   "outputs": [],
   "source": [
    "data_all.reset_index().time.max()"
   ]
  },
  {
   "cell_type": "code",
   "execution_count": null,
   "metadata": {},
   "outputs": [],
   "source": [
    "plt.figure(figsize=(10,7))\n",
    "data_all.close.plot(fontsize=18)\n",
    "plt.xlabel('Time',fontsize=18)\n",
    "plt.ylabel('Closing Price ',fontsize=18)\n",
    "plt.show()"
   ]
  },
  {
   "cell_type": "code",
   "execution_count": null,
   "metadata": {},
   "outputs": [],
   "source": [
    "plt.figure(figsize=(10,7))\n",
    "data_all.Volatility.plot(fontsize=18)\n",
    "plt.xlabel('Time',fontsize=18)\n",
    "plt.ylabel('Price Volatility',fontsize=18)\n",
    "plt.show()"
   ]
  },
  {
   "cell_type": "markdown",
   "metadata": {},
   "source": [
    "## Image Data"
   ]
  },
  {
   "cell_type": "code",
   "execution_count": null,
   "metadata": {},
   "outputs": [],
   "source": [
    "img_folder = '../data/imgs'"
   ]
  },
  {
   "cell_type": "code",
   "execution_count": null,
   "metadata": {},
   "outputs": [],
   "source": [
    "gdf_ref_fn = 'gramian_date_img_reference.csv'\n",
    "gdf_ref = pd.read_csv(os.path.join(raw_fp, gdf_ref_fn))"
   ]
  },
  {
   "cell_type": "code",
   "execution_count": null,
   "metadata": {},
   "outputs": [],
   "source": [
    "img_idx_20200115 = gdf_ref[gdf_ref.date=='2020-01-15'].index[0]\n",
    "img_idx_20200115"
   ]
  },
  {
   "cell_type": "code",
   "execution_count": null,
   "metadata": {},
   "outputs": [],
   "source": [
    "gramian_df = pd.read_csv(os.path.join(raw_fp, '../data/gramian_df.csv'))"
   ]
  },
  {
   "cell_type": "code",
   "execution_count": null,
   "metadata": {},
   "outputs": [],
   "source": [
    "gramian_df.head()"
   ]
  },
  {
   "cell_type": "code",
   "execution_count": null,
   "metadata": {},
   "outputs": [],
   "source": [
    "gdf_df_20200115 = gramian_df.iloc[img_idx_20200115]"
   ]
  },
  {
   "cell_type": "code",
   "execution_count": null,
   "metadata": {},
   "outputs": [],
   "source": [
    "temp = gdf_df_20200115[:-1]"
   ]
  },
  {
   "cell_type": "code",
   "execution_count": null,
   "metadata": {},
   "outputs": [],
   "source": [
    "im = Image.open(img_folder+'/'+'2021-01-15.png')#.shape\n",
    "im"
   ]
  },
  {
   "cell_type": "code",
   "execution_count": null,
   "metadata": {},
   "outputs": [],
   "source": [
    "im.size"
   ]
  },
  {
   "cell_type": "code",
   "execution_count": null,
   "metadata": {},
   "outputs": [],
   "source": [
    "from sklearn.preprocessing import MinMaxScaler\n",
    "from pyts.image import GramianAngularField"
   ]
  },
  {
   "cell_type": "code",
   "execution_count": null,
   "metadata": {},
   "outputs": [],
   "source": [
    "scaler = MinMaxScaler(feature_range=(-1,1))\n",
    "# did not flatten the images\n",
    "gadf = GramianAngularField(sample_range=(-1,1), method='difference')\n",
    "curr_row = gramian_df.iloc[img_idx_20200115].dropna().to_frame().T\n",
    "# Scale the data to be between -1 and 1\n",
    "curr_feat = scaler.fit_transform(curr_row)\n",
    "# gramian\n",
    "curr_X_gadf = gadf.fit_transform(curr_feat)"
   ]
  },
  {
   "cell_type": "code",
   "execution_count": null,
   "metadata": {},
   "outputs": [],
   "source": [
    "pd.DataFrame(curr_X_gadf[:,:,1])"
   ]
  },
  {
   "cell_type": "code",
   "execution_count": null,
   "metadata": {},
   "outputs": [],
   "source": [
    "curr_X_gadf"
   ]
  },
  {
   "cell_type": "code",
   "execution_count": null,
   "metadata": {},
   "outputs": [],
   "source": []
  }
 ],
 "metadata": {
  "kernelspec": {
   "display_name": "Python 3",
   "language": "python",
   "name": "python3"
  },
  "language_info": {
   "codemirror_mode": {
    "name": "ipython",
    "version": 3
   },
   "file_extension": ".py",
   "mimetype": "text/x-python",
   "name": "python",
   "nbconvert_exporter": "python",
   "pygments_lexer": "ipython3",
   "version": "3.7.3"
  }
 },
 "nbformat": 4,
 "nbformat_minor": 4
}
