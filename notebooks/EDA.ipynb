{
 "cells": [
  {
   "cell_type": "markdown",
   "metadata": {},
   "source": [
    "# EDA"
   ]
  },
  {
   "cell_type": "code",
   "execution_count": 4,
   "metadata": {},
   "outputs": [],
   "source": [
    "import numpy as np\n",
    "import pandas as pd"
   ]
  },
  {
   "cell_type": "code",
   "execution_count": 9,
   "metadata": {},
   "outputs": [
    {
     "data": {
      "text/html": [
       "<div>\n",
       "<style scoped>\n",
       "    .dataframe tbody tr th:only-of-type {\n",
       "        vertical-align: middle;\n",
       "    }\n",
       "\n",
       "    .dataframe tbody tr th {\n",
       "        vertical-align: top;\n",
       "    }\n",
       "\n",
       "    .dataframe thead th {\n",
       "        text-align: right;\n",
       "    }\n",
       "</style>\n",
       "<table border=\"1\" class=\"dataframe\">\n",
       "  <thead>\n",
       "    <tr style=\"text-align: right;\">\n",
       "      <th></th>\n",
       "      <th>Datetime</th>\n",
       "      <th>Open</th>\n",
       "      <th>High</th>\n",
       "      <th>Low</th>\n",
       "      <th>Close</th>\n",
       "      <th>Adj Close</th>\n",
       "      <th>Volume</th>\n",
       "    </tr>\n",
       "  </thead>\n",
       "  <tbody>\n",
       "    <tr>\n",
       "      <th>0</th>\n",
       "      <td>2020-09-10 15:30:00-04:00</td>\n",
       "      <td>334.040009</td>\n",
       "      <td>335.649994</td>\n",
       "      <td>333.570007</td>\n",
       "      <td>333.910004</td>\n",
       "      <td>333.910004</td>\n",
       "      <td>16326527</td>\n",
       "    </tr>\n",
       "    <tr>\n",
       "      <th>1</th>\n",
       "      <td>2020-09-11 09:30:00-04:00</td>\n",
       "      <td>335.820007</td>\n",
       "      <td>336.529999</td>\n",
       "      <td>333.709991</td>\n",
       "      <td>335.459991</td>\n",
       "      <td>335.459991</td>\n",
       "      <td>14243854</td>\n",
       "    </tr>\n",
       "    <tr>\n",
       "      <th>2</th>\n",
       "      <td>2020-09-11 10:30:00-04:00</td>\n",
       "      <td>335.459991</td>\n",
       "      <td>336.970001</td>\n",
       "      <td>334.540009</td>\n",
       "      <td>335.559998</td>\n",
       "      <td>335.559998</td>\n",
       "      <td>9551741</td>\n",
       "    </tr>\n",
       "    <tr>\n",
       "      <th>3</th>\n",
       "      <td>2020-09-11 11:30:00-04:00</td>\n",
       "      <td>335.549988</td>\n",
       "      <td>335.859985</td>\n",
       "      <td>334.380005</td>\n",
       "      <td>335.239990</td>\n",
       "      <td>335.239990</td>\n",
       "      <td>6998188</td>\n",
       "    </tr>\n",
       "    <tr>\n",
       "      <th>4</th>\n",
       "      <td>2020-09-11 12:30:00-04:00</td>\n",
       "      <td>335.230011</td>\n",
       "      <td>335.230011</td>\n",
       "      <td>331.589996</td>\n",
       "      <td>331.700012</td>\n",
       "      <td>331.700012</td>\n",
       "      <td>11105456</td>\n",
       "    </tr>\n",
       "  </tbody>\n",
       "</table>\n",
       "</div>"
      ],
      "text/plain": [
       "                    Datetime        Open        High         Low       Close  \\\n",
       "0  2020-09-10 15:30:00-04:00  334.040009  335.649994  333.570007  333.910004   \n",
       "1  2020-09-11 09:30:00-04:00  335.820007  336.529999  333.709991  335.459991   \n",
       "2  2020-09-11 10:30:00-04:00  335.459991  336.970001  334.540009  335.559998   \n",
       "3  2020-09-11 11:30:00-04:00  335.549988  335.859985  334.380005  335.239990   \n",
       "4  2020-09-11 12:30:00-04:00  335.230011  335.230011  331.589996  331.700012   \n",
       "\n",
       "    Adj Close    Volume  \n",
       "0  333.910004  16326527  \n",
       "1  335.459991  14243854  \n",
       "2  335.559998   9551741  \n",
       "3  335.239990   6998188  \n",
       "4  331.700012  11105456  "
      ]
     },
     "execution_count": 9,
     "metadata": {},
     "output_type": "execute_result"
    }
   ],
   "source": [
    "path = '../data/'\n",
    "stock_df = pd.read_csv(path+'test_spy_200101_201231.csv')\n",
    "stock_df.head()"
   ]
  },
  {
   "cell_type": "code",
   "execution_count": null,
   "metadata": {},
   "outputs": [],
   "source": []
  }
 ],
 "metadata": {
  "kernelspec": {
   "display_name": "Python 3",
   "language": "python",
   "name": "python3"
  },
  "language_info": {
   "codemirror_mode": {
    "name": "ipython",
    "version": 3
   },
   "file_extension": ".py",
   "mimetype": "text/x-python",
   "name": "python",
   "nbconvert_exporter": "python",
   "pygments_lexer": "ipython3",
   "version": "3.7.3"
  }
 },
 "nbformat": 4,
 "nbformat_minor": 4
}
