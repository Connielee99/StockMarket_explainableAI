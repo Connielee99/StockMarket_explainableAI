{
 "cells": [
  {
   "cell_type": "code",
   "execution_count": 15,
   "metadata": {},
   "outputs": [],
   "source": [
    "import os\n",
    "from os import listdir\n",
    "import pandas as pd\n",
    "import datetime"
   ]
  },
  {
   "cell_type": "code",
   "execution_count": 14,
   "metadata": {},
   "outputs": [],
   "source": [
    "# file paths\n",
    "\n",
    "# raw data path\n",
    "raw_path = '../../data/TSLA/RawData/'\n",
    "# processed data path\n",
    "data_path = '../../data/TSLA/ProcData'\n",
    "# merged filtered file name\n",
    "merged_data = 'merge_filter_data.csv'\n",
    "# feature engineered file name\n",
    "feat_data = 'feat_eng_data.csv'\n",
    "# data with time + volatility\n",
    "vol_data = 'data_vol.csv'"
   ]
  },
  {
   "cell_type": "markdown",
   "metadata": {},
   "source": [
    "Merge and Preprocess raw data"
   ]
  },
  {
   "cell_type": "code",
   "execution_count": 15,
   "metadata": {},
   "outputs": [],
   "source": [
    "# obtain needed data for processing\n",
    "# Filter out data to use volatility on data an hour prior to market open\n",
    "# Market Open: NYSE open Monday-Friday 9:30am to 4pm. Eastern time\n",
    "def raw_to_data(fp):\n",
    "    \n",
    "    # read in data\n",
    "    data = pd.read_csv(fp)\n",
    "    # convert time column time zone\n",
    "    data.time = pd.DatetimeIndex(data.time).tz_localize('US/Eastern')\n",
    "    # filter out data for use\n",
    "    market_open_time = datetime.time(hour=9, minute=30)\n",
    "    market_1hr_early = datetime.time(hour=8, minute=30)\n",
    "    data = data.loc[data.time.apply(lambda date:(date.time()<=market_open_time)\n",
    "                        and (date.time()>=market_1hr_early)\n",
    "                        )]\n",
    "    data.reset_index(drop=True, inplace=True)\n",
    "    \n",
    "    return data"
   ]
  },
  {
   "cell_type": "code",
   "execution_count": 16,
   "metadata": {},
   "outputs": [],
   "source": [
    "# merge processed files from raw path to data path\n",
    "def merge_data(raw_path):\n",
    "    \n",
    "    # output dataframe\n",
    "    output = pd.DataFrame()\n",
    "    # all files to be processed\n",
    "    raw_files = listdir(raw_path)\n",
    "    \n",
    "    for curr_file in raw_files:\n",
    "        fp = raw_path + curr_file\n",
    "        data = raw_to_data(fp)\n",
    "        output = pd.concat([output, data])\n",
    "    \n",
    "    return output"
   ]
  },
  {
   "cell_type": "code",
   "execution_count": 22,
   "metadata": {},
   "outputs": [],
   "source": [
    "data = merge_data(raw_path)\n",
    "# data.to_csv(data_path+'/'+merged_data, index=False)"
   ]
  },
  {
   "cell_type": "code",
   "execution_count": 23,
   "metadata": {},
   "outputs": [],
   "source": [
    "# data = pd.read_csv(data_path+'/'+merged_data, parse_dates=['time'])"
   ]
  },
  {
   "cell_type": "markdown",
   "metadata": {},
   "source": [
    "Feature Engineer preprocessed data for volatility analysis"
   ]
  },
  {
   "cell_type": "code",
   "execution_count": 24,
   "metadata": {},
   "outputs": [],
   "source": [
    "def feature_engineer(data, time_wdw):\n",
    "    \n",
    "    # for time series indexing\n",
    "    data.set_index('time', inplace=True)\n",
    "    \n",
    "    # High-Low within minute bar\n",
    "    data['diff'] = data.high-data.low\n",
    "    # Volitility Analysis\n",
    "    vol = data['diff'].rolling(time_wdw).mean()\n",
    "    data = data.assign(Volatility=vol)\n",
    "    # for modelling purpose\n",
    "    data.dropna(axis=0, inplace=True)\n",
    "    data.reset_index(inplace = True)\n",
    "    \n",
    "    return data"
   ]
  },
  {
   "cell_type": "code",
   "execution_count": 25,
   "metadata": {},
   "outputs": [],
   "source": [
    "data = feature_engineer(data, 5)\n",
    "\n",
    "# data.to_csv(data_path+'/'+feat_data, index=False)"
   ]
  },
  {
   "cell_type": "markdown",
   "metadata": {},
   "source": [
    "Date and Volatility Column for Further Inspection"
   ]
  },
  {
   "cell_type": "code",
   "execution_count": 26,
   "metadata": {},
   "outputs": [
    {
     "data": {
      "text/html": [
       "<div>\n",
       "<style scoped>\n",
       "    .dataframe tbody tr th:only-of-type {\n",
       "        vertical-align: middle;\n",
       "    }\n",
       "\n",
       "    .dataframe tbody tr th {\n",
       "        vertical-align: top;\n",
       "    }\n",
       "\n",
       "    .dataframe thead th {\n",
       "        text-align: right;\n",
       "    }\n",
       "</style>\n",
       "<table border=\"1\" class=\"dataframe\">\n",
       "  <thead>\n",
       "    <tr style=\"text-align: right;\">\n",
       "      <th></th>\n",
       "      <th>time</th>\n",
       "      <th>open</th>\n",
       "      <th>high</th>\n",
       "      <th>low</th>\n",
       "      <th>close</th>\n",
       "      <th>volume</th>\n",
       "      <th>diff</th>\n",
       "      <th>Volatility</th>\n",
       "    </tr>\n",
       "  </thead>\n",
       "  <tbody>\n",
       "    <tr>\n",
       "      <th>0</th>\n",
       "      <td>2021-01-15 09:26:00-05:00</td>\n",
       "      <td>852.98</td>\n",
       "      <td>853.25</td>\n",
       "      <td>852.98</td>\n",
       "      <td>853.25</td>\n",
       "      <td>3460</td>\n",
       "      <td>0.27</td>\n",
       "      <td>1.20796</td>\n",
       "    </tr>\n",
       "    <tr>\n",
       "      <th>1</th>\n",
       "      <td>2021-01-15 09:25:00-05:00</td>\n",
       "      <td>852.75</td>\n",
       "      <td>853.00</td>\n",
       "      <td>852.75</td>\n",
       "      <td>852.85</td>\n",
       "      <td>4066</td>\n",
       "      <td>0.25</td>\n",
       "      <td>0.52396</td>\n",
       "    </tr>\n",
       "    <tr>\n",
       "      <th>2</th>\n",
       "      <td>2021-01-15 09:24:00-05:00</td>\n",
       "      <td>853.20</td>\n",
       "      <td>853.20</td>\n",
       "      <td>852.50</td>\n",
       "      <td>852.80</td>\n",
       "      <td>5050</td>\n",
       "      <td>0.70</td>\n",
       "      <td>0.36396</td>\n",
       "    </tr>\n",
       "    <tr>\n",
       "      <th>3</th>\n",
       "      <td>2021-01-15 09:23:00-05:00</td>\n",
       "      <td>853.43</td>\n",
       "      <td>853.45</td>\n",
       "      <td>853.25</td>\n",
       "      <td>853.25</td>\n",
       "      <td>3859</td>\n",
       "      <td>0.20</td>\n",
       "      <td>0.31396</td>\n",
       "    </tr>\n",
       "    <tr>\n",
       "      <th>4</th>\n",
       "      <td>2021-01-15 09:22:00-05:00</td>\n",
       "      <td>853.50</td>\n",
       "      <td>853.50</td>\n",
       "      <td>853.50</td>\n",
       "      <td>853.50</td>\n",
       "      <td>1805</td>\n",
       "      <td>0.00</td>\n",
       "      <td>0.28400</td>\n",
       "    </tr>\n",
       "  </tbody>\n",
       "</table>\n",
       "</div>"
      ],
      "text/plain": [
       "                        time    open    high     low   close  volume  diff  \\\n",
       "0  2021-01-15 09:26:00-05:00  852.98  853.25  852.98  853.25    3460  0.27   \n",
       "1  2021-01-15 09:25:00-05:00  852.75  853.00  852.75  852.85    4066  0.25   \n",
       "2  2021-01-15 09:24:00-05:00  853.20  853.20  852.50  852.80    5050  0.70   \n",
       "3  2021-01-15 09:23:00-05:00  853.43  853.45  853.25  853.25    3859  0.20   \n",
       "4  2021-01-15 09:22:00-05:00  853.50  853.50  853.50  853.50    1805  0.00   \n",
       "\n",
       "   Volatility  \n",
       "0     1.20796  \n",
       "1     0.52396  \n",
       "2     0.36396  \n",
       "3     0.31396  \n",
       "4     0.28400  "
      ]
     },
     "execution_count": 26,
     "metadata": {},
     "output_type": "execute_result"
    }
   ],
   "source": [
    "data = pd.read_csv(data_path+'/'+feat_data, parse_dates=['time'])\n",
    "data.head()"
   ]
  },
  {
   "cell_type": "code",
   "execution_count": 29,
   "metadata": {},
   "outputs": [],
   "source": [
    "data = data.assign(date=data.time.apply(lambda x:x.date()))\n",
    "data = data[['date','Volatility']]\n",
    "# data.to_csv(data_path+'/'+vol_data, index=False)"
   ]
  }
 ],
 "metadata": {
  "kernelspec": {
   "display_name": "Python 3",
   "language": "python",
   "name": "python3"
  },
  "language_info": {
   "codemirror_mode": {
    "name": "ipython",
    "version": 3
   },
   "file_extension": ".py",
   "mimetype": "text/x-python",
   "name": "python",
   "nbconvert_exporter": "python",
   "pygments_lexer": "ipython3",
   "version": "3.8.5"
  }
 },
 "nbformat": 4,
 "nbformat_minor": 4
}
