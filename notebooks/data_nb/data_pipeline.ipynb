{
 "cells": [
  {
   "cell_type": "code",
   "execution_count": 1,
   "metadata": {},
   "outputs": [],
   "source": [
    "import os\n",
    "from os import listdir\n",
    "import pandas as pd\n",
    "import datetime"
   ]
  },
  {
   "cell_type": "code",
   "execution_count": 2,
   "metadata": {},
   "outputs": [],
   "source": [
    "# file paths\n",
    "\n",
    "# raw data path\n",
    "raw_path = '../../data/TSLA/RawData/'\n",
    "# processed data path\n",
    "data_path = '../../data/TSLA/ProcData'\n",
    "# merged filtered file name\n",
    "merged_data = 'merge_filter_data.csv'\n",
    "# feature engineered file name\n",
    "feat_data = 'feat_eng_data.csv'\n",
    "# data with time + volatility\n",
    "vol_data = 'data_vol.csv'\n",
    "label_data = 'label.csv'"
   ]
  },
  {
   "cell_type": "markdown",
   "metadata": {},
   "source": [
    "Merge and Preprocess raw data"
   ]
  },
  {
   "cell_type": "code",
   "execution_count": 3,
   "metadata": {},
   "outputs": [],
   "source": [
    "# obtain needed data for processing\n",
    "# Filter out data to use volatility on data an hour prior to market open\n",
    "# Market Open: NYSE open Monday-Friday 9:30am to 4pm. Eastern time\n",
    "def raw_to_data(fp):\n",
    "    \n",
    "    # read in data\n",
    "    data = pd.read_csv(fp)\n",
    "    # convert time column time zone\n",
    "    data.time = pd.DatetimeIndex(data.time).tz_localize('US/Eastern')\n",
    "    # filter out data for use\n",
    "    market_open_time = datetime.time(hour=9, minute=30)\n",
    "    market_1hr_early = datetime.time(hour=8, minute=30)\n",
    "    data = data.loc[data.time.apply(lambda date:(date.time()<=market_open_time)\n",
    "                        and (date.time()>=market_1hr_early)\n",
    "                        )]\n",
    "    data.reset_index(drop=True, inplace=True)\n",
    "    \n",
    "    return data"
   ]
  },
  {
   "cell_type": "code",
   "execution_count": 4,
   "metadata": {},
   "outputs": [],
   "source": [
    "# obtain needed data for processing\n",
    "# Filter out data to use volatility on data an hour prior to market open\n",
    "# Market Open: NYSE open Monday-Friday 9:30am to 4pm. Eastern time\n",
    "def raw_to_data_market(fp):\n",
    "    \n",
    "    # read in data\n",
    "    data = pd.read_csv(fp)\n",
    "    # convert time column time zone\n",
    "    data.time = pd.DatetimeIndex(data.time).tz_localize('US/Eastern')\n",
    "    # filter out data for use\n",
    "    market_open_time = datetime.time(hour=9, minute=30)\n",
    "    market_close_time = datetime.time(hour=16, minute=0)\n",
    "    data = data.loc[data.time.apply(lambda date:(date.time()<=market_close_time)\n",
    "                        and (date.time()>=market_open_time)\n",
    "                        )]\n",
    "    data.reset_index(drop=True, inplace=True)\n",
    "    \n",
    "    return data"
   ]
  },
  {
   "cell_type": "code",
   "execution_count": 3,
   "metadata": {},
   "outputs": [],
   "source": [
    "# merge processed files from raw path to data path\n",
    "def merge_data(raw_path):\n",
    "    \n",
    "    # output dataframe\n",
    "    output = pd.DataFrame()\n",
    "    # all files to be processed\n",
    "    raw_files = listdir(raw_path)\n",
    "    \n",
    "    for curr_file in raw_files:\n",
    "        fp = raw_path + curr_file\n",
    "        data = raw_to_data(fp)\n",
    "        output = pd.concat([output, data])\n",
    "    \n",
    "    return output"
   ]
  },
  {
   "cell_type": "code",
   "execution_count": null,
   "metadata": {},
   "outputs": [],
   "source": [
    "def merge_all_data(raw_path):\n",
    "    \n",
    "    # output dataframe\n",
    "    output = pd.DataFrame()\n",
    "    data = pd.read_csv(fp)\n",
    "    # all files to be processed\n",
    "    raw_files = listdir(raw_path)\n",
    "    \n",
    "    for curr_file in raw_files:\n",
    "        fp = raw_path + curr_file\n",
    "        data = raw_to_data(fp)\n",
    "        output = pd.concat([output, data])\n",
    "    \n",
    "    return output"
   ]
  },
  {
   "cell_type": "code",
   "execution_count": 6,
   "metadata": {},
   "outputs": [],
   "source": [
    "# merge processed files from raw path to data path\n",
    "def merge_data_market(raw_path):\n",
    "    \n",
    "    # output dataframe\n",
    "    output = pd.DataFrame()\n",
    "    # all files to be processed\n",
    "    raw_files = listdir(raw_path)\n",
    "    \n",
    "    for curr_file in raw_files:\n",
    "        fp = raw_path + curr_file\n",
    "        data = raw_to_data_market(fp)\n",
    "        output = pd.concat([output, data])\n",
    "    \n",
    "    return output"
   ]
  },
  {
   "cell_type": "code",
   "execution_count": 7,
   "metadata": {},
   "outputs": [],
   "source": [
    "data = merge_data(raw_path)\n",
    "data_market = merge_data_market(raw_path)\n",
    "# data.to_csv(data_path+'/'+merged_data, index=False)"
   ]
  },
  {
   "cell_type": "code",
   "execution_count": null,
   "metadata": {},
   "outputs": [],
   "source": [
    "#all_data = merge_data()"
   ]
  },
  {
   "cell_type": "code",
   "execution_count": 8,
   "metadata": {},
   "outputs": [],
   "source": [
    "# data = pd.read_csv(data_path+'/'+merged_data, parse_dates=['time'])"
   ]
  },
  {
   "cell_type": "markdown",
   "metadata": {},
   "source": [
    "Feature Engineer preprocessed data for volatility analysis"
   ]
  },
  {
   "cell_type": "code",
   "execution_count": 8,
   "metadata": {},
   "outputs": [],
   "source": [
    "def feature_engineer(data, time_wdw):\n",
    "    \n",
    "    # for time series indexing\n",
    "    data.set_index('time', inplace=True)\n",
    "    \n",
    "    # High-Low within minute bar\n",
    "    data['diff'] = data.high-data.low\n",
    "    # Volitility Analysis\n",
    "    vol = data['diff'].rolling(time_wdw).mean()\n",
    "    data = data.assign(Volatility=vol)\n",
    "    # for modelling purpose\n",
    "    data.dropna(axis=0, inplace=True)\n",
    "    data.reset_index(inplace = True)\n",
    "    \n",
    "    return data"
   ]
  },
  {
   "cell_type": "code",
   "execution_count": 9,
   "metadata": {},
   "outputs": [],
   "source": [
    "# data = feature_engineer(data, 5)\n",
    "data_market = feature_engineer(data_market, 5)\n",
    "\n",
    "# data.to_csv(data_path+'/'+feat_data, index=False)"
   ]
  },
  {
   "cell_type": "code",
   "execution_count": 10,
   "metadata": {},
   "outputs": [],
   "source": [
    "data_market.to_csv(data_path+'/data_market.csv', index=False)"
   ]
  },
  {
   "cell_type": "markdown",
   "metadata": {},
   "source": [
    "Date and Volatility Column for Further Inspection"
   ]
  },
  {
   "cell_type": "code",
   "execution_count": 12,
   "metadata": {},
   "outputs": [
    {
     "data": {
      "text/html": [
       "<div>\n",
       "<style scoped>\n",
       "    .dataframe tbody tr th:only-of-type {\n",
       "        vertical-align: middle;\n",
       "    }\n",
       "\n",
       "    .dataframe tbody tr th {\n",
       "        vertical-align: top;\n",
       "    }\n",
       "\n",
       "    .dataframe thead th {\n",
       "        text-align: right;\n",
       "    }\n",
       "</style>\n",
       "<table border=\"1\" class=\"dataframe\">\n",
       "  <thead>\n",
       "    <tr style=\"text-align: right;\">\n",
       "      <th></th>\n",
       "      <th>time</th>\n",
       "      <th>open</th>\n",
       "      <th>high</th>\n",
       "      <th>low</th>\n",
       "      <th>close</th>\n",
       "      <th>volume</th>\n",
       "      <th>diff</th>\n",
       "      <th>Volatility</th>\n",
       "    </tr>\n",
       "  </thead>\n",
       "  <tbody>\n",
       "    <tr>\n",
       "      <th>0</th>\n",
       "      <td>2021-01-15 09:26:00-05:00</td>\n",
       "      <td>852.98</td>\n",
       "      <td>853.25</td>\n",
       "      <td>852.98</td>\n",
       "      <td>853.25</td>\n",
       "      <td>3460</td>\n",
       "      <td>0.27</td>\n",
       "      <td>1.20796</td>\n",
       "    </tr>\n",
       "    <tr>\n",
       "      <th>1</th>\n",
       "      <td>2021-01-15 09:25:00-05:00</td>\n",
       "      <td>852.75</td>\n",
       "      <td>853.00</td>\n",
       "      <td>852.75</td>\n",
       "      <td>852.85</td>\n",
       "      <td>4066</td>\n",
       "      <td>0.25</td>\n",
       "      <td>0.52396</td>\n",
       "    </tr>\n",
       "    <tr>\n",
       "      <th>2</th>\n",
       "      <td>2021-01-15 09:24:00-05:00</td>\n",
       "      <td>853.20</td>\n",
       "      <td>853.20</td>\n",
       "      <td>852.50</td>\n",
       "      <td>852.80</td>\n",
       "      <td>5050</td>\n",
       "      <td>0.70</td>\n",
       "      <td>0.36396</td>\n",
       "    </tr>\n",
       "    <tr>\n",
       "      <th>3</th>\n",
       "      <td>2021-01-15 09:23:00-05:00</td>\n",
       "      <td>853.43</td>\n",
       "      <td>853.45</td>\n",
       "      <td>853.25</td>\n",
       "      <td>853.25</td>\n",
       "      <td>3859</td>\n",
       "      <td>0.20</td>\n",
       "      <td>0.31396</td>\n",
       "    </tr>\n",
       "    <tr>\n",
       "      <th>4</th>\n",
       "      <td>2021-01-15 09:22:00-05:00</td>\n",
       "      <td>853.50</td>\n",
       "      <td>853.50</td>\n",
       "      <td>853.50</td>\n",
       "      <td>853.50</td>\n",
       "      <td>1805</td>\n",
       "      <td>0.00</td>\n",
       "      <td>0.28400</td>\n",
       "    </tr>\n",
       "  </tbody>\n",
       "</table>\n",
       "</div>"
      ],
      "text/plain": [
       "                        time    open    high     low   close  volume  diff  \\\n",
       "0  2021-01-15 09:26:00-05:00  852.98  853.25  852.98  853.25    3460  0.27   \n",
       "1  2021-01-15 09:25:00-05:00  852.75  853.00  852.75  852.85    4066  0.25   \n",
       "2  2021-01-15 09:24:00-05:00  853.20  853.20  852.50  852.80    5050  0.70   \n",
       "3  2021-01-15 09:23:00-05:00  853.43  853.45  853.25  853.25    3859  0.20   \n",
       "4  2021-01-15 09:22:00-05:00  853.50  853.50  853.50  853.50    1805  0.00   \n",
       "\n",
       "   Volatility  \n",
       "0     1.20796  \n",
       "1     0.52396  \n",
       "2     0.36396  \n",
       "3     0.31396  \n",
       "4     0.28400  "
      ]
     },
     "execution_count": 12,
     "metadata": {},
     "output_type": "execute_result"
    }
   ],
   "source": [
    "data = pd.read_csv(data_path+'/'+feat_data, parse_dates=['time'])\n",
    "data.head()"
   ]
  },
  {
   "cell_type": "code",
   "execution_count": 13,
   "metadata": {},
   "outputs": [
    {
     "data": {
      "text/html": [
       "<div>\n",
       "<style scoped>\n",
       "    .dataframe tbody tr th:only-of-type {\n",
       "        vertical-align: middle;\n",
       "    }\n",
       "\n",
       "    .dataframe tbody tr th {\n",
       "        vertical-align: top;\n",
       "    }\n",
       "\n",
       "    .dataframe thead th {\n",
       "        text-align: right;\n",
       "    }\n",
       "</style>\n",
       "<table border=\"1\" class=\"dataframe\">\n",
       "  <thead>\n",
       "    <tr style=\"text-align: right;\">\n",
       "      <th></th>\n",
       "      <th>time</th>\n",
       "      <th>open</th>\n",
       "      <th>high</th>\n",
       "      <th>low</th>\n",
       "      <th>close</th>\n",
       "      <th>volume</th>\n",
       "      <th>diff</th>\n",
       "      <th>Volatility</th>\n",
       "      <th>date</th>\n",
       "    </tr>\n",
       "  </thead>\n",
       "  <tbody>\n",
       "    <tr>\n",
       "      <th>0</th>\n",
       "      <td>2021-01-15 09:26:00-05:00</td>\n",
       "      <td>852.98</td>\n",
       "      <td>853.25</td>\n",
       "      <td>852.98</td>\n",
       "      <td>853.25</td>\n",
       "      <td>3460</td>\n",
       "      <td>0.27</td>\n",
       "      <td>1.20796</td>\n",
       "      <td>2021-01-15</td>\n",
       "    </tr>\n",
       "    <tr>\n",
       "      <th>1</th>\n",
       "      <td>2021-01-15 09:25:00-05:00</td>\n",
       "      <td>852.75</td>\n",
       "      <td>853.00</td>\n",
       "      <td>852.75</td>\n",
       "      <td>852.85</td>\n",
       "      <td>4066</td>\n",
       "      <td>0.25</td>\n",
       "      <td>0.52396</td>\n",
       "      <td>2021-01-15</td>\n",
       "    </tr>\n",
       "    <tr>\n",
       "      <th>2</th>\n",
       "      <td>2021-01-15 09:24:00-05:00</td>\n",
       "      <td>853.20</td>\n",
       "      <td>853.20</td>\n",
       "      <td>852.50</td>\n",
       "      <td>852.80</td>\n",
       "      <td>5050</td>\n",
       "      <td>0.70</td>\n",
       "      <td>0.36396</td>\n",
       "      <td>2021-01-15</td>\n",
       "    </tr>\n",
       "    <tr>\n",
       "      <th>3</th>\n",
       "      <td>2021-01-15 09:23:00-05:00</td>\n",
       "      <td>853.43</td>\n",
       "      <td>853.45</td>\n",
       "      <td>853.25</td>\n",
       "      <td>853.25</td>\n",
       "      <td>3859</td>\n",
       "      <td>0.20</td>\n",
       "      <td>0.31396</td>\n",
       "      <td>2021-01-15</td>\n",
       "    </tr>\n",
       "    <tr>\n",
       "      <th>4</th>\n",
       "      <td>2021-01-15 09:22:00-05:00</td>\n",
       "      <td>853.50</td>\n",
       "      <td>853.50</td>\n",
       "      <td>853.50</td>\n",
       "      <td>853.50</td>\n",
       "      <td>1805</td>\n",
       "      <td>0.00</td>\n",
       "      <td>0.28400</td>\n",
       "      <td>2021-01-15</td>\n",
       "    </tr>\n",
       "  </tbody>\n",
       "</table>\n",
       "</div>"
      ],
      "text/plain": [
       "                        time    open    high     low   close  volume  diff  \\\n",
       "0  2021-01-15 09:26:00-05:00  852.98  853.25  852.98  853.25    3460  0.27   \n",
       "1  2021-01-15 09:25:00-05:00  852.75  853.00  852.75  852.85    4066  0.25   \n",
       "2  2021-01-15 09:24:00-05:00  853.20  853.20  852.50  852.80    5050  0.70   \n",
       "3  2021-01-15 09:23:00-05:00  853.43  853.45  853.25  853.25    3859  0.20   \n",
       "4  2021-01-15 09:22:00-05:00  853.50  853.50  853.50  853.50    1805  0.00   \n",
       "\n",
       "   Volatility        date  \n",
       "0     1.20796  2021-01-15  \n",
       "1     0.52396  2021-01-15  \n",
       "2     0.36396  2021-01-15  \n",
       "3     0.31396  2021-01-15  \n",
       "4     0.28400  2021-01-15  "
      ]
     },
     "execution_count": 13,
     "metadata": {},
     "output_type": "execute_result"
    }
   ],
   "source": [
    "data = data.assign(date=data.time.apply(lambda x:x.date()))\n",
    "data.head()\n",
    "#data = data[['date','Volatility']]\n",
    "# data.to_csv(data_path+'/'+vol_data, index=False)"
   ]
  },
  {
   "cell_type": "markdown",
   "metadata": {},
   "source": [
    "### Create Lables = Mean Volatility before and after Market Open"
   ]
  },
  {
   "cell_type": "code",
   "execution_count": 14,
   "metadata": {},
   "outputs": [
    {
     "data": {
      "text/html": [
       "<div>\n",
       "<style scoped>\n",
       "    .dataframe tbody tr th:only-of-type {\n",
       "        vertical-align: middle;\n",
       "    }\n",
       "\n",
       "    .dataframe tbody tr th {\n",
       "        vertical-align: top;\n",
       "    }\n",
       "\n",
       "    .dataframe thead th {\n",
       "        text-align: right;\n",
       "    }\n",
       "</style>\n",
       "<table border=\"1\" class=\"dataframe\">\n",
       "  <thead>\n",
       "    <tr style=\"text-align: right;\">\n",
       "      <th></th>\n",
       "      <th>Mean Vol Before Open</th>\n",
       "    </tr>\n",
       "    <tr>\n",
       "      <th>date</th>\n",
       "      <th></th>\n",
       "    </tr>\n",
       "  </thead>\n",
       "  <tbody>\n",
       "    <tr>\n",
       "      <th>2019-01-30</th>\n",
       "      <td>0.019796</td>\n",
       "    </tr>\n",
       "    <tr>\n",
       "      <th>2019-01-31</th>\n",
       "      <td>0.059639</td>\n",
       "    </tr>\n",
       "    <tr>\n",
       "      <th>2019-02-01</th>\n",
       "      <td>0.020399</td>\n",
       "    </tr>\n",
       "    <tr>\n",
       "      <th>2019-02-04</th>\n",
       "      <td>0.032916</td>\n",
       "    </tr>\n",
       "    <tr>\n",
       "      <th>2019-02-05</th>\n",
       "      <td>0.010686</td>\n",
       "    </tr>\n",
       "  </tbody>\n",
       "</table>\n",
       "</div>"
      ],
      "text/plain": [
       "            Mean Vol Before Open\n",
       "date                            \n",
       "2019-01-30              0.019796\n",
       "2019-01-31              0.059639\n",
       "2019-02-01              0.020399\n",
       "2019-02-04              0.032916\n",
       "2019-02-05              0.010686"
      ]
     },
     "execution_count": 14,
     "metadata": {},
     "output_type": "execute_result"
    }
   ],
   "source": [
    "before_vol = data[['date','Volatility']]\n",
    "before_vol_mean = before_vol.groupby('date')['Volatility'].mean()\n",
    "before_vol_mean = pd.DataFrame(before_vol_mean)\n",
    "before_vol_mean.rename(columns={\"Volatility\":\"Mean Vol Before Open\"},inplace=True)\n",
    "before_vol_mean.head()"
   ]
  },
  {
   "cell_type": "code",
   "execution_count": 15,
   "metadata": {
    "scrolled": true
   },
   "outputs": [
    {
     "data": {
      "text/html": [
       "<div>\n",
       "<style scoped>\n",
       "    .dataframe tbody tr th:only-of-type {\n",
       "        vertical-align: middle;\n",
       "    }\n",
       "\n",
       "    .dataframe tbody tr th {\n",
       "        vertical-align: top;\n",
       "    }\n",
       "\n",
       "    .dataframe thead th {\n",
       "        text-align: right;\n",
       "    }\n",
       "</style>\n",
       "<table border=\"1\" class=\"dataframe\">\n",
       "  <thead>\n",
       "    <tr style=\"text-align: right;\">\n",
       "      <th></th>\n",
       "      <th>Mean Vol After Open</th>\n",
       "    </tr>\n",
       "    <tr>\n",
       "      <th>date</th>\n",
       "      <th></th>\n",
       "    </tr>\n",
       "  </thead>\n",
       "  <tbody>\n",
       "    <tr>\n",
       "      <th>2019-01-30</th>\n",
       "      <td>0.089144</td>\n",
       "    </tr>\n",
       "    <tr>\n",
       "      <th>2019-01-31</th>\n",
       "      <td>0.126792</td>\n",
       "    </tr>\n",
       "    <tr>\n",
       "      <th>2019-02-01</th>\n",
       "      <td>0.089911</td>\n",
       "    </tr>\n",
       "    <tr>\n",
       "      <th>2019-02-04</th>\n",
       "      <td>0.096607</td>\n",
       "    </tr>\n",
       "    <tr>\n",
       "      <th>2019-02-05</th>\n",
       "      <td>0.074881</td>\n",
       "    </tr>\n",
       "  </tbody>\n",
       "</table>\n",
       "</div>"
      ],
      "text/plain": [
       "            Mean Vol After Open\n",
       "date                           \n",
       "2019-01-30             0.089144\n",
       "2019-01-31             0.126792\n",
       "2019-02-01             0.089911\n",
       "2019-02-04             0.096607\n",
       "2019-02-05             0.074881"
      ]
     },
     "execution_count": 15,
     "metadata": {},
     "output_type": "execute_result"
    }
   ],
   "source": [
    "after_vol = data_market.assign(date=data_market.time.apply(lambda x:x.date()))\n",
    "after_vol = after_vol[['date','Volatility']]\n",
    "after_vol_mean = after_vol.groupby('date')['Volatility'].mean()\n",
    "after_vol_mean = pd.DataFrame(after_vol_mean)\n",
    "after_vol_mean.rename(columns={\"Volatility\":\"Mean Vol After Open\"},inplace=True)\n",
    "after_vol_mean.head()"
   ]
  },
  {
   "cell_type": "code",
   "execution_count": 16,
   "metadata": {},
   "outputs": [
    {
     "data": {
      "text/html": [
       "<div>\n",
       "<style scoped>\n",
       "    .dataframe tbody tr th:only-of-type {\n",
       "        vertical-align: middle;\n",
       "    }\n",
       "\n",
       "    .dataframe tbody tr th {\n",
       "        vertical-align: top;\n",
       "    }\n",
       "\n",
       "    .dataframe thead th {\n",
       "        text-align: right;\n",
       "    }\n",
       "</style>\n",
       "<table border=\"1\" class=\"dataframe\">\n",
       "  <thead>\n",
       "    <tr style=\"text-align: right;\">\n",
       "      <th></th>\n",
       "      <th>Mean Vol Before Open</th>\n",
       "      <th>Mean Vol After Open</th>\n",
       "    </tr>\n",
       "    <tr>\n",
       "      <th>date</th>\n",
       "      <th></th>\n",
       "      <th></th>\n",
       "    </tr>\n",
       "  </thead>\n",
       "  <tbody>\n",
       "    <tr>\n",
       "      <th>2019-01-30</th>\n",
       "      <td>0.019796</td>\n",
       "      <td>0.089144</td>\n",
       "    </tr>\n",
       "    <tr>\n",
       "      <th>2019-01-31</th>\n",
       "      <td>0.059639</td>\n",
       "      <td>0.126792</td>\n",
       "    </tr>\n",
       "    <tr>\n",
       "      <th>2019-02-01</th>\n",
       "      <td>0.020399</td>\n",
       "      <td>0.089911</td>\n",
       "    </tr>\n",
       "    <tr>\n",
       "      <th>2019-02-04</th>\n",
       "      <td>0.032916</td>\n",
       "      <td>0.096607</td>\n",
       "    </tr>\n",
       "    <tr>\n",
       "      <th>2019-02-05</th>\n",
       "      <td>0.010686</td>\n",
       "      <td>0.074881</td>\n",
       "    </tr>\n",
       "  </tbody>\n",
       "</table>\n",
       "</div>"
      ],
      "text/plain": [
       "            Mean Vol Before Open  Mean Vol After Open\n",
       "date                                                 \n",
       "2019-01-30              0.019796             0.089144\n",
       "2019-01-31              0.059639             0.126792\n",
       "2019-02-01              0.020399             0.089911\n",
       "2019-02-04              0.032916             0.096607\n",
       "2019-02-05              0.010686             0.074881"
      ]
     },
     "execution_count": 16,
     "metadata": {},
     "output_type": "execute_result"
    }
   ],
   "source": [
    "combined = before_vol_mean.merge(after_vol_mean, left_on='date', right_on='date')\n",
    "combined.head()"
   ]
  },
  {
   "cell_type": "code",
   "execution_count": 17,
   "metadata": {},
   "outputs": [
    {
     "data": {
      "text/html": [
       "<div>\n",
       "<style scoped>\n",
       "    .dataframe tbody tr th:only-of-type {\n",
       "        vertical-align: middle;\n",
       "    }\n",
       "\n",
       "    .dataframe tbody tr th {\n",
       "        vertical-align: top;\n",
       "    }\n",
       "\n",
       "    .dataframe thead th {\n",
       "        text-align: right;\n",
       "    }\n",
       "</style>\n",
       "<table border=\"1\" class=\"dataframe\">\n",
       "  <thead>\n",
       "    <tr style=\"text-align: right;\">\n",
       "      <th></th>\n",
       "      <th>Mean Vol Before Open</th>\n",
       "      <th>Mean Vol After Open</th>\n",
       "      <th>score</th>\n",
       "    </tr>\n",
       "    <tr>\n",
       "      <th>date</th>\n",
       "      <th></th>\n",
       "      <th></th>\n",
       "      <th></th>\n",
       "    </tr>\n",
       "  </thead>\n",
       "  <tbody>\n",
       "    <tr>\n",
       "      <th>2019-01-30</th>\n",
       "      <td>0.019796</td>\n",
       "      <td>0.089144</td>\n",
       "      <td>4.503171</td>\n",
       "    </tr>\n",
       "    <tr>\n",
       "      <th>2019-01-31</th>\n",
       "      <td>0.059639</td>\n",
       "      <td>0.126792</td>\n",
       "      <td>2.125986</td>\n",
       "    </tr>\n",
       "    <tr>\n",
       "      <th>2019-02-01</th>\n",
       "      <td>0.020399</td>\n",
       "      <td>0.089911</td>\n",
       "      <td>4.407548</td>\n",
       "    </tr>\n",
       "    <tr>\n",
       "      <th>2019-02-04</th>\n",
       "      <td>0.032916</td>\n",
       "      <td>0.096607</td>\n",
       "      <td>2.934941</td>\n",
       "    </tr>\n",
       "    <tr>\n",
       "      <th>2019-02-05</th>\n",
       "      <td>0.010686</td>\n",
       "      <td>0.074881</td>\n",
       "      <td>7.007146</td>\n",
       "    </tr>\n",
       "  </tbody>\n",
       "</table>\n",
       "</div>"
      ],
      "text/plain": [
       "            Mean Vol Before Open  Mean Vol After Open     score\n",
       "date                                                           \n",
       "2019-01-30              0.019796             0.089144  4.503171\n",
       "2019-01-31              0.059639             0.126792  2.125986\n",
       "2019-02-01              0.020399             0.089911  4.407548\n",
       "2019-02-04              0.032916             0.096607  2.934941\n",
       "2019-02-05              0.010686             0.074881  7.007146"
      ]
     },
     "execution_count": 17,
     "metadata": {},
     "output_type": "execute_result"
    }
   ],
   "source": [
    "combined['score'] = combined['Mean Vol After Open']/combined['Mean Vol Before Open']\n",
    "combined.head()"
   ]
  },
  {
   "cell_type": "code",
   "execution_count": 18,
   "metadata": {},
   "outputs": [
    {
     "data": {
      "text/plain": [
       "count    496.000000\n",
       "mean       3.393027\n",
       "std        3.345784\n",
       "min        0.348782\n",
       "25%        1.906783\n",
       "50%        2.718171\n",
       "75%        3.936746\n",
       "max       60.851223\n",
       "Name: score, dtype: float64"
      ]
     },
     "execution_count": 18,
     "metadata": {},
     "output_type": "execute_result"
    }
   ],
   "source": [
    "combined.score.describe()"
   ]
  },
  {
   "cell_type": "code",
   "execution_count": 19,
   "metadata": {
    "scrolled": false
   },
   "outputs": [
    {
     "name": "stderr",
     "output_type": "stream",
     "text": [
      "C:\\Users\\sohyun\\Anaconda3\\lib\\site-packages\\pandas\\plotting\\_matplotlib\\converter.py:256: MatplotlibDeprecationWarning: \n",
      "The epoch2num function was deprecated in Matplotlib 3.3 and will be removed two minor releases later.\n",
      "  base = dates.epoch2num(dt.asi8 / 1.0e9)\n"
     ]
    },
    {
     "data": {
      "text/plain": [
       "<AxesSubplot:xlabel='date'>"
      ]
     },
     "execution_count": 19,
     "metadata": {},
     "output_type": "execute_result"
    },
    {
     "data": {
      "image/png": "[encoded data removed]",
      "text/plain": [
       "<Figure size 432x288 with 1 Axes>"
      ]
     },
     "metadata": {
      "needs_background": "light"
     },
     "output_type": "display_data"
    }
   ],
   "source": [
    "combined.score.plot()"
   ]
  },
  {
   "cell_type": "code",
   "execution_count": 20,
   "metadata": {},
   "outputs": [
    {
     "data": {
      "text/html": [
       "<div>\n",
       "<style scoped>\n",
       "    .dataframe tbody tr th:only-of-type {\n",
       "        vertical-align: middle;\n",
       "    }\n",
       "\n",
       "    .dataframe tbody tr th {\n",
       "        vertical-align: top;\n",
       "    }\n",
       "\n",
       "    .dataframe thead th {\n",
       "        text-align: right;\n",
       "    }\n",
       "</style>\n",
       "<table border=\"1\" class=\"dataframe\">\n",
       "  <thead>\n",
       "    <tr style=\"text-align: right;\">\n",
       "      <th></th>\n",
       "      <th>Mean Vol Before Open</th>\n",
       "      <th>Mean Vol After Open</th>\n",
       "      <th>score</th>\n",
       "      <th>percentile</th>\n",
       "      <th>Percentile Class</th>\n",
       "    </tr>\n",
       "    <tr>\n",
       "      <th>date</th>\n",
       "      <th></th>\n",
       "      <th></th>\n",
       "      <th></th>\n",
       "      <th></th>\n",
       "      <th></th>\n",
       "    </tr>\n",
       "  </thead>\n",
       "  <tbody>\n",
       "    <tr>\n",
       "      <th>2019-01-30</th>\n",
       "      <td>0.019796</td>\n",
       "      <td>0.089144</td>\n",
       "      <td>4.503171</td>\n",
       "      <td>0.824597</td>\n",
       "      <td>8</td>\n",
       "    </tr>\n",
       "    <tr>\n",
       "      <th>2019-01-31</th>\n",
       "      <td>0.059639</td>\n",
       "      <td>0.126792</td>\n",
       "      <td>2.125986</td>\n",
       "      <td>0.322581</td>\n",
       "      <td>3</td>\n",
       "    </tr>\n",
       "    <tr>\n",
       "      <th>2019-02-01</th>\n",
       "      <td>0.020399</td>\n",
       "      <td>0.089911</td>\n",
       "      <td>4.407548</td>\n",
       "      <td>0.810484</td>\n",
       "      <td>8</td>\n",
       "    </tr>\n",
       "    <tr>\n",
       "      <th>2019-02-04</th>\n",
       "      <td>0.032916</td>\n",
       "      <td>0.096607</td>\n",
       "      <td>2.934941</td>\n",
       "      <td>0.562500</td>\n",
       "      <td>5</td>\n",
       "    </tr>\n",
       "    <tr>\n",
       "      <th>2019-02-05</th>\n",
       "      <td>0.010686</td>\n",
       "      <td>0.074881</td>\n",
       "      <td>7.007146</td>\n",
       "      <td>0.941532</td>\n",
       "      <td>9</td>\n",
       "    </tr>\n",
       "  </tbody>\n",
       "</table>\n",
       "</div>"
      ],
      "text/plain": [
       "            Mean Vol Before Open  Mean Vol After Open     score  percentile  \\\n",
       "date                                                                          \n",
       "2019-01-30              0.019796             0.089144  4.503171    0.824597   \n",
       "2019-01-31              0.059639             0.126792  2.125986    0.322581   \n",
       "2019-02-01              0.020399             0.089911  4.407548    0.810484   \n",
       "2019-02-04              0.032916             0.096607  2.934941    0.562500   \n",
       "2019-02-05              0.010686             0.074881  7.007146    0.941532   \n",
       "\n",
       "           Percentile Class  \n",
       "date                         \n",
       "2019-01-30                8  \n",
       "2019-01-31                3  \n",
       "2019-02-01                8  \n",
       "2019-02-04                5  \n",
       "2019-02-05                9  "
      ]
     },
     "execution_count": 20,
     "metadata": {},
     "output_type": "execute_result"
    }
   ],
   "source": [
    "combined['percentile'] = combined.score.rank(pct = True)\n",
    "combined['Percentile Class'] = combined.percentile//0.1\n",
    "combined['Percentile Class'] = combined['Percentile Class'].astype(int).astype(str)\n",
    "combined.head()"
   ]
  },
  {
   "cell_type": "code",
   "execution_count": 21,
   "metadata": {},
   "outputs": [],
   "source": [
    "#combined.to_csv(data_path+'/'+label_data, index=True)"
   ]
  },
  {
   "cell_type": "code",
   "execution_count": 22,
   "metadata": {},
   "outputs": [
    {
     "data": {
      "text/html": [
       "<div>\n",
       "<style scoped>\n",
       "    .dataframe tbody tr th:only-of-type {\n",
       "        vertical-align: middle;\n",
       "    }\n",
       "\n",
       "    .dataframe tbody tr th {\n",
       "        vertical-align: top;\n",
       "    }\n",
       "\n",
       "    .dataframe thead th {\n",
       "        text-align: right;\n",
       "    }\n",
       "</style>\n",
       "<table border=\"1\" class=\"dataframe\">\n",
       "  <thead>\n",
       "    <tr style=\"text-align: right;\">\n",
       "      <th></th>\n",
       "      <th>image_id</th>\n",
       "      <th>label</th>\n",
       "    </tr>\n",
       "  </thead>\n",
       "  <tbody>\n",
       "    <tr>\n",
       "      <th>0</th>\n",
       "      <td>2019-01-30.png</td>\n",
       "      <td>8</td>\n",
       "    </tr>\n",
       "    <tr>\n",
       "      <th>1</th>\n",
       "      <td>2019-01-31.png</td>\n",
       "      <td>3</td>\n",
       "    </tr>\n",
       "    <tr>\n",
       "      <th>2</th>\n",
       "      <td>2019-02-01.png</td>\n",
       "      <td>8</td>\n",
       "    </tr>\n",
       "    <tr>\n",
       "      <th>3</th>\n",
       "      <td>2019-02-04.png</td>\n",
       "      <td>5</td>\n",
       "    </tr>\n",
       "    <tr>\n",
       "      <th>4</th>\n",
       "      <td>2019-02-05.png</td>\n",
       "      <td>9</td>\n",
       "    </tr>\n",
       "  </tbody>\n",
       "</table>\n",
       "</div>"
      ],
      "text/plain": [
       "         image_id label\n",
       "0  2019-01-30.png     8\n",
       "1  2019-01-31.png     3\n",
       "2  2019-02-01.png     8\n",
       "3  2019-02-04.png     5\n",
       "4  2019-02-05.png     9"
      ]
     },
     "execution_count": 22,
     "metadata": {},
     "output_type": "execute_result"
    }
   ],
   "source": [
    "img_lbl_dir = combined\n",
    "img_lbl_dir['image_id'] = img_lbl_dir.index\n",
    "img_lbl_dir['image_id'] = img_lbl_dir['image_id'].apply(lambda x: str(x) + \".png\")\n",
    "img_lbl_dir = img_lbl_dir.reset_index()\n",
    "img_lbl_dir['label'] = img_lbl_dir['Percentile Class']\n",
    "img_lbl_dir = img_lbl_dir[['image_id', 'label']]\n",
    "img_lbl_dir.head()"
   ]
  },
  {
   "cell_type": "code",
   "execution_count": 23,
   "metadata": {},
   "outputs": [],
   "source": [
    "img_lbl_dir.to_csv('image_label_dir.csv', index=False)"
   ]
  },
  {
   "cell_type": "code",
   "execution_count": null,
   "metadata": {},
   "outputs": [],
   "source": []
  },
  {
   "cell_type": "code",
   "execution_count": null,
   "metadata": {},
   "outputs": [],
   "source": []
  }
 ],
 "metadata": {
  "kernelspec": {
   "display_name": "Python 3",
   "language": "python",
   "name": "python3"
  },
  "language_info": {
   "codemirror_mode": {
    "name": "ipython",
    "version": 3
   },
   "file_extension": ".py",
   "mimetype": "text/x-python",
   "name": "python",
   "nbconvert_exporter": "python",
   "pygments_lexer": "ipython3",
   "version": "3.7.3"
  }
 },
 "nbformat": 4,
 "nbformat_minor": 4
}
