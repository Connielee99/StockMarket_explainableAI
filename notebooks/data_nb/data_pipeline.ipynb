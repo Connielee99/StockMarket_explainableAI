{
 "cells": [
  {
   "cell_type": "code",
   "execution_count": 1,
   "metadata": {},
   "outputs": [],
   "source": [
    "import os\n",
    "from os import listdir\n",
    "import pandas as pd\n",
    "import datetime"
   ]
  },
  {
   "cell_type": "code",
   "execution_count": 39,
   "metadata": {},
   "outputs": [],
   "source": [
    "# file paths\n",
    "\n",
    "# raw data path\n",
    "raw_path = '../../data/TSLA/RawData/'\n",
    "# processed data path\n",
    "data_path = '../../data/TSLA/ProcData'\n",
    "# merged filtered file name\n",
    "merged_data = 'merge_filter_data.csv'\n",
    "# feature engineered file name\n",
    "feat_data = 'feat_eng_data.csv'\n",
    "# data with time + volatility\n",
    "vol_data = 'data_vol.csv'\n",
    "label_data = 'label.csv'"
   ]
  },
  {
   "cell_type": "markdown",
   "metadata": {},
   "source": [
    "Merge and Preprocess raw data"
   ]
  },
  {
   "cell_type": "code",
   "execution_count": 3,
   "metadata": {},
   "outputs": [],
   "source": [
    "# obtain needed data for processing\n",
    "# Filter out data to use volatility on data an hour prior to market open\n",
    "# Market Open: NYSE open Monday-Friday 9:30am to 4pm. Eastern time\n",
    "def raw_to_data(fp):\n",
    "    \n",
    "    # read in data\n",
    "    data = pd.read_csv(fp)\n",
    "    # convert time column time zone\n",
    "    data.time = pd.DatetimeIndex(data.time).tz_localize('US/Eastern')\n",
    "    # filter out data for use\n",
    "    market_open_time = datetime.time(hour=9, minute=30)\n",
    "    market_1hr_early = datetime.time(hour=8, minute=30)\n",
    "    data = data.loc[data.time.apply(lambda date:(date.time()<=market_open_time)\n",
    "                        and (date.time()>=market_1hr_early)\n",
    "                        )]\n",
    "    data.reset_index(drop=True, inplace=True)\n",
    "    \n",
    "    return data"
   ]
  },
  {
   "cell_type": "code",
   "execution_count": 4,
   "metadata": {},
   "outputs": [],
   "source": [
    "# obtain needed data for processing\n",
    "# Filter out data to use volatility on data an hour prior to market open\n",
    "# Market Open: NYSE open Monday-Friday 9:30am to 4pm. Eastern time\n",
    "def raw_to_data_market(fp):\n",
    "    \n",
    "    # read in data\n",
    "    data = pd.read_csv(fp)\n",
    "    # convert time column time zone\n",
    "    data.time = pd.DatetimeIndex(data.time).tz_localize('US/Eastern')\n",
    "    # filter out data for use\n",
    "    market_open_time = datetime.time(hour=9, minute=30)\n",
    "    market_close_time = datetime.time(hour=16, minute=0)\n",
    "    data = data.loc[data.time.apply(lambda date:(date.time()<=market_close_time)\n",
    "                        and (date.time()>=market_open_time)\n",
    "                        )]\n",
    "    data.reset_index(drop=True, inplace=True)\n",
    "    \n",
    "    return data"
   ]
  },
  {
   "cell_type": "code",
   "execution_count": 5,
   "metadata": {},
   "outputs": [],
   "source": [
    "# merge processed files from raw path to data path\n",
    "def merge_data(raw_path):\n",
    "    \n",
    "    # output dataframe\n",
    "    output = pd.DataFrame()\n",
    "    # all files to be processed\n",
    "    raw_files = listdir(raw_path)\n",
    "    \n",
    "    for curr_file in raw_files:\n",
    "        fp = raw_path + curr_file\n",
    "        data = raw_to_data(fp)\n",
    "        output = pd.concat([output, data])\n",
    "    \n",
    "    return output"
   ]
  },
  {
   "cell_type": "code",
   "execution_count": 6,
   "metadata": {},
   "outputs": [],
   "source": [
    "# merge processed files from raw path to data path\n",
    "def merge_data_market(raw_path):\n",
    "    \n",
    "    # output dataframe\n",
    "    output = pd.DataFrame()\n",
    "    # all files to be processed\n",
    "    raw_files = listdir(raw_path)\n",
    "    \n",
    "    for curr_file in raw_files:\n",
    "        fp = raw_path + curr_file\n",
    "        data = raw_to_data_market(fp)\n",
    "        output = pd.concat([output, data])\n",
    "    \n",
    "    return output"
   ]
  },
  {
   "cell_type": "code",
   "execution_count": 13,
   "metadata": {},
   "outputs": [],
   "source": [
    "data = merge_data(raw_path)\n",
    "data_market = merge_data_market(raw_path)\n",
    "# data.to_csv(data_path+'/'+merged_data, index=False)"
   ]
  },
  {
   "cell_type": "code",
   "execution_count": 23,
   "metadata": {},
   "outputs": [],
   "source": [
    "# data = pd.read_csv(data_path+'/'+merged_data, parse_dates=['time'])"
   ]
  },
  {
   "cell_type": "markdown",
   "metadata": {},
   "source": [
    "Feature Engineer preprocessed data for volatility analysis"
   ]
  },
  {
   "cell_type": "code",
   "execution_count": 8,
   "metadata": {},
   "outputs": [],
   "source": [
    "def feature_engineer(data, time_wdw):\n",
    "    \n",
    "    # for time series indexing\n",
    "    data.set_index('time', inplace=True)\n",
    "    \n",
    "    # High-Low within minute bar\n",
    "    data['diff'] = data.high-data.low\n",
    "    # Volitility Analysis\n",
    "    vol = data['diff'].rolling(time_wdw).mean()\n",
    "    data = data.assign(Volatility=vol)\n",
    "    # for modelling purpose\n",
    "    data.dropna(axis=0, inplace=True)\n",
    "    data.reset_index(inplace = True)\n",
    "    \n",
    "    return data"
   ]
  },
  {
   "cell_type": "code",
   "execution_count": 14,
   "metadata": {},
   "outputs": [],
   "source": [
    "data = feature_engineer(data, 5)\n",
    "data_market = feature_engineer(data_market, 5)\n",
    "\n",
    "# data.to_csv(data_path+'/'+feat_data, index=False)"
   ]
  },
  {
   "cell_type": "code",
   "execution_count": 10,
   "metadata": {},
   "outputs": [
    {
     "data": {
      "text/html": [
       "<div>\n",
       "<style scoped>\n",
       "    .dataframe tbody tr th:only-of-type {\n",
       "        vertical-align: middle;\n",
       "    }\n",
       "\n",
       "    .dataframe tbody tr th {\n",
       "        vertical-align: top;\n",
       "    }\n",
       "\n",
       "    .dataframe thead th {\n",
       "        text-align: right;\n",
       "    }\n",
       "</style>\n",
       "<table border=\"1\" class=\"dataframe\">\n",
       "  <thead>\n",
       "    <tr style=\"text-align: right;\">\n",
       "      <th></th>\n",
       "      <th>time</th>\n",
       "      <th>open</th>\n",
       "      <th>high</th>\n",
       "      <th>low</th>\n",
       "      <th>close</th>\n",
       "      <th>volume</th>\n",
       "      <th>diff</th>\n",
       "      <th>Volatility</th>\n",
       "    </tr>\n",
       "  </thead>\n",
       "  <tbody>\n",
       "    <tr>\n",
       "      <th>0</th>\n",
       "      <td>2020-06-22 15:56:00-04:00</td>\n",
       "      <td>198.716</td>\n",
       "      <td>198.83100</td>\n",
       "      <td>198.702</td>\n",
       "      <td>198.76600</td>\n",
       "      <td>104250</td>\n",
       "      <td>0.12900</td>\n",
       "      <td>0.215000</td>\n",
       "    </tr>\n",
       "    <tr>\n",
       "      <th>1</th>\n",
       "      <td>2020-06-22 15:55:00-04:00</td>\n",
       "      <td>198.848</td>\n",
       "      <td>198.89800</td>\n",
       "      <td>198.676</td>\n",
       "      <td>198.74150</td>\n",
       "      <td>90950</td>\n",
       "      <td>0.22200</td>\n",
       "      <td>0.223400</td>\n",
       "    </tr>\n",
       "    <tr>\n",
       "      <th>2</th>\n",
       "      <td>2020-06-22 15:54:00-04:00</td>\n",
       "      <td>198.820</td>\n",
       "      <td>198.88000</td>\n",
       "      <td>198.662</td>\n",
       "      <td>198.85000</td>\n",
       "      <td>107475</td>\n",
       "      <td>0.21800</td>\n",
       "      <td>0.220200</td>\n",
       "    </tr>\n",
       "    <tr>\n",
       "      <th>3</th>\n",
       "      <td>2020-06-22 15:53:00-04:00</td>\n",
       "      <td>198.888</td>\n",
       "      <td>198.90400</td>\n",
       "      <td>198.700</td>\n",
       "      <td>198.79000</td>\n",
       "      <td>120905</td>\n",
       "      <td>0.20400</td>\n",
       "      <td>0.207400</td>\n",
       "    </tr>\n",
       "    <tr>\n",
       "      <th>4</th>\n",
       "      <td>2020-06-22 15:52:00-04:00</td>\n",
       "      <td>199.028</td>\n",
       "      <td>199.04600</td>\n",
       "      <td>198.838</td>\n",
       "      <td>198.90200</td>\n",
       "      <td>88935</td>\n",
       "      <td>0.20800</td>\n",
       "      <td>0.196200</td>\n",
       "    </tr>\n",
       "    <tr>\n",
       "      <th>...</th>\n",
       "      <td>...</td>\n",
       "      <td>...</td>\n",
       "      <td>...</td>\n",
       "      <td>...</td>\n",
       "      <td>...</td>\n",
       "      <td>...</td>\n",
       "      <td>...</td>\n",
       "      <td>...</td>\n",
       "    </tr>\n",
       "    <tr>\n",
       "      <th>192912</th>\n",
       "      <td>2019-07-29 09:34:00-04:00</td>\n",
       "      <td>45.600</td>\n",
       "      <td>45.60000</td>\n",
       "      <td>45.340</td>\n",
       "      <td>45.36844</td>\n",
       "      <td>254885</td>\n",
       "      <td>0.26000</td>\n",
       "      <td>0.191856</td>\n",
       "    </tr>\n",
       "    <tr>\n",
       "      <th>192913</th>\n",
       "      <td>2019-07-29 09:33:00-04:00</td>\n",
       "      <td>45.648</td>\n",
       "      <td>45.71998</td>\n",
       "      <td>45.556</td>\n",
       "      <td>45.60000</td>\n",
       "      <td>227410</td>\n",
       "      <td>0.16398</td>\n",
       "      <td>0.192940</td>\n",
       "    </tr>\n",
       "    <tr>\n",
       "      <th>192914</th>\n",
       "      <td>2019-07-29 09:32:00-04:00</td>\n",
       "      <td>45.590</td>\n",
       "      <td>45.74800</td>\n",
       "      <td>45.560</td>\n",
       "      <td>45.61800</td>\n",
       "      <td>256310</td>\n",
       "      <td>0.18800</td>\n",
       "      <td>0.191740</td>\n",
       "    </tr>\n",
       "    <tr>\n",
       "      <th>192915</th>\n",
       "      <td>2019-07-29 09:31:00-04:00</td>\n",
       "      <td>45.418</td>\n",
       "      <td>45.68000</td>\n",
       "      <td>45.416</td>\n",
       "      <td>45.59670</td>\n",
       "      <td>798630</td>\n",
       "      <td>0.26400</td>\n",
       "      <td>0.218940</td>\n",
       "    </tr>\n",
       "    <tr>\n",
       "      <th>192916</th>\n",
       "      <td>2019-07-29 09:30:00-04:00</td>\n",
       "      <td>45.418</td>\n",
       "      <td>45.49600</td>\n",
       "      <td>45.416</td>\n",
       "      <td>45.49600</td>\n",
       "      <td>7230</td>\n",
       "      <td>0.08000</td>\n",
       "      <td>0.191196</td>\n",
       "    </tr>\n",
       "  </tbody>\n",
       "</table>\n",
       "<p>192917 rows × 8 columns</p>\n",
       "</div>"
      ],
      "text/plain": [
       "                            time     open       high      low      close  \\\n",
       "0      2020-06-22 15:56:00-04:00  198.716  198.83100  198.702  198.76600   \n",
       "1      2020-06-22 15:55:00-04:00  198.848  198.89800  198.676  198.74150   \n",
       "2      2020-06-22 15:54:00-04:00  198.820  198.88000  198.662  198.85000   \n",
       "3      2020-06-22 15:53:00-04:00  198.888  198.90400  198.700  198.79000   \n",
       "4      2020-06-22 15:52:00-04:00  199.028  199.04600  198.838  198.90200   \n",
       "...                          ...      ...        ...      ...        ...   \n",
       "192912 2019-07-29 09:34:00-04:00   45.600   45.60000   45.340   45.36844   \n",
       "192913 2019-07-29 09:33:00-04:00   45.648   45.71998   45.556   45.60000   \n",
       "192914 2019-07-29 09:32:00-04:00   45.590   45.74800   45.560   45.61800   \n",
       "192915 2019-07-29 09:31:00-04:00   45.418   45.68000   45.416   45.59670   \n",
       "192916 2019-07-29 09:30:00-04:00   45.418   45.49600   45.416   45.49600   \n",
       "\n",
       "        volume     diff  Volatility  \n",
       "0       104250  0.12900    0.215000  \n",
       "1        90950  0.22200    0.223400  \n",
       "2       107475  0.21800    0.220200  \n",
       "3       120905  0.20400    0.207400  \n",
       "4        88935  0.20800    0.196200  \n",
       "...        ...      ...         ...  \n",
       "192912  254885  0.26000    0.191856  \n",
       "192913  227410  0.16398    0.192940  \n",
       "192914  256310  0.18800    0.191740  \n",
       "192915  798630  0.26400    0.218940  \n",
       "192916    7230  0.08000    0.191196  \n",
       "\n",
       "[192917 rows x 8 columns]"
      ]
     },
     "execution_count": 10,
     "metadata": {},
     "output_type": "execute_result"
    }
   ],
   "source": [
    "data_market"
   ]
  },
  {
   "cell_type": "markdown",
   "metadata": {},
   "source": [
    "Date and Volatility Column for Further Inspection"
   ]
  },
  {
   "cell_type": "code",
   "execution_count": 26,
   "metadata": {},
   "outputs": [
    {
     "data": {
      "text/html": [
       "<div>\n",
       "<style scoped>\n",
       "    .dataframe tbody tr th:only-of-type {\n",
       "        vertical-align: middle;\n",
       "    }\n",
       "\n",
       "    .dataframe tbody tr th {\n",
       "        vertical-align: top;\n",
       "    }\n",
       "\n",
       "    .dataframe thead th {\n",
       "        text-align: right;\n",
       "    }\n",
       "</style>\n",
       "<table border=\"1\" class=\"dataframe\">\n",
       "  <thead>\n",
       "    <tr style=\"text-align: right;\">\n",
       "      <th></th>\n",
       "      <th>time</th>\n",
       "      <th>open</th>\n",
       "      <th>high</th>\n",
       "      <th>low</th>\n",
       "      <th>close</th>\n",
       "      <th>volume</th>\n",
       "      <th>diff</th>\n",
       "      <th>Volatility</th>\n",
       "    </tr>\n",
       "  </thead>\n",
       "  <tbody>\n",
       "    <tr>\n",
       "      <th>0</th>\n",
       "      <td>2021-01-15 09:26:00-05:00</td>\n",
       "      <td>852.98</td>\n",
       "      <td>853.25</td>\n",
       "      <td>852.98</td>\n",
       "      <td>853.25</td>\n",
       "      <td>3460</td>\n",
       "      <td>0.27</td>\n",
       "      <td>1.20796</td>\n",
       "    </tr>\n",
       "    <tr>\n",
       "      <th>1</th>\n",
       "      <td>2021-01-15 09:25:00-05:00</td>\n",
       "      <td>852.75</td>\n",
       "      <td>853.00</td>\n",
       "      <td>852.75</td>\n",
       "      <td>852.85</td>\n",
       "      <td>4066</td>\n",
       "      <td>0.25</td>\n",
       "      <td>0.52396</td>\n",
       "    </tr>\n",
       "    <tr>\n",
       "      <th>2</th>\n",
       "      <td>2021-01-15 09:24:00-05:00</td>\n",
       "      <td>853.20</td>\n",
       "      <td>853.20</td>\n",
       "      <td>852.50</td>\n",
       "      <td>852.80</td>\n",
       "      <td>5050</td>\n",
       "      <td>0.70</td>\n",
       "      <td>0.36396</td>\n",
       "    </tr>\n",
       "    <tr>\n",
       "      <th>3</th>\n",
       "      <td>2021-01-15 09:23:00-05:00</td>\n",
       "      <td>853.43</td>\n",
       "      <td>853.45</td>\n",
       "      <td>853.25</td>\n",
       "      <td>853.25</td>\n",
       "      <td>3859</td>\n",
       "      <td>0.20</td>\n",
       "      <td>0.31396</td>\n",
       "    </tr>\n",
       "    <tr>\n",
       "      <th>4</th>\n",
       "      <td>2021-01-15 09:22:00-05:00</td>\n",
       "      <td>853.50</td>\n",
       "      <td>853.50</td>\n",
       "      <td>853.50</td>\n",
       "      <td>853.50</td>\n",
       "      <td>1805</td>\n",
       "      <td>0.00</td>\n",
       "      <td>0.28400</td>\n",
       "    </tr>\n",
       "  </tbody>\n",
       "</table>\n",
       "</div>"
      ],
      "text/plain": [
       "                        time    open    high     low   close  volume  diff  \\\n",
       "0  2021-01-15 09:26:00-05:00  852.98  853.25  852.98  853.25    3460  0.27   \n",
       "1  2021-01-15 09:25:00-05:00  852.75  853.00  852.75  852.85    4066  0.25   \n",
       "2  2021-01-15 09:24:00-05:00  853.20  853.20  852.50  852.80    5050  0.70   \n",
       "3  2021-01-15 09:23:00-05:00  853.43  853.45  853.25  853.25    3859  0.20   \n",
       "4  2021-01-15 09:22:00-05:00  853.50  853.50  853.50  853.50    1805  0.00   \n",
       "\n",
       "   Volatility  \n",
       "0     1.20796  \n",
       "1     0.52396  \n",
       "2     0.36396  \n",
       "3     0.31396  \n",
       "4     0.28400  "
      ]
     },
     "execution_count": 26,
     "metadata": {},
     "output_type": "execute_result"
    }
   ],
   "source": [
    "data = pd.read_csv(data_path+'/'+feat_data, parse_dates=['time'])\n",
    "data.head()"
   ]
  },
  {
   "cell_type": "code",
   "execution_count": 29,
   "metadata": {},
   "outputs": [],
   "source": [
    "data = data.assign(date=data.time.apply(lambda x:x.date()))\n",
    "data = data[['date','Volatility']]\n",
    "# data.to_csv(data_path+'/'+vol_data, index=False)"
   ]
  },
  {
   "cell_type": "markdown",
   "metadata": {},
   "source": [
    "### Mean Volatility before and after Market Open"
   ]
  },
  {
   "cell_type": "code",
   "execution_count": 25,
   "metadata": {},
   "outputs": [
    {
     "data": {
      "text/html": [
       "<div>\n",
       "<style scoped>\n",
       "    .dataframe tbody tr th:only-of-type {\n",
       "        vertical-align: middle;\n",
       "    }\n",
       "\n",
       "    .dataframe tbody tr th {\n",
       "        vertical-align: top;\n",
       "    }\n",
       "\n",
       "    .dataframe thead th {\n",
       "        text-align: right;\n",
       "    }\n",
       "</style>\n",
       "<table border=\"1\" class=\"dataframe\">\n",
       "  <thead>\n",
       "    <tr style=\"text-align: right;\">\n",
       "      <th></th>\n",
       "      <th>Mean Vol Before Open</th>\n",
       "    </tr>\n",
       "    <tr>\n",
       "      <th>date</th>\n",
       "      <th></th>\n",
       "    </tr>\n",
       "  </thead>\n",
       "  <tbody>\n",
       "    <tr>\n",
       "      <th>2019-01-30</th>\n",
       "      <td>0.019796</td>\n",
       "    </tr>\n",
       "    <tr>\n",
       "      <th>2019-01-31</th>\n",
       "      <td>0.059639</td>\n",
       "    </tr>\n",
       "    <tr>\n",
       "      <th>2019-02-01</th>\n",
       "      <td>0.020399</td>\n",
       "    </tr>\n",
       "    <tr>\n",
       "      <th>2019-02-04</th>\n",
       "      <td>0.032916</td>\n",
       "    </tr>\n",
       "    <tr>\n",
       "      <th>2019-02-05</th>\n",
       "      <td>0.010686</td>\n",
       "    </tr>\n",
       "  </tbody>\n",
       "</table>\n",
       "</div>"
      ],
      "text/plain": [
       "            Mean Vol Before Open\n",
       "date                            \n",
       "2019-01-30              0.019796\n",
       "2019-01-31              0.059639\n",
       "2019-02-01              0.020399\n",
       "2019-02-04              0.032916\n",
       "2019-02-05              0.010686"
      ]
     },
     "execution_count": 25,
     "metadata": {},
     "output_type": "execute_result"
    }
   ],
   "source": [
    "before_vol = data.assign(date=data.time.apply(lambda x:x.date()))\n",
    "before_vol = before_vol[['date','Volatility']]\n",
    "before_vol_mean = before_vol.groupby('date')['Volatility'].mean()\n",
    "before_vol_mean = pd.DataFrame(before_vol_mean)\n",
    "before_vol_mean.rename(columns={\"Volatility\":\"Mean Vol Before Open\"},inplace=True)\n",
    "before_vol_mean.head()"
   ]
  },
  {
   "cell_type": "code",
   "execution_count": 26,
   "metadata": {
    "scrolled": true
   },
   "outputs": [
    {
     "data": {
      "text/html": [
       "<div>\n",
       "<style scoped>\n",
       "    .dataframe tbody tr th:only-of-type {\n",
       "        vertical-align: middle;\n",
       "    }\n",
       "\n",
       "    .dataframe tbody tr th {\n",
       "        vertical-align: top;\n",
       "    }\n",
       "\n",
       "    .dataframe thead th {\n",
       "        text-align: right;\n",
       "    }\n",
       "</style>\n",
       "<table border=\"1\" class=\"dataframe\">\n",
       "  <thead>\n",
       "    <tr style=\"text-align: right;\">\n",
       "      <th></th>\n",
       "      <th>Mean Vol After Open</th>\n",
       "    </tr>\n",
       "    <tr>\n",
       "      <th>date</th>\n",
       "      <th></th>\n",
       "    </tr>\n",
       "  </thead>\n",
       "  <tbody>\n",
       "    <tr>\n",
       "      <th>2019-01-30</th>\n",
       "      <td>0.089144</td>\n",
       "    </tr>\n",
       "    <tr>\n",
       "      <th>2019-01-31</th>\n",
       "      <td>0.126792</td>\n",
       "    </tr>\n",
       "    <tr>\n",
       "      <th>2019-02-01</th>\n",
       "      <td>0.089911</td>\n",
       "    </tr>\n",
       "    <tr>\n",
       "      <th>2019-02-04</th>\n",
       "      <td>0.096607</td>\n",
       "    </tr>\n",
       "    <tr>\n",
       "      <th>2019-02-05</th>\n",
       "      <td>0.074881</td>\n",
       "    </tr>\n",
       "  </tbody>\n",
       "</table>\n",
       "</div>"
      ],
      "text/plain": [
       "            Mean Vol After Open\n",
       "date                           \n",
       "2019-01-30             0.089144\n",
       "2019-01-31             0.126792\n",
       "2019-02-01             0.089911\n",
       "2019-02-04             0.096607\n",
       "2019-02-05             0.074881"
      ]
     },
     "execution_count": 26,
     "metadata": {},
     "output_type": "execute_result"
    }
   ],
   "source": [
    "after_vol = data_market.assign(date=data_market.time.apply(lambda x:x.date()))\n",
    "after_vol = after_vol[['date','Volatility']]\n",
    "after_vol_mean = after_vol.groupby('date')['Volatility'].mean()\n",
    "after_vol_mean = pd.DataFrame(after_vol_mean)\n",
    "after_vol_mean.rename(columns={\"Volatility\":\"Mean Vol After Open\"},inplace=True)\n",
    "after_vol_mean.head()"
   ]
  },
  {
   "cell_type": "code",
   "execution_count": 30,
   "metadata": {},
   "outputs": [
    {
     "data": {
      "text/html": [
       "<div>\n",
       "<style scoped>\n",
       "    .dataframe tbody tr th:only-of-type {\n",
       "        vertical-align: middle;\n",
       "    }\n",
       "\n",
       "    .dataframe tbody tr th {\n",
       "        vertical-align: top;\n",
       "    }\n",
       "\n",
       "    .dataframe thead th {\n",
       "        text-align: right;\n",
       "    }\n",
       "</style>\n",
       "<table border=\"1\" class=\"dataframe\">\n",
       "  <thead>\n",
       "    <tr style=\"text-align: right;\">\n",
       "      <th></th>\n",
       "      <th>Mean Vol Before Open</th>\n",
       "      <th>Mean Vol After Open</th>\n",
       "    </tr>\n",
       "    <tr>\n",
       "      <th>date</th>\n",
       "      <th></th>\n",
       "      <th></th>\n",
       "    </tr>\n",
       "  </thead>\n",
       "  <tbody>\n",
       "    <tr>\n",
       "      <th>2019-01-30</th>\n",
       "      <td>0.019796</td>\n",
       "      <td>0.089144</td>\n",
       "    </tr>\n",
       "    <tr>\n",
       "      <th>2019-01-31</th>\n",
       "      <td>0.059639</td>\n",
       "      <td>0.126792</td>\n",
       "    </tr>\n",
       "    <tr>\n",
       "      <th>2019-02-01</th>\n",
       "      <td>0.020399</td>\n",
       "      <td>0.089911</td>\n",
       "    </tr>\n",
       "    <tr>\n",
       "      <th>2019-02-04</th>\n",
       "      <td>0.032916</td>\n",
       "      <td>0.096607</td>\n",
       "    </tr>\n",
       "    <tr>\n",
       "      <th>2019-02-05</th>\n",
       "      <td>0.010686</td>\n",
       "      <td>0.074881</td>\n",
       "    </tr>\n",
       "  </tbody>\n",
       "</table>\n",
       "</div>"
      ],
      "text/plain": [
       "            Mean Vol Before Open  Mean Vol After Open\n",
       "date                                                 \n",
       "2019-01-30              0.019796             0.089144\n",
       "2019-01-31              0.059639             0.126792\n",
       "2019-02-01              0.020399             0.089911\n",
       "2019-02-04              0.032916             0.096607\n",
       "2019-02-05              0.010686             0.074881"
      ]
     },
     "execution_count": 30,
     "metadata": {},
     "output_type": "execute_result"
    }
   ],
   "source": [
    "combined = before_vol_mean.merge(after_vol_mean, left_on='date', right_on='date')\n",
    "combined.head()"
   ]
  },
  {
   "cell_type": "code",
   "execution_count": 33,
   "metadata": {},
   "outputs": [
    {
     "data": {
      "text/html": [
       "<div>\n",
       "<style scoped>\n",
       "    .dataframe tbody tr th:only-of-type {\n",
       "        vertical-align: middle;\n",
       "    }\n",
       "\n",
       "    .dataframe tbody tr th {\n",
       "        vertical-align: top;\n",
       "    }\n",
       "\n",
       "    .dataframe thead th {\n",
       "        text-align: right;\n",
       "    }\n",
       "</style>\n",
       "<table border=\"1\" class=\"dataframe\">\n",
       "  <thead>\n",
       "    <tr style=\"text-align: right;\">\n",
       "      <th></th>\n",
       "      <th>Mean Vol Before Open</th>\n",
       "      <th>Mean Vol After Open</th>\n",
       "      <th>score</th>\n",
       "    </tr>\n",
       "    <tr>\n",
       "      <th>date</th>\n",
       "      <th></th>\n",
       "      <th></th>\n",
       "      <th></th>\n",
       "    </tr>\n",
       "  </thead>\n",
       "  <tbody>\n",
       "    <tr>\n",
       "      <th>2019-01-30</th>\n",
       "      <td>0.019796</td>\n",
       "      <td>0.089144</td>\n",
       "      <td>4.503171</td>\n",
       "    </tr>\n",
       "    <tr>\n",
       "      <th>2019-01-31</th>\n",
       "      <td>0.059639</td>\n",
       "      <td>0.126792</td>\n",
       "      <td>2.125986</td>\n",
       "    </tr>\n",
       "    <tr>\n",
       "      <th>2019-02-01</th>\n",
       "      <td>0.020399</td>\n",
       "      <td>0.089911</td>\n",
       "      <td>4.407548</td>\n",
       "    </tr>\n",
       "    <tr>\n",
       "      <th>2019-02-04</th>\n",
       "      <td>0.032916</td>\n",
       "      <td>0.096607</td>\n",
       "      <td>2.934941</td>\n",
       "    </tr>\n",
       "    <tr>\n",
       "      <th>2019-02-05</th>\n",
       "      <td>0.010686</td>\n",
       "      <td>0.074881</td>\n",
       "      <td>7.007146</td>\n",
       "    </tr>\n",
       "  </tbody>\n",
       "</table>\n",
       "</div>"
      ],
      "text/plain": [
       "            Mean Vol Before Open  Mean Vol After Open     score\n",
       "date                                                           \n",
       "2019-01-30              0.019796             0.089144  4.503171\n",
       "2019-01-31              0.059639             0.126792  2.125986\n",
       "2019-02-01              0.020399             0.089911  4.407548\n",
       "2019-02-04              0.032916             0.096607  2.934941\n",
       "2019-02-05              0.010686             0.074881  7.007146"
      ]
     },
     "execution_count": 33,
     "metadata": {},
     "output_type": "execute_result"
    }
   ],
   "source": [
    "combined['score'] = combined['Mean Vol After Open']/combined['Mean Vol Before Open']\n",
    "combined.head()"
   ]
  },
  {
   "cell_type": "code",
   "execution_count": 37,
   "metadata": {},
   "outputs": [
    {
     "data": {
      "text/plain": [
       "count    496.000000\n",
       "mean       3.403867\n",
       "std        3.341032\n",
       "min        0.348782\n",
       "25%        1.907658\n",
       "50%        2.722708\n",
       "75%        3.944819\n",
       "max       60.851223\n",
       "Name: score, dtype: float64"
      ]
     },
     "execution_count": 37,
     "metadata": {},
     "output_type": "execute_result"
    }
   ],
   "source": [
    "combined.score.describe()"
   ]
  },
  {
   "cell_type": "code",
   "execution_count": 38,
   "metadata": {
    "scrolled": true
   },
   "outputs": [
    {
     "data": {
      "text/plain": [
       "<matplotlib.axes._subplots.AxesSubplot at 0x7fa6b75b9750>"
      ]
     },
     "execution_count": 38,
     "metadata": {},
     "output_type": "execute_result"
    },
    {
     "data": {
      "image/png": "[encoded data removed]",
      "text/plain": [
       "<Figure size 432x288 with 1 Axes>"
      ]
     },
     "metadata": {
      "needs_background": "light"
     },
     "output_type": "display_data"
    }
   ],
   "source": [
    "combined.score.plot()"
   ]
  },
  {
   "cell_type": "code",
   "execution_count": 41,
   "metadata": {},
   "outputs": [],
   "source": [
    "combined.to_csv(data_path+'/'+label_data, index=True)"
   ]
  }
 ],
 "metadata": {
  "kernelspec": {
   "display_name": "Python 3",
   "language": "python",
   "name": "python3"
  },
  "language_info": {
   "codemirror_mode": {
    "name": "ipython",
    "version": 3
   },
   "file_extension": ".py",
   "mimetype": "text/x-python",
   "name": "python",
   "nbconvert_exporter": "python",
   "pygments_lexer": "ipython3",
   "version": "3.7.6"
  }
 },
 "nbformat": 4,
 "nbformat_minor": 4
}
