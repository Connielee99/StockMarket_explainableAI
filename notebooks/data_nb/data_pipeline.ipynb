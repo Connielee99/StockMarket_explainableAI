{
 "cells": [
  {
   "cell_type": "code",
   "execution_count": 10,
   "metadata": {},
   "outputs": [],
   "source": [
    "from os import listdir\n",
    "import pandas as pd\n",
    "import datetime"
   ]
  },
  {
   "cell_type": "code",
   "execution_count": 58,
   "metadata": {},
   "outputs": [],
   "source": [
    "raw_path = '../../data/TSLA/RawData/'\n",
    "raw_files = listdir(raw_path)\n",
    "data_path = '../../data/TSLA/ProcData'\n",
    "data_name = 'proc_data.csv'\n",
    "output_fp = data_path +'/'+ data_name"
   ]
  },
  {
   "cell_type": "code",
   "execution_count": 46,
   "metadata": {},
   "outputs": [],
   "source": [
    "# obtain needed data for processing\n",
    "# Filter out data to use volatility on data an hour prior to market open\n",
    "# Market Open: NYSE open Monday-Friday 9:30am to 4pm. Eastern time\n",
    "def raw_to_data(fp):\n",
    "    \n",
    "    # read in data\n",
    "    data = pd.read_csv(fp)\n",
    "    # convert time column time zone\n",
    "    data.time = pd.DatetimeIndex(data.time).tz_localize('US/Eastern')\n",
    "    # filter out data for use\n",
    "    market_open_time = datetime.time(hour=9, minute=30)\n",
    "    market_1hr_early = datetime.time(hour=8, minute=30)\n",
    "    data = data.loc[data.time.apply(lambda date:(date.time()<=market_open_time)\n",
    "                        and (date.time()>=market_1hr_early)\n",
    "                        )]\n",
    "    data.reset_index(drop=True, inplace=True)\n",
    "    \n",
    "    return data"
   ]
  },
  {
   "cell_type": "code",
   "execution_count": 48,
   "metadata": {},
   "outputs": [],
   "source": [
    "# merge processed files from raw path to data path\n",
    "def merge_data(raw_path):\n",
    "    \n",
    "    # output dataframe\n",
    "    output = pd.DataFrame()\n",
    "    # all files to be processed\n",
    "    raw_files = listdir(raw_path)\n",
    "    \n",
    "    for curr_file in raw_files:\n",
    "        fp = raw_path + curr_file\n",
    "        data = raw_to_data(fp)\n",
    "        output = pd.concat([output, data])\n",
    "    \n",
    "    return output"
   ]
  },
  {
   "cell_type": "code",
   "execution_count": 49,
   "metadata": {},
   "outputs": [],
   "source": [
    "data = merge_data(raw_path)"
   ]
  },
  {
   "cell_type": "code",
   "execution_count": 51,
   "metadata": {},
   "outputs": [
    {
     "data": {
      "text/plain": [
       "(23785, 6)"
      ]
     },
     "execution_count": 51,
     "metadata": {},
     "output_type": "execute_result"
    }
   ],
   "source": [
    "data.shape"
   ]
  },
  {
   "cell_type": "code",
   "execution_count": 52,
   "metadata": {},
   "outputs": [],
   "source": [
    "def feature_engineer(data):\n",
    "    \n",
    "    # for time series indexing\n",
    "    data.set_index('time', inplace=True)\n",
    "    \n",
    "    # High-Low within minute bar\n",
    "    data['Day_Perc_Change'] = data['close'].pct_change(periods=1)*100\n",
    "    \n",
    "    # Volitility Analysis\n",
    "    vol = data['close'].rolling(5).mean()\n",
    "    data = data.assign(Volatility=vol)\n",
    "    # for modelling purpose\n",
    "    data.dropna(axis=0, inplace=True)\n",
    "    \n",
    "    return data"
   ]
  },
  {
   "cell_type": "code",
   "execution_count": 53,
   "metadata": {},
   "outputs": [],
   "source": [
    "data = feature_engineer(data)"
   ]
  },
  {
   "cell_type": "code",
   "execution_count": 54,
   "metadata": {},
   "outputs": [
    {
     "data": {
      "text/html": [
       "<div>\n",
       "<style scoped>\n",
       "    .dataframe tbody tr th:only-of-type {\n",
       "        vertical-align: middle;\n",
       "    }\n",
       "\n",
       "    .dataframe tbody tr th {\n",
       "        vertical-align: top;\n",
       "    }\n",
       "\n",
       "    .dataframe thead th {\n",
       "        text-align: right;\n",
       "    }\n",
       "</style>\n",
       "<table border=\"1\" class=\"dataframe\">\n",
       "  <thead>\n",
       "    <tr style=\"text-align: right;\">\n",
       "      <th></th>\n",
       "      <th>open</th>\n",
       "      <th>high</th>\n",
       "      <th>low</th>\n",
       "      <th>close</th>\n",
       "      <th>volume</th>\n",
       "      <th>Day_Perc_Change</th>\n",
       "      <th>Volatility</th>\n",
       "    </tr>\n",
       "    <tr>\n",
       "      <th>time</th>\n",
       "      <th></th>\n",
       "      <th></th>\n",
       "      <th></th>\n",
       "      <th></th>\n",
       "      <th></th>\n",
       "      <th></th>\n",
       "      <th></th>\n",
       "    </tr>\n",
       "  </thead>\n",
       "  <tbody>\n",
       "    <tr>\n",
       "      <th>2021-01-15 09:26:00-05:00</th>\n",
       "      <td>852.98</td>\n",
       "      <td>853.25</td>\n",
       "      <td>852.98</td>\n",
       "      <td>853.25</td>\n",
       "      <td>3460</td>\n",
       "      <td>0.000023</td>\n",
       "      <td>853.10396</td>\n",
       "    </tr>\n",
       "    <tr>\n",
       "      <th>2021-01-15 09:25:00-05:00</th>\n",
       "      <td>852.75</td>\n",
       "      <td>853.00</td>\n",
       "      <td>852.75</td>\n",
       "      <td>852.85</td>\n",
       "      <td>4066</td>\n",
       "      <td>-0.046880</td>\n",
       "      <td>853.25996</td>\n",
       "    </tr>\n",
       "    <tr>\n",
       "      <th>2021-01-15 09:24:00-05:00</th>\n",
       "      <td>853.20</td>\n",
       "      <td>853.20</td>\n",
       "      <td>852.50</td>\n",
       "      <td>852.80</td>\n",
       "      <td>5050</td>\n",
       "      <td>-0.005863</td>\n",
       "      <td>852.98996</td>\n",
       "    </tr>\n",
       "    <tr>\n",
       "      <th>2021-01-15 09:23:00-05:00</th>\n",
       "      <td>853.43</td>\n",
       "      <td>853.45</td>\n",
       "      <td>853.25</td>\n",
       "      <td>853.25</td>\n",
       "      <td>3859</td>\n",
       "      <td>0.052767</td>\n",
       "      <td>853.07996</td>\n",
       "    </tr>\n",
       "    <tr>\n",
       "      <th>2021-01-15 09:22:00-05:00</th>\n",
       "      <td>853.50</td>\n",
       "      <td>853.50</td>\n",
       "      <td>853.50</td>\n",
       "      <td>853.50</td>\n",
       "      <td>1805</td>\n",
       "      <td>0.029300</td>\n",
       "      <td>853.13000</td>\n",
       "    </tr>\n",
       "  </tbody>\n",
       "</table>\n",
       "</div>"
      ],
      "text/plain": [
       "                             open    high     low   close  volume  \\\n",
       "time                                                                \n",
       "2021-01-15 09:26:00-05:00  852.98  853.25  852.98  853.25    3460   \n",
       "2021-01-15 09:25:00-05:00  852.75  853.00  852.75  852.85    4066   \n",
       "2021-01-15 09:24:00-05:00  853.20  853.20  852.50  852.80    5050   \n",
       "2021-01-15 09:23:00-05:00  853.43  853.45  853.25  853.25    3859   \n",
       "2021-01-15 09:22:00-05:00  853.50  853.50  853.50  853.50    1805   \n",
       "\n",
       "                           Day_Perc_Change  Volatility  \n",
       "time                                                    \n",
       "2021-01-15 09:26:00-05:00         0.000023   853.10396  \n",
       "2021-01-15 09:25:00-05:00        -0.046880   853.25996  \n",
       "2021-01-15 09:24:00-05:00        -0.005863   852.98996  \n",
       "2021-01-15 09:23:00-05:00         0.052767   853.07996  \n",
       "2021-01-15 09:22:00-05:00         0.029300   853.13000  "
      ]
     },
     "execution_count": 54,
     "metadata": {},
     "output_type": "execute_result"
    }
   ],
   "source": [
    "data.head()"
   ]
  },
  {
   "cell_type": "code",
   "execution_count": 55,
   "metadata": {},
   "outputs": [
    {
     "data": {
      "text/plain": [
       "open               0\n",
       "high               0\n",
       "low                0\n",
       "close              0\n",
       "volume             0\n",
       "Day_Perc_Change    0\n",
       "Volatility         0\n",
       "dtype: int64"
      ]
     },
     "execution_count": 55,
     "metadata": {},
     "output_type": "execute_result"
    }
   ],
   "source": [
    "data.isnull().sum()"
   ]
  },
  {
   "cell_type": "code",
   "execution_count": 56,
   "metadata": {},
   "outputs": [
    {
     "data": {
      "text/plain": [
       "(23781, 7)"
      ]
     },
     "execution_count": 56,
     "metadata": {},
     "output_type": "execute_result"
    }
   ],
   "source": [
    "data.shape"
   ]
  },
  {
   "cell_type": "code",
   "execution_count": 59,
   "metadata": {},
   "outputs": [],
   "source": [
    "\n",
    "data.to_csv(output_fp)"
   ]
  },
  {
   "cell_type": "code",
   "execution_count": null,
   "metadata": {},
   "outputs": [],
   "source": []
  },
  {
   "cell_type": "code",
   "execution_count": null,
   "metadata": {},
   "outputs": [],
   "source": []
  },
  {
   "cell_type": "code",
   "execution_count": null,
   "metadata": {},
   "outputs": [],
   "source": []
  }
 ],
 "metadata": {
  "kernelspec": {
   "display_name": "Python 3",
   "language": "python",
   "name": "python3"
  },
  "language_info": {
   "codemirror_mode": {
    "name": "ipython",
    "version": 3
   },
   "file_extension": ".py",
   "mimetype": "text/x-python",
   "name": "python",
   "nbconvert_exporter": "python",
   "pygments_lexer": "ipython3",
   "version": "3.8.5"
  }
 },
 "nbformat": 4,
 "nbformat_minor": 4
}
