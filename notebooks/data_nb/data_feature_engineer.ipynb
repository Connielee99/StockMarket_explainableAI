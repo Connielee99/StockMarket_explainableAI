{
 "cells": [
  {
   "cell_type": "code",
   "execution_count": 141,
   "metadata": {},
   "outputs": [],
   "source": [
    "import pandas as pd\n",
    "import numpy as np"
   ]
  },
  {
   "cell_type": "code",
   "execution_count": 142,
   "metadata": {},
   "outputs": [],
   "source": [
    "file_path = '../../data/TSLA/RawData/extended_intraday_TSLA_1min_year1month10_adjusted.csv'"
   ]
  },
  {
   "cell_type": "code",
   "execution_count": 143,
   "metadata": {},
   "outputs": [],
   "source": [
    "data = pd.read_csv(file_path)"
   ]
  },
  {
   "cell_type": "code",
   "execution_count": 144,
   "metadata": {},
   "outputs": [],
   "source": [
    "time_col = pd.DatetimeIndex(data.time).tz_localize('US/Eastern')\n",
    "data.time = time_col\n",
    "data.set_index('time', inplace = True)"
   ]
  },
  {
   "cell_type": "code",
   "execution_count": 145,
   "metadata": {},
   "outputs": [
    {
     "data": {
      "text/html": [
       "<div>\n",
       "<style scoped>\n",
       "    .dataframe tbody tr th:only-of-type {\n",
       "        vertical-align: middle;\n",
       "    }\n",
       "\n",
       "    .dataframe tbody tr th {\n",
       "        vertical-align: top;\n",
       "    }\n",
       "\n",
       "    .dataframe thead th {\n",
       "        text-align: right;\n",
       "    }\n",
       "</style>\n",
       "<table border=\"1\" class=\"dataframe\">\n",
       "  <thead>\n",
       "    <tr style=\"text-align: right;\">\n",
       "      <th></th>\n",
       "      <th>open</th>\n",
       "      <th>high</th>\n",
       "      <th>low</th>\n",
       "      <th>close</th>\n",
       "      <th>volume</th>\n",
       "    </tr>\n",
       "    <tr>\n",
       "      <th>time</th>\n",
       "      <th></th>\n",
       "      <th></th>\n",
       "      <th></th>\n",
       "      <th></th>\n",
       "      <th></th>\n",
       "    </tr>\n",
       "  </thead>\n",
       "  <tbody>\n",
       "    <tr>\n",
       "      <th>2020-04-23 20:00:00-04:00</th>\n",
       "      <td>139.550</td>\n",
       "      <td>139.552</td>\n",
       "      <td>139.384</td>\n",
       "      <td>139.384</td>\n",
       "      <td>8430</td>\n",
       "    </tr>\n",
       "    <tr>\n",
       "      <th>2020-04-23 19:59:00-04:00</th>\n",
       "      <td>139.470</td>\n",
       "      <td>139.500</td>\n",
       "      <td>139.470</td>\n",
       "      <td>139.500</td>\n",
       "      <td>3595</td>\n",
       "    </tr>\n",
       "    <tr>\n",
       "      <th>2020-04-23 19:58:00-04:00</th>\n",
       "      <td>139.212</td>\n",
       "      <td>139.288</td>\n",
       "      <td>139.212</td>\n",
       "      <td>139.288</td>\n",
       "      <td>8910</td>\n",
       "    </tr>\n",
       "    <tr>\n",
       "      <th>2020-04-23 19:57:00-04:00</th>\n",
       "      <td>139.208</td>\n",
       "      <td>139.300</td>\n",
       "      <td>139.200</td>\n",
       "      <td>139.200</td>\n",
       "      <td>5495</td>\n",
       "    </tr>\n",
       "    <tr>\n",
       "      <th>2020-04-23 19:56:00-04:00</th>\n",
       "      <td>139.500</td>\n",
       "      <td>139.500</td>\n",
       "      <td>139.206</td>\n",
       "      <td>139.206</td>\n",
       "      <td>10910</td>\n",
       "    </tr>\n",
       "  </tbody>\n",
       "</table>\n",
       "</div>"
      ],
      "text/plain": [
       "                              open     high      low    close  volume\n",
       "time                                                                 \n",
       "2020-04-23 20:00:00-04:00  139.550  139.552  139.384  139.384    8430\n",
       "2020-04-23 19:59:00-04:00  139.470  139.500  139.470  139.500    3595\n",
       "2020-04-23 19:58:00-04:00  139.212  139.288  139.212  139.288    8910\n",
       "2020-04-23 19:57:00-04:00  139.208  139.300  139.200  139.200    5495\n",
       "2020-04-23 19:56:00-04:00  139.500  139.500  139.206  139.206   10910"
      ]
     },
     "execution_count": 145,
     "metadata": {},
     "output_type": "execute_result"
    }
   ],
   "source": [
    "data.head()"
   ]
  },
  {
   "cell_type": "markdown",
   "metadata": {},
   "source": [
    "High-Low within the minute bar"
   ]
  },
  {
   "cell_type": "code",
   "execution_count": 146,
   "metadata": {},
   "outputs": [
    {
     "data": {
      "text/html": [
       "<div>\n",
       "<style scoped>\n",
       "    .dataframe tbody tr th:only-of-type {\n",
       "        vertical-align: middle;\n",
       "    }\n",
       "\n",
       "    .dataframe tbody tr th {\n",
       "        vertical-align: top;\n",
       "    }\n",
       "\n",
       "    .dataframe thead th {\n",
       "        text-align: right;\n",
       "    }\n",
       "</style>\n",
       "<table border=\"1\" class=\"dataframe\">\n",
       "  <thead>\n",
       "    <tr style=\"text-align: right;\">\n",
       "      <th></th>\n",
       "      <th>open</th>\n",
       "      <th>high</th>\n",
       "      <th>low</th>\n",
       "      <th>close</th>\n",
       "      <th>volume</th>\n",
       "      <th>Day_Perc_Change</th>\n",
       "    </tr>\n",
       "    <tr>\n",
       "      <th>time</th>\n",
       "      <th></th>\n",
       "      <th></th>\n",
       "      <th></th>\n",
       "      <th></th>\n",
       "      <th></th>\n",
       "      <th></th>\n",
       "    </tr>\n",
       "  </thead>\n",
       "  <tbody>\n",
       "    <tr>\n",
       "      <th>2020-04-23 19:59:00-04:00</th>\n",
       "      <td>139.470</td>\n",
       "      <td>139.500</td>\n",
       "      <td>139.470</td>\n",
       "      <td>139.500</td>\n",
       "      <td>3595</td>\n",
       "      <td>0.083223</td>\n",
       "    </tr>\n",
       "    <tr>\n",
       "      <th>2020-04-23 19:58:00-04:00</th>\n",
       "      <td>139.212</td>\n",
       "      <td>139.288</td>\n",
       "      <td>139.212</td>\n",
       "      <td>139.288</td>\n",
       "      <td>8910</td>\n",
       "      <td>-0.151971</td>\n",
       "    </tr>\n",
       "    <tr>\n",
       "      <th>2020-04-23 19:57:00-04:00</th>\n",
       "      <td>139.208</td>\n",
       "      <td>139.300</td>\n",
       "      <td>139.200</td>\n",
       "      <td>139.200</td>\n",
       "      <td>5495</td>\n",
       "      <td>-0.063178</td>\n",
       "    </tr>\n",
       "    <tr>\n",
       "      <th>2020-04-23 19:56:00-04:00</th>\n",
       "      <td>139.500</td>\n",
       "      <td>139.500</td>\n",
       "      <td>139.206</td>\n",
       "      <td>139.206</td>\n",
       "      <td>10910</td>\n",
       "      <td>0.004310</td>\n",
       "    </tr>\n",
       "    <tr>\n",
       "      <th>2020-04-23 19:54:00-04:00</th>\n",
       "      <td>139.560</td>\n",
       "      <td>139.560</td>\n",
       "      <td>139.560</td>\n",
       "      <td>139.560</td>\n",
       "      <td>995</td>\n",
       "      <td>0.254299</td>\n",
       "    </tr>\n",
       "  </tbody>\n",
       "</table>\n",
       "</div>"
      ],
      "text/plain": [
       "                              open     high      low    close  volume  \\\n",
       "time                                                                    \n",
       "2020-04-23 19:59:00-04:00  139.470  139.500  139.470  139.500    3595   \n",
       "2020-04-23 19:58:00-04:00  139.212  139.288  139.212  139.288    8910   \n",
       "2020-04-23 19:57:00-04:00  139.208  139.300  139.200  139.200    5495   \n",
       "2020-04-23 19:56:00-04:00  139.500  139.500  139.206  139.206   10910   \n",
       "2020-04-23 19:54:00-04:00  139.560  139.560  139.560  139.560     995   \n",
       "\n",
       "                           Day_Perc_Change  \n",
       "time                                        \n",
       "2020-04-23 19:59:00-04:00         0.083223  \n",
       "2020-04-23 19:58:00-04:00        -0.151971  \n",
       "2020-04-23 19:57:00-04:00        -0.063178  \n",
       "2020-04-23 19:56:00-04:00         0.004310  \n",
       "2020-04-23 19:54:00-04:00         0.254299  "
      ]
     },
     "execution_count": 146,
     "metadata": {},
     "output_type": "execute_result"
    }
   ],
   "source": [
    "data['Day_Perc_Change'] = data['close'].pct_change(periods=1)*100\n",
    "data.dropna(axis=0, inplace=True)\n",
    "data.head()"
   ]
  },
  {
   "cell_type": "code",
   "execution_count": 147,
   "metadata": {},
   "outputs": [
    {
     "data": {
      "text/plain": [
       "<AxesSubplot:xlabel='time'>"
      ]
     },
     "execution_count": 147,
     "metadata": {},
     "output_type": "execute_result"
    },
    {
     "data": {
      "image/png": "[encoded data removed]",
      "text/plain": [
       "<Figure size 864x432 with 1 Axes>"
      ]
     },
     "metadata": {
      "needs_background": "light"
     },
     "output_type": "display_data"
    }
   ],
   "source": [
    "data['Day_Perc_Change'].plot(figsize = (12, 6), fontsize = 12)"
   ]
  },
  {
   "cell_type": "markdown",
   "metadata": {},
   "source": [
    "Volitility Analysis\n",
    "* Applying a rolling mean window of size 5"
   ]
  },
  {
   "cell_type": "code",
   "execution_count": 148,
   "metadata": {},
   "outputs": [],
   "source": [
    "vol = data['close'].rolling(5).mean()#std()*np.sqrt(5)"
   ]
  },
  {
   "cell_type": "code",
   "execution_count": 149,
   "metadata": {},
   "outputs": [],
   "source": [
    "data = data.assign(Volatility=vol)"
   ]
  },
  {
   "cell_type": "code",
   "execution_count": 150,
   "metadata": {},
   "outputs": [
    {
     "data": {
      "text/plain": [
       "<AxesSubplot:xlabel='time'>"
      ]
     },
     "execution_count": 150,
     "metadata": {},
     "output_type": "execute_result"
    },
    {
     "data": {
      "image/png": "[encoded data removed]",
      "text/plain": [
       "<Figure size 1080x504 with 1 Axes>"
      ]
     },
     "metadata": {
      "needs_background": "light"
     },
     "output_type": "display_data"
    }
   ],
   "source": [
    "data.Volatility.plot(figsize=(15,7))"
   ]
  },
  {
   "cell_type": "code",
   "execution_count": 151,
   "metadata": {},
   "outputs": [],
   "source": [
    "data.reset_index(inplace=True)"
   ]
  },
  {
   "cell_type": "code",
   "execution_count": 152,
   "metadata": {},
   "outputs": [
    {
     "data": {
      "text/plain": [
       "(15567, 8)"
      ]
     },
     "execution_count": 152,
     "metadata": {},
     "output_type": "execute_result"
    }
   ],
   "source": [
    "data.shape"
   ]
  },
  {
   "cell_type": "markdown",
   "metadata": {},
   "source": [
    "Filter out data to use volatility on data an hour prior to market open\n",
    "* Market Open: NYSE open Monday-Friday 9:30am to 4pm. Eastern time."
   ]
  },
  {
   "cell_type": "code",
   "execution_count": 153,
   "metadata": {},
   "outputs": [],
   "source": [
    "data = data.loc[data.time.apply(lambda date:(date.time()<=datetime.time(hour=9, minute=30))\n",
    "                        and (date.time()>=datetime.time(hour=8, minute=30))\n",
    "                        )]"
   ]
  },
  {
   "cell_type": "code",
   "execution_count": 154,
   "metadata": {},
   "outputs": [],
   "source": [
    "data = data.set_index('time')"
   ]
  },
  {
   "cell_type": "code",
   "execution_count": 155,
   "metadata": {},
   "outputs": [
    {
     "data": {
      "text/html": [
       "<div>\n",
       "<style scoped>\n",
       "    .dataframe tbody tr th:only-of-type {\n",
       "        vertical-align: middle;\n",
       "    }\n",
       "\n",
       "    .dataframe tbody tr th {\n",
       "        vertical-align: top;\n",
       "    }\n",
       "\n",
       "    .dataframe thead th {\n",
       "        text-align: right;\n",
       "    }\n",
       "</style>\n",
       "<table border=\"1\" class=\"dataframe\">\n",
       "  <thead>\n",
       "    <tr style=\"text-align: right;\">\n",
       "      <th></th>\n",
       "      <th>open</th>\n",
       "      <th>high</th>\n",
       "      <th>low</th>\n",
       "      <th>close</th>\n",
       "      <th>volume</th>\n",
       "      <th>Day_Perc_Change</th>\n",
       "      <th>Volatility</th>\n",
       "    </tr>\n",
       "    <tr>\n",
       "      <th>time</th>\n",
       "      <th></th>\n",
       "      <th></th>\n",
       "      <th></th>\n",
       "      <th></th>\n",
       "      <th></th>\n",
       "      <th></th>\n",
       "      <th></th>\n",
       "    </tr>\n",
       "  </thead>\n",
       "  <tbody>\n",
       "    <tr>\n",
       "      <th>2020-04-23 09:30:00-04:00</th>\n",
       "      <td>145.25600</td>\n",
       "      <td>145.37400</td>\n",
       "      <td>145.25600</td>\n",
       "      <td>145.37400</td>\n",
       "      <td>43270</td>\n",
       "      <td>-0.151791</td>\n",
       "      <td>145.039104</td>\n",
       "    </tr>\n",
       "    <tr>\n",
       "      <th>2020-04-23 09:29:00-04:00</th>\n",
       "      <td>146.33800</td>\n",
       "      <td>146.33800</td>\n",
       "      <td>145.20000</td>\n",
       "      <td>145.20000</td>\n",
       "      <td>45200</td>\n",
       "      <td>-0.119691</td>\n",
       "      <td>145.070604</td>\n",
       "    </tr>\n",
       "    <tr>\n",
       "      <th>2020-04-23 09:24:00-04:00</th>\n",
       "      <td>146.44992</td>\n",
       "      <td>146.44992</td>\n",
       "      <td>146.44992</td>\n",
       "      <td>146.44992</td>\n",
       "      <td>3720</td>\n",
       "      <td>0.860826</td>\n",
       "      <td>145.464984</td>\n",
       "    </tr>\n",
       "    <tr>\n",
       "      <th>2020-04-23 09:23:00-04:00</th>\n",
       "      <td>146.36000</td>\n",
       "      <td>146.45000</td>\n",
       "      <td>146.34200</td>\n",
       "      <td>146.45000</td>\n",
       "      <td>19410</td>\n",
       "      <td>0.000055</td>\n",
       "      <td>145.813784</td>\n",
       "    </tr>\n",
       "    <tr>\n",
       "      <th>2020-04-23 09:22:00-04:00</th>\n",
       "      <td>146.30000</td>\n",
       "      <td>146.30000</td>\n",
       "      <td>146.30000</td>\n",
       "      <td>146.30000</td>\n",
       "      <td>3600</td>\n",
       "      <td>-0.102424</td>\n",
       "      <td>145.954784</td>\n",
       "    </tr>\n",
       "  </tbody>\n",
       "</table>\n",
       "</div>"
      ],
      "text/plain": [
       "                                open       high        low      close  volume  \\\n",
       "time                                                                            \n",
       "2020-04-23 09:30:00-04:00  145.25600  145.37400  145.25600  145.37400   43270   \n",
       "2020-04-23 09:29:00-04:00  146.33800  146.33800  145.20000  145.20000   45200   \n",
       "2020-04-23 09:24:00-04:00  146.44992  146.44992  146.44992  146.44992    3720   \n",
       "2020-04-23 09:23:00-04:00  146.36000  146.45000  146.34200  146.45000   19410   \n",
       "2020-04-23 09:22:00-04:00  146.30000  146.30000  146.30000  146.30000    3600   \n",
       "\n",
       "                           Day_Perc_Change  Volatility  \n",
       "time                                                    \n",
       "2020-04-23 09:30:00-04:00        -0.151791  145.039104  \n",
       "2020-04-23 09:29:00-04:00        -0.119691  145.070604  \n",
       "2020-04-23 09:24:00-04:00         0.860826  145.464984  \n",
       "2020-04-23 09:23:00-04:00         0.000055  145.813784  \n",
       "2020-04-23 09:22:00-04:00        -0.102424  145.954784  "
      ]
     },
     "execution_count": 155,
     "metadata": {},
     "output_type": "execute_result"
    }
   ],
   "source": [
    "data.head()"
   ]
  },
  {
   "cell_type": "code",
   "execution_count": 156,
   "metadata": {},
   "outputs": [],
   "source": [
    "# data.to_csv('data.csv')"
   ]
  },
  {
   "cell_type": "code",
   "execution_count": null,
   "metadata": {},
   "outputs": [],
   "source": []
  },
  {
   "cell_type": "code",
   "execution_count": null,
   "metadata": {},
   "outputs": [],
   "source": []
  },
  {
   "cell_type": "code",
   "execution_count": 157,
   "metadata": {},
   "outputs": [],
   "source": [
    "data.to_csv('data_vol.csv')"
   ]
  },
  {
   "cell_type": "code",
   "execution_count": null,
   "metadata": {},
   "outputs": [],
   "source": []
  }
 ],
 "metadata": {
  "kernelspec": {
   "display_name": "Python 3",
   "language": "python",
   "name": "python3"
  },
  "language_info": {
   "codemirror_mode": {
    "name": "ipython",
    "version": 3
   },
   "file_extension": ".py",
   "mimetype": "text/x-python",
   "name": "python",
   "nbconvert_exporter": "python",
   "pygments_lexer": "ipython3",
   "version": "3.8.5"
  }
 },
 "nbformat": 4,
 "nbformat_minor": 4
}
