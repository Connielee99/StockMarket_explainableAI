{
 "cells": [
  {
   "cell_type": "code",
<<<<<<< Updated upstream
   "execution_count": 43,
=======
   "execution_count": 1,
>>>>>>> Stashed changes
   "metadata": {},
   "outputs": [],
   "source": [
    "import pandas as pd\n",
    "import numpy as np\n",
    "import datetime"
   ]
  },
  {
   "cell_type": "code",
<<<<<<< Updated upstream
   "execution_count": 44,
=======
   "execution_count": 2,
>>>>>>> Stashed changes
   "metadata": {},
   "outputs": [],
   "source": [
    "file_path = '../../data/raw_daily_data_201001_202101.csv'"
   ]
  },
  {
   "cell_type": "code",
<<<<<<< Updated upstream
   "execution_count": 45,
=======
   "execution_count": 3,
>>>>>>> Stashed changes
   "metadata": {},
   "outputs": [],
   "source": [
    "data = pd.read_csv(file_path, parse_dates=['Date'])\n",
    "data.set_index('Date', inplace = True)"
   ]
  },
  {
   "cell_type": "code",
<<<<<<< Updated upstream
   "execution_count": 46,
=======
   "execution_count": 4,
   "metadata": {},
   "outputs": [],
   "source": [
    "time_col = pd.DatetimeIndex(data.time).tz_localize('US/Eastern')\n",
    "data.time = time_col\n",
    "data.set_index('time', inplace = True)"
   ]
  },
  {
   "cell_type": "code",
   "execution_count": 5,
>>>>>>> Stashed changes
   "metadata": {},
   "outputs": [
    {
     "data": {
      "text/html": [
       "<div>\n",
       "<style scoped>\n",
       "    .dataframe tbody tr th:only-of-type {\n",
       "        vertical-align: middle;\n",
       "    }\n",
       "\n",
       "    .dataframe tbody tr th {\n",
       "        vertical-align: top;\n",
       "    }\n",
       "\n",
       "    .dataframe thead th {\n",
       "        text-align: right;\n",
       "    }\n",
       "</style>\n",
       "<table border=\"1\" class=\"dataframe\">\n",
       "  <thead>\n",
       "    <tr style=\"text-align: right;\">\n",
       "      <th></th>\n",
       "      <th>Open</th>\n",
       "      <th>High</th>\n",
       "      <th>Low</th>\n",
       "      <th>Close</th>\n",
       "      <th>Adj Close</th>\n",
       "      <th>Volume</th>\n",
       "    </tr>\n",
       "    <tr>\n",
       "      <th>Date</th>\n",
       "      <th></th>\n",
       "      <th></th>\n",
       "      <th></th>\n",
       "      <th></th>\n",
       "      <th></th>\n",
       "      <th></th>\n",
       "    </tr>\n",
       "  </thead>\n",
       "  <tbody>\n",
       "    <tr>\n",
       "      <td>2009-12-31</td>\n",
       "      <td>112.769997</td>\n",
       "      <td>112.800003</td>\n",
       "      <td>111.389999</td>\n",
       "      <td>111.440002</td>\n",
       "      <td>89.568359</td>\n",
       "      <td>90637900</td>\n",
       "    </tr>\n",
       "    <tr>\n",
       "      <td>2010-01-04</td>\n",
       "      <td>112.370003</td>\n",
       "      <td>113.389999</td>\n",
       "      <td>111.510002</td>\n",
       "      <td>113.330002</td>\n",
       "      <td>91.087418</td>\n",
       "      <td>118944600</td>\n",
       "    </tr>\n",
       "    <tr>\n",
       "      <td>2010-01-05</td>\n",
       "      <td>113.260002</td>\n",
       "      <td>113.680000</td>\n",
       "      <td>112.849998</td>\n",
       "      <td>113.629997</td>\n",
       "      <td>91.328552</td>\n",
       "      <td>111579900</td>\n",
       "    </tr>\n",
       "    <tr>\n",
       "      <td>2010-01-06</td>\n",
       "      <td>113.519997</td>\n",
       "      <td>113.989998</td>\n",
       "      <td>113.430000</td>\n",
       "      <td>113.709999</td>\n",
       "      <td>91.392838</td>\n",
       "      <td>116074400</td>\n",
       "    </tr>\n",
       "    <tr>\n",
       "      <td>2010-01-07</td>\n",
       "      <td>113.500000</td>\n",
       "      <td>114.330002</td>\n",
       "      <td>113.180000</td>\n",
       "      <td>114.190002</td>\n",
       "      <td>91.778671</td>\n",
       "      <td>131091100</td>\n",
       "    </tr>\n",
       "  </tbody>\n",
       "</table>\n",
       "</div>"
      ],
      "text/plain": [
       "                  Open        High         Low       Close  Adj Close  \\\n",
       "Date                                                                    \n",
       "2009-12-31  112.769997  112.800003  111.389999  111.440002  89.568359   \n",
       "2010-01-04  112.370003  113.389999  111.510002  113.330002  91.087418   \n",
       "2010-01-05  113.260002  113.680000  112.849998  113.629997  91.328552   \n",
       "2010-01-06  113.519997  113.989998  113.430000  113.709999  91.392838   \n",
       "2010-01-07  113.500000  114.330002  113.180000  114.190002  91.778671   \n",
       "\n",
       "               Volume  \n",
       "Date                   \n",
       "2009-12-31   90637900  \n",
       "2010-01-04  118944600  \n",
       "2010-01-05  111579900  \n",
       "2010-01-06  116074400  \n",
       "2010-01-07  131091100  "
      ]
     },
<<<<<<< Updated upstream
     "execution_count": 46,
=======
     "execution_count": 5,
>>>>>>> Stashed changes
     "metadata": {},
     "output_type": "execute_result"
    }
   ],
   "source": [
    "data.head()"
   ]
  },
  {
   "cell_type": "markdown",
   "metadata": {},
   "source": [
<<<<<<< Updated upstream
    "Daily Returns: Day-To-Day Percentage Change"
=======
    "### Volitility Analysis\n",
    "* Volatility defined as: $(\\sum High - Low)/n$\n",
    "* Applying a rolling mean window of size __10 seconds__"
>>>>>>> Stashed changes
   ]
  },
  {
   "cell_type": "code",
<<<<<<< Updated upstream
   "execution_count": 47,
=======
   "execution_count": 27,
>>>>>>> Stashed changes
   "metadata": {},
   "outputs": [
    {
     "data": {
      "text/html": [
       "<div>\n",
       "<style scoped>\n",
       "    .dataframe tbody tr th:only-of-type {\n",
       "        vertical-align: middle;\n",
       "    }\n",
       "\n",
       "    .dataframe tbody tr th {\n",
       "        vertical-align: top;\n",
       "    }\n",
       "\n",
       "    .dataframe thead th {\n",
       "        text-align: right;\n",
       "    }\n",
       "</style>\n",
       "<table border=\"1\" class=\"dataframe\">\n",
       "  <thead>\n",
       "    <tr style=\"text-align: right;\">\n",
       "      <th></th>\n",
<<<<<<< Updated upstream
       "      <th>Open</th>\n",
       "      <th>High</th>\n",
       "      <th>Low</th>\n",
       "      <th>Close</th>\n",
       "      <th>Adj Close</th>\n",
       "      <th>Volume</th>\n",
       "      <th>Day_Perc_Change</th>\n",
=======
       "      <th>open</th>\n",
       "      <th>high</th>\n",
       "      <th>low</th>\n",
       "      <th>close</th>\n",
       "      <th>volume</th>\n",
       "      <th>diff</th>\n",
       "      <th>volatility</th>\n",
       "      <th>date</th>\n",
>>>>>>> Stashed changes
       "    </tr>\n",
       "    <tr>\n",
       "      <th>Date</th>\n",
       "      <th></th>\n",
       "      <th></th>\n",
       "      <th></th>\n",
       "      <th></th>\n",
       "      <th></th>\n",
       "      <th></th>\n",
       "      <th></th>\n",
       "      <th></th>\n",
       "      <th></th>\n",
       "    </tr>\n",
       "  </thead>\n",
       "  <tbody>\n",
       "    <tr>\n",
<<<<<<< Updated upstream
       "      <td>2010-01-04</td>\n",
       "      <td>112.370003</td>\n",
       "      <td>113.389999</td>\n",
       "      <td>111.510002</td>\n",
       "      <td>113.330002</td>\n",
       "      <td>91.087418</td>\n",
       "      <td>118944600</td>\n",
       "      <td>1.695976</td>\n",
       "    </tr>\n",
       "    <tr>\n",
       "      <td>2010-01-05</td>\n",
       "      <td>113.260002</td>\n",
       "      <td>113.680000</td>\n",
       "      <td>112.849998</td>\n",
       "      <td>113.629997</td>\n",
       "      <td>91.328552</td>\n",
       "      <td>111579900</td>\n",
       "      <td>0.264729</td>\n",
       "    </tr>\n",
       "    <tr>\n",
       "      <td>2010-01-06</td>\n",
       "      <td>113.519997</td>\n",
       "      <td>113.989998</td>\n",
       "      <td>113.430000</td>\n",
       "      <td>113.709999</td>\n",
       "      <td>91.392838</td>\n",
       "      <td>116074400</td>\n",
       "      <td>0.070389</td>\n",
       "    </tr>\n",
       "    <tr>\n",
       "      <td>2010-01-07</td>\n",
       "      <td>113.500000</td>\n",
       "      <td>114.330002</td>\n",
       "      <td>113.180000</td>\n",
       "      <td>114.190002</td>\n",
       "      <td>91.778671</td>\n",
       "      <td>131091100</td>\n",
       "      <td>0.422171</td>\n",
       "    </tr>\n",
       "    <tr>\n",
       "      <td>2010-01-08</td>\n",
       "      <td>113.889999</td>\n",
       "      <td>114.620003</td>\n",
       "      <td>113.660004</td>\n",
       "      <td>114.570000</td>\n",
       "      <td>92.084045</td>\n",
       "      <td>126402800</td>\n",
       "      <td>0.332729</td>\n",
=======
       "      <th>2020-04-23 09:30:00-04:00</th>\n",
       "      <td>145.25600</td>\n",
       "      <td>145.37400</td>\n",
       "      <td>145.25600</td>\n",
       "      <td>145.37400</td>\n",
       "      <td>43270</td>\n",
       "      <td>0.118</td>\n",
       "      <td>0.118</td>\n",
       "      <td>2020-04-23</td>\n",
       "    </tr>\n",
       "    <tr>\n",
       "      <th>2020-04-23 09:29:00-04:00</th>\n",
       "      <td>146.33800</td>\n",
       "      <td>146.33800</td>\n",
       "      <td>145.20000</td>\n",
       "      <td>145.20000</td>\n",
       "      <td>45200</td>\n",
       "      <td>1.138</td>\n",
       "      <td>1.138</td>\n",
       "      <td>2020-04-23</td>\n",
       "    </tr>\n",
       "    <tr>\n",
       "      <th>2020-04-23 09:24:00-04:00</th>\n",
       "      <td>146.44992</td>\n",
       "      <td>146.44992</td>\n",
       "      <td>146.44992</td>\n",
       "      <td>146.44992</td>\n",
       "      <td>3720</td>\n",
       "      <td>0.000</td>\n",
       "      <td>0.000</td>\n",
       "      <td>2020-04-23</td>\n",
       "    </tr>\n",
       "    <tr>\n",
       "      <th>2020-04-23 09:23:00-04:00</th>\n",
       "      <td>146.36000</td>\n",
       "      <td>146.45000</td>\n",
       "      <td>146.34200</td>\n",
       "      <td>146.45000</td>\n",
       "      <td>19410</td>\n",
       "      <td>0.108</td>\n",
       "      <td>0.108</td>\n",
       "      <td>2020-04-23</td>\n",
       "    </tr>\n",
       "    <tr>\n",
       "      <th>2020-04-23 09:22:00-04:00</th>\n",
       "      <td>146.30000</td>\n",
       "      <td>146.30000</td>\n",
       "      <td>146.30000</td>\n",
       "      <td>146.30000</td>\n",
       "      <td>3600</td>\n",
       "      <td>0.000</td>\n",
       "      <td>0.000</td>\n",
       "      <td>2020-04-23</td>\n",
>>>>>>> Stashed changes
       "    </tr>\n",
       "  </tbody>\n",
       "</table>\n",
       "</div>"
      ],
      "text/plain": [
<<<<<<< Updated upstream
       "                  Open        High         Low       Close  Adj Close  \\\n",
       "Date                                                                    \n",
       "2010-01-04  112.370003  113.389999  111.510002  113.330002  91.087418   \n",
       "2010-01-05  113.260002  113.680000  112.849998  113.629997  91.328552   \n",
       "2010-01-06  113.519997  113.989998  113.430000  113.709999  91.392838   \n",
       "2010-01-07  113.500000  114.330002  113.180000  114.190002  91.778671   \n",
       "2010-01-08  113.889999  114.620003  113.660004  114.570000  92.084045   \n",
       "\n",
       "               Volume  Day_Perc_Change  \n",
       "Date                                    \n",
       "2010-01-04  118944600         1.695976  \n",
       "2010-01-05  111579900         0.264729  \n",
       "2010-01-06  116074400         0.070389  \n",
       "2010-01-07  131091100         0.422171  \n",
       "2010-01-08  126402800         0.332729  "
      ]
     },
     "execution_count": 47,
=======
       "                                open       high        low      close  volume  \\\n",
       "time                                                                            \n",
       "2020-04-23 09:30:00-04:00  145.25600  145.37400  145.25600  145.37400   43270   \n",
       "2020-04-23 09:29:00-04:00  146.33800  146.33800  145.20000  145.20000   45200   \n",
       "2020-04-23 09:24:00-04:00  146.44992  146.44992  146.44992  146.44992    3720   \n",
       "2020-04-23 09:23:00-04:00  146.36000  146.45000  146.34200  146.45000   19410   \n",
       "2020-04-23 09:22:00-04:00  146.30000  146.30000  146.30000  146.30000    3600   \n",
       "\n",
       "                            diff  volatility        date  \n",
       "time                                                      \n",
       "2020-04-23 09:30:00-04:00  0.118       0.118  2020-04-23  \n",
       "2020-04-23 09:29:00-04:00  1.138       1.138  2020-04-23  \n",
       "2020-04-23 09:24:00-04:00  0.000       0.000  2020-04-23  \n",
       "2020-04-23 09:23:00-04:00  0.108       0.108  2020-04-23  \n",
       "2020-04-23 09:22:00-04:00  0.000       0.000  2020-04-23  "
      ]
     },
     "execution_count": 27,
>>>>>>> Stashed changes
     "metadata": {},
     "output_type": "execute_result"
    }
   ],
   "source": [
<<<<<<< Updated upstream
    "data['Day_Perc_Change'] = data['Adj Close'].pct_change()*100\n",
    "data.dropna(axis=0, inplace=True)\n",
=======
    "time_wdw = '10s'\n",
    "\n",
    "data['diff'] = data['high'] - data['low']\n",
    "vol = data['diff'].rolling(time_wdw).mean()\n",
    "data = data.assign(volatility=vol)\n",
>>>>>>> Stashed changes
    "data.head()"
   ]
  },
  {
   "cell_type": "code",
<<<<<<< Updated upstream
   "execution_count": 48,
=======
   "execution_count": 26,
>>>>>>> Stashed changes
   "metadata": {},
   "outputs": [
    {
     "data": {
      "text/plain": [
<<<<<<< Updated upstream
       "<matplotlib.axes._subplots.AxesSubplot at 0x7fa6675ea470>"
      ]
     },
     "execution_count": 48,
=======
       "<matplotlib.axes._subplots.AxesSubplot at 0x7f2f87f52fd0>"
      ]
     },
     "execution_count": 26,
>>>>>>> Stashed changes
     "metadata": {},
     "output_type": "execute_result"
    },
    {
     "data": {
<<<<<<< Updated upstream
      "image/png": "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\n",
=======
      "image/png": "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\n",
>>>>>>> Stashed changes
      "text/plain": [
       "<Figure size 1080x504 with 1 Axes>"
      ]
     },
     "metadata": {
      "needs_background": "light"
     },
     "output_type": "display_data"
    }
   ],
   "source": [
<<<<<<< Updated upstream
    "data['Day_Perc_Change'].plot(figsize = (12, 6), fontsize = 12)"
   ]
  },
  {
   "cell_type": "markdown",
   "metadata": {},
   "source": [
    "Volitility Analysis"
   ]
  },
  {
   "cell_type": "code",
   "execution_count": 49,
   "metadata": {},
   "outputs": [],
   "source": [
    "vol = data['Adj Close'].rolling(7).std()*np.sqrt(7)"
=======
    "data.volatility.plot(figsize=(15,7))"
>>>>>>> Stashed changes
   ]
  },
  {
   "cell_type": "code",
<<<<<<< Updated upstream
   "execution_count": 50,
=======
   "execution_count": 10,
>>>>>>> Stashed changes
   "metadata": {},
   "outputs": [],
   "source": [
    "data.reset_index(inplace=True)"
   ]
  },
  {
   "cell_type": "code",
<<<<<<< Updated upstream
   "execution_count": 54,
   "metadata": {},
=======
   "execution_count": 11,
   "metadata": {},
   "outputs": [
    {
     "data": {
      "text/plain": [
       "(15568, 8)"
      ]
     },
     "execution_count": 11,
     "metadata": {},
     "output_type": "execute_result"
    }
   ],
   "source": [
    "data.shape"
   ]
  },
  {
   "cell_type": "markdown",
   "metadata": {},
   "source": [
    "### Filter out data to use volatility on data an hour prior to market open\n",
    "* Market Open: NYSE open Monday-Friday 9:30am to 4pm. Eastern time."
   ]
  },
  {
   "cell_type": "code",
   "execution_count": 12,
   "metadata": {},
   "outputs": [],
   "source": [
    "data = data.loc[data.time.apply(lambda date:(date.time()<=datetime.time(hour=9, minute=30))\n",
    "                        and (date.time()>=datetime.time(hour=8, minute=30))\n",
    "                        )]"
   ]
  },
  {
   "cell_type": "code",
   "execution_count": 13,
   "metadata": {},
   "outputs": [],
   "source": [
    "data = data.set_index('time')"
   ]
  },
  {
   "cell_type": "code",
   "execution_count": 14,
   "metadata": {
    "scrolled": true
   },
   "outputs": [
    {
     "data": {
      "text/html": [
       "<div>\n",
       "<style scoped>\n",
       "    .dataframe tbody tr th:only-of-type {\n",
       "        vertical-align: middle;\n",
       "    }\n",
       "\n",
       "    .dataframe tbody tr th {\n",
       "        vertical-align: top;\n",
       "    }\n",
       "\n",
       "    .dataframe thead th {\n",
       "        text-align: right;\n",
       "    }\n",
       "</style>\n",
       "<table border=\"1\" class=\"dataframe\">\n",
       "  <thead>\n",
       "    <tr style=\"text-align: right;\">\n",
       "      <th></th>\n",
       "      <th>open</th>\n",
       "      <th>high</th>\n",
       "      <th>low</th>\n",
       "      <th>close</th>\n",
       "      <th>volume</th>\n",
       "      <th>diff</th>\n",
       "      <th>volatility</th>\n",
       "    </tr>\n",
       "    <tr>\n",
       "      <th>time</th>\n",
       "      <th></th>\n",
       "      <th></th>\n",
       "      <th></th>\n",
       "      <th></th>\n",
       "      <th></th>\n",
       "      <th></th>\n",
       "      <th></th>\n",
       "    </tr>\n",
       "  </thead>\n",
       "  <tbody>\n",
       "    <tr>\n",
       "      <th>2020-04-23 09:30:00-04:00</th>\n",
       "      <td>145.25600</td>\n",
       "      <td>145.37400</td>\n",
       "      <td>145.25600</td>\n",
       "      <td>145.37400</td>\n",
       "      <td>43270</td>\n",
       "      <td>0.118</td>\n",
       "      <td>0.118</td>\n",
       "    </tr>\n",
       "    <tr>\n",
       "      <th>2020-04-23 09:29:00-04:00</th>\n",
       "      <td>146.33800</td>\n",
       "      <td>146.33800</td>\n",
       "      <td>145.20000</td>\n",
       "      <td>145.20000</td>\n",
       "      <td>45200</td>\n",
       "      <td>1.138</td>\n",
       "      <td>1.138</td>\n",
       "    </tr>\n",
       "    <tr>\n",
       "      <th>2020-04-23 09:24:00-04:00</th>\n",
       "      <td>146.44992</td>\n",
       "      <td>146.44992</td>\n",
       "      <td>146.44992</td>\n",
       "      <td>146.44992</td>\n",
       "      <td>3720</td>\n",
       "      <td>0.000</td>\n",
       "      <td>0.000</td>\n",
       "    </tr>\n",
       "    <tr>\n",
       "      <th>2020-04-23 09:23:00-04:00</th>\n",
       "      <td>146.36000</td>\n",
       "      <td>146.45000</td>\n",
       "      <td>146.34200</td>\n",
       "      <td>146.45000</td>\n",
       "      <td>19410</td>\n",
       "      <td>0.108</td>\n",
       "      <td>0.108</td>\n",
       "    </tr>\n",
       "    <tr>\n",
       "      <th>2020-04-23 09:22:00-04:00</th>\n",
       "      <td>146.30000</td>\n",
       "      <td>146.30000</td>\n",
       "      <td>146.30000</td>\n",
       "      <td>146.30000</td>\n",
       "      <td>3600</td>\n",
       "      <td>0.000</td>\n",
       "      <td>0.000</td>\n",
       "    </tr>\n",
       "  </tbody>\n",
       "</table>\n",
       "</div>"
      ],
      "text/plain": [
       "                                open       high        low      close  volume  \\\n",
       "time                                                                            \n",
       "2020-04-23 09:30:00-04:00  145.25600  145.37400  145.25600  145.37400   43270   \n",
       "2020-04-23 09:29:00-04:00  146.33800  146.33800  145.20000  145.20000   45200   \n",
       "2020-04-23 09:24:00-04:00  146.44992  146.44992  146.44992  146.44992    3720   \n",
       "2020-04-23 09:23:00-04:00  146.36000  146.45000  146.34200  146.45000   19410   \n",
       "2020-04-23 09:22:00-04:00  146.30000  146.30000  146.30000  146.30000    3600   \n",
       "\n",
       "                            diff  volatility  \n",
       "time                                          \n",
       "2020-04-23 09:30:00-04:00  0.118       0.118  \n",
       "2020-04-23 09:29:00-04:00  1.138       1.138  \n",
       "2020-04-23 09:24:00-04:00  0.000       0.000  \n",
       "2020-04-23 09:23:00-04:00  0.108       0.108  \n",
       "2020-04-23 09:22:00-04:00  0.000       0.000  "
      ]
     },
     "execution_count": 14,
     "metadata": {},
     "output_type": "execute_result"
    }
   ],
   "source": [
    "data.head()"
   ]
  },
  {
   "cell_type": "code",
   "execution_count": 15,
   "metadata": {
    "scrolled": true
   },
   "outputs": [
    {
     "data": {
      "text/plain": [
       "open          0\n",
       "high          0\n",
       "low           0\n",
       "close         0\n",
       "volume        0\n",
       "diff          0\n",
       "volatility    0\n",
       "dtype: int64"
      ]
     },
     "execution_count": 15,
     "metadata": {},
     "output_type": "execute_result"
    }
   ],
   "source": [
    "data.isna().sum()"
   ]
  },
  {
   "cell_type": "code",
   "execution_count": 20,
   "metadata": {},
   "outputs": [
    {
     "data": {
      "text/plain": [
       "DatetimeIndex(['2020-04-23 09:30:00-04:00', '2020-04-23 09:29:00-04:00',\n",
       "               '2020-04-23 09:24:00-04:00', '2020-04-23 09:23:00-04:00',\n",
       "               '2020-04-23 09:22:00-04:00', '2020-04-23 09:21:00-04:00',\n",
       "               '2020-04-23 09:20:00-04:00', '2020-04-23 09:19:00-04:00',\n",
       "               '2020-04-23 09:18:00-04:00', '2020-04-23 09:17:00-04:00',\n",
       "               ...\n",
       "               '2020-03-25 08:39:00-04:00', '2020-03-25 08:38:00-04:00',\n",
       "               '2020-03-25 08:37:00-04:00', '2020-03-25 08:36:00-04:00',\n",
       "               '2020-03-25 08:35:00-04:00', '2020-03-25 08:34:00-04:00',\n",
       "               '2020-03-25 08:33:00-04:00', '2020-03-25 08:32:00-04:00',\n",
       "               '2020-03-25 08:31:00-04:00', '2020-03-25 08:30:00-04:00'],\n",
       "              dtype='datetime64[ns, US/Eastern]', name='time', length=1204, freq=None)"
      ]
     },
     "execution_count": 20,
     "metadata": {},
     "output_type": "execute_result"
    }
   ],
   "source": [
    "data.index"
   ]
  },
  {
   "cell_type": "code",
   "execution_count": 16,
   "metadata": {
    "scrolled": true
   },
>>>>>>> Stashed changes
   "outputs": [
    {
     "data": {
      "text/html": [
       "<div>\n",
       "<style scoped>\n",
       "    .dataframe tbody tr th:only-of-type {\n",
       "        vertical-align: middle;\n",
       "    }\n",
       "\n",
       "    .dataframe tbody tr th {\n",
       "        vertical-align: top;\n",
       "    }\n",
       "\n",
       "    .dataframe thead th {\n",
       "        text-align: right;\n",
       "    }\n",
       "</style>\n",
       "<table border=\"1\" class=\"dataframe\">\n",
       "  <thead>\n",
       "    <tr style=\"text-align: right;\">\n",
       "      <th></th>\n",
<<<<<<< Updated upstream
       "      <th>Open</th>\n",
       "      <th>High</th>\n",
       "      <th>Low</th>\n",
       "      <th>Close</th>\n",
       "      <th>Adj Close</th>\n",
       "      <th>Volume</th>\n",
       "      <th>Day_Perc_Change</th>\n",
       "      <th>Volatility</th>\n",
=======
       "      <th>open</th>\n",
       "      <th>high</th>\n",
       "      <th>low</th>\n",
       "      <th>close</th>\n",
       "      <th>volume</th>\n",
       "      <th>diff</th>\n",
       "      <th>volatility</th>\n",
       "      <th>date</th>\n",
>>>>>>> Stashed changes
       "    </tr>\n",
       "    <tr>\n",
       "      <th>Date</th>\n",
       "      <th></th>\n",
       "      <th></th>\n",
       "      <th></th>\n",
       "      <th></th>\n",
       "      <th></th>\n",
       "      <th></th>\n",
       "      <th></th>\n",
       "      <th></th>\n",
       "      <th></th>\n",
       "    </tr>\n",
       "  </thead>\n",
       "  <tbody>\n",
       "    <tr>\n",
<<<<<<< Updated upstream
       "      <td>2021-01-04</td>\n",
       "      <td>375.309998</td>\n",
       "      <td>375.450012</td>\n",
       "      <td>364.820007</td>\n",
       "      <td>368.790009</td>\n",
       "      <td>368.790009</td>\n",
       "      <td>110210800</td>\n",
       "      <td>-1.361398</td>\n",
       "      <td>5.999279</td>\n",
       "    </tr>\n",
       "    <tr>\n",
       "      <td>2021-01-05</td>\n",
       "      <td>368.100006</td>\n",
       "      <td>372.500000</td>\n",
       "      <td>368.049988</td>\n",
       "      <td>371.329987</td>\n",
       "      <td>371.329987</td>\n",
       "      <td>66426200</td>\n",
       "      <td>0.688733</td>\n",
       "      <td>4.766402</td>\n",
       "    </tr>\n",
       "    <tr>\n",
       "      <td>2021-01-06</td>\n",
       "      <td>369.709991</td>\n",
       "      <td>376.980011</td>\n",
       "      <td>369.119995</td>\n",
       "      <td>373.549988</td>\n",
       "      <td>373.549988</td>\n",
       "      <td>107997700</td>\n",
       "      <td>0.597851</td>\n",
       "      <td>4.441927</td>\n",
       "    </tr>\n",
       "    <tr>\n",
       "      <td>2021-01-07</td>\n",
       "      <td>376.100006</td>\n",
       "      <td>379.899994</td>\n",
       "      <td>375.910004</td>\n",
       "      <td>379.100006</td>\n",
       "      <td>379.100006</td>\n",
       "      <td>68766800</td>\n",
       "      <td>1.485750</td>\n",
       "      <td>8.510109</td>\n",
       "    </tr>\n",
       "    <tr>\n",
       "      <td>2021-01-08</td>\n",
       "      <td>380.589996</td>\n",
       "      <td>381.489990</td>\n",
       "      <td>377.100006</td>\n",
       "      <td>381.260010</td>\n",
       "      <td>381.260010</td>\n",
       "      <td>71677200</td>\n",
       "      <td>0.569771</td>\n",
       "      <td>11.669939</td>\n",
=======
       "      <th>2020-04-23 09:30:00-04:00</th>\n",
       "      <td>145.25600</td>\n",
       "      <td>145.37400</td>\n",
       "      <td>145.25600</td>\n",
       "      <td>145.37400</td>\n",
       "      <td>43270</td>\n",
       "      <td>0.118</td>\n",
       "      <td>0.118</td>\n",
       "      <td>2020-04-23</td>\n",
       "    </tr>\n",
       "    <tr>\n",
       "      <th>2020-04-23 09:29:00-04:00</th>\n",
       "      <td>146.33800</td>\n",
       "      <td>146.33800</td>\n",
       "      <td>145.20000</td>\n",
       "      <td>145.20000</td>\n",
       "      <td>45200</td>\n",
       "      <td>1.138</td>\n",
       "      <td>1.138</td>\n",
       "      <td>2020-04-23</td>\n",
       "    </tr>\n",
       "    <tr>\n",
       "      <th>2020-04-23 09:24:00-04:00</th>\n",
       "      <td>146.44992</td>\n",
       "      <td>146.44992</td>\n",
       "      <td>146.44992</td>\n",
       "      <td>146.44992</td>\n",
       "      <td>3720</td>\n",
       "      <td>0.000</td>\n",
       "      <td>0.000</td>\n",
       "      <td>2020-04-23</td>\n",
       "    </tr>\n",
       "    <tr>\n",
       "      <th>2020-04-23 09:23:00-04:00</th>\n",
       "      <td>146.36000</td>\n",
       "      <td>146.45000</td>\n",
       "      <td>146.34200</td>\n",
       "      <td>146.45000</td>\n",
       "      <td>19410</td>\n",
       "      <td>0.108</td>\n",
       "      <td>0.108</td>\n",
       "      <td>2020-04-23</td>\n",
       "    </tr>\n",
       "    <tr>\n",
       "      <th>2020-04-23 09:22:00-04:00</th>\n",
       "      <td>146.30000</td>\n",
       "      <td>146.30000</td>\n",
       "      <td>146.30000</td>\n",
       "      <td>146.30000</td>\n",
       "      <td>3600</td>\n",
       "      <td>0.000</td>\n",
       "      <td>0.000</td>\n",
       "      <td>2020-04-23</td>\n",
>>>>>>> Stashed changes
       "    </tr>\n",
       "  </tbody>\n",
       "</table>\n",
       "</div>"
      ],
      "text/plain": [
       "                  Open        High         Low       Close   Adj Close  \\\n",
       "Date                                                                     \n",
       "2021-01-04  375.309998  375.450012  364.820007  368.790009  368.790009   \n",
       "2021-01-05  368.100006  372.500000  368.049988  371.329987  371.329987   \n",
       "2021-01-06  369.709991  376.980011  369.119995  373.549988  373.549988   \n",
       "2021-01-07  376.100006  379.899994  375.910004  379.100006  379.100006   \n",
       "2021-01-08  380.589996  381.489990  377.100006  381.260010  381.260010   \n",
       "\n",
<<<<<<< Updated upstream
       "               Volume  Day_Perc_Change  Volatility  \n",
       "Date                                                \n",
       "2021-01-04  110210800        -1.361398    5.999279  \n",
       "2021-01-05   66426200         0.688733    4.766402  \n",
       "2021-01-06  107997700         0.597851    4.441927  \n",
       "2021-01-07   68766800         1.485750    8.510109  \n",
       "2021-01-08   71677200         0.569771   11.669939  "
      ]
     },
     "execution_count": 54,
=======
       "                            diff  volatility        date  \n",
       "time                                                      \n",
       "2020-04-23 09:30:00-04:00  0.118       0.118  2020-04-23  \n",
       "2020-04-23 09:29:00-04:00  1.138       1.138  2020-04-23  \n",
       "2020-04-23 09:24:00-04:00  0.000       0.000  2020-04-23  \n",
       "2020-04-23 09:23:00-04:00  0.108       0.108  2020-04-23  \n",
       "2020-04-23 09:22:00-04:00  0.000       0.000  2020-04-23  "
      ]
     },
     "execution_count": 16,
>>>>>>> Stashed changes
     "metadata": {},
     "output_type": "execute_result"
    }
   ],
   "source": [
<<<<<<< Updated upstream
    "data.tail()"
   ]
  },
  {
   "cell_type": "code",
   "execution_count": 51,
   "metadata": {},
   "outputs": [
    {
     "data": {
      "text/plain": [
       "<matplotlib.axes._subplots.AxesSubplot at 0x7fa6675d6320>"
      ]
     },
     "execution_count": 51,
     "metadata": {},
     "output_type": "execute_result"
    },
    {
     "data": {
      "image/png": "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\n",
      "text/plain": [
       "<Figure size 1080x504 with 1 Axes>"
      ]
     },
     "metadata": {
      "needs_background": "light"
     },
     "output_type": "display_data"
    }
   ],
   "source": [
    "data.Volatility.plot(figsize=(15,7))"
=======
    "# Adding a \"date\" column\n",
    "data['date'] = pd.to_datetime(data.index).date\n",
    "data.head()"
   ]
  },
  {
   "cell_type": "markdown",
   "metadata": {},
   "source": [
    "For example, how do the volatility data from 2020/4/23 look like?"
>>>>>>> Stashed changes
   ]
  },
  {
   "cell_type": "code",
<<<<<<< Updated upstream
   "execution_count": 52,
=======
   "execution_count": 17,
   "metadata": {
    "scrolled": true
   },
   "outputs": [
    {
     "data": {
      "text/plain": [
       "<matplotlib.axes._subplots.AxesSubplot at 0x7f2f9c0e1b50>"
      ]
     },
     "execution_count": 17,
     "metadata": {},
     "output_type": "execute_result"
    },
    {
     "data": {
      "image/png": "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\n",
      "text/plain": [
       "<Figure size 1080x504 with 1 Axes>"
      ]
     },
     "metadata": {
      "needs_background": "light"
     },
     "output_type": "display_data"
    }
   ],
   "source": [
    "_4_23 = data.loc[data['date'] == datetime.date(2020,4,23)]\n",
    "_4_23.volatility.plot(figsize=(15,7))"
   ]
  },
  {
   "cell_type": "markdown",
   "metadata": {},
   "source": [
    "### Avoiding Null Values"
   ]
  },
  {
   "cell_type": "markdown",
   "metadata": {},
   "source": [
    "Now, we check how many data points are available in the hour before market open each day. We want to align the number of data points we use for each day, because GramiantAngularField cannot handle null values. Thus, we want to eliminate all the null values in the volatility column at this point."
   ]
  },
  {
   "cell_type": "code",
   "execution_count": 21,
   "metadata": {
    "scrolled": true
   },
   "outputs": [
    {
     "data": {
      "text/plain": [
       "date\n",
       "2020-03-25    61\n",
       "2020-03-26    61\n",
       "2020-03-27    58\n",
       "2020-03-30    51\n",
       "2020-03-31    57\n",
       "2020-04-01    56\n",
       "2020-04-02    61\n",
       "2020-04-03    61\n",
       "2020-04-06    58\n",
       "2020-04-07    56\n",
       "2020-04-08    51\n",
       "2020-04-09    60\n",
       "2020-04-13    54\n",
       "2020-04-14    58\n",
       "2020-04-15    61\n",
       "2020-04-16    58\n",
       "2020-04-17    60\n",
       "2020-04-20    55\n",
       "2020-04-21    53\n",
       "2020-04-22    58\n",
       "2020-04-23    56\n",
       "Name: volatility, dtype: int64"
      ]
     },
     "execution_count": 21,
     "metadata": {},
     "output_type": "execute_result"
    }
   ],
   "source": [
    "data.groupby('date', as_index=True)['volatility'].count()"
   ]
  },
  {
   "cell_type": "markdown",
   "metadata": {},
   "source": [
    "We can observe that at least 50 data points are available in the 60 minutes period prior to the market open each day. Thus, in order to have the same data points for all these dates, we here focus on the __most recent 50 data points in the hour before market open for each day__."
   ]
  },
  {
   "cell_type": "markdown",
   "metadata": {},
   "source": [
    "### Reorganize table for GAF"
   ]
  },
  {
   "cell_type": "markdown",
   "metadata": {},
   "source": [
    "In order for GramiantAngularField to correctly recognize data, we also have to recreate a dataframe where each row corresponds to all the volatility data we want to use for each date."
   ]
  },
  {
   "cell_type": "code",
   "execution_count": 22,
   "metadata": {
    "scrolled": false
   },
   "outputs": [
    {
     "data": {
      "text/html": [
       "<div>\n",
       "<style scoped>\n",
       "    .dataframe tbody tr th:only-of-type {\n",
       "        vertical-align: middle;\n",
       "    }\n",
       "\n",
       "    .dataframe tbody tr th {\n",
       "        vertical-align: top;\n",
       "    }\n",
       "\n",
       "    .dataframe thead th {\n",
       "        text-align: right;\n",
       "    }\n",
       "</style>\n",
       "<table border=\"1\" class=\"dataframe\">\n",
       "  <thead>\n",
       "    <tr style=\"text-align: right;\">\n",
       "      <th></th>\n",
       "      <th>0</th>\n",
       "      <th>1</th>\n",
       "      <th>2</th>\n",
       "      <th>3</th>\n",
       "      <th>4</th>\n",
       "      <th>5</th>\n",
       "      <th>6</th>\n",
       "      <th>7</th>\n",
       "      <th>8</th>\n",
       "      <th>9</th>\n",
       "      <th>...</th>\n",
       "      <th>40</th>\n",
       "      <th>41</th>\n",
       "      <th>42</th>\n",
       "      <th>43</th>\n",
       "      <th>44</th>\n",
       "      <th>45</th>\n",
       "      <th>46</th>\n",
       "      <th>47</th>\n",
       "      <th>48</th>\n",
       "      <th>49</th>\n",
       "    </tr>\n",
       "    <tr>\n",
       "      <th>date</th>\n",
       "      <th></th>\n",
       "      <th></th>\n",
       "      <th></th>\n",
       "      <th></th>\n",
       "      <th></th>\n",
       "      <th></th>\n",
       "      <th></th>\n",
       "      <th></th>\n",
       "      <th></th>\n",
       "      <th></th>\n",
       "      <th></th>\n",
       "      <th></th>\n",
       "      <th></th>\n",
       "      <th></th>\n",
       "      <th></th>\n",
       "      <th></th>\n",
       "      <th></th>\n",
       "      <th></th>\n",
       "      <th></th>\n",
       "      <th></th>\n",
       "      <th></th>\n",
       "    </tr>\n",
       "  </thead>\n",
       "  <tbody>\n",
       "    <tr>\n",
       "      <th>2020-03-25</th>\n",
       "      <td>0.280</td>\n",
       "      <td>1.256</td>\n",
       "      <td>0.39598</td>\n",
       "      <td>0.798</td>\n",
       "      <td>0.168</td>\n",
       "      <td>0.250</td>\n",
       "      <td>0.352</td>\n",
       "      <td>0.060</td>\n",
       "      <td>0.082</td>\n",
       "      <td>0.29400</td>\n",
       "      <td>...</td>\n",
       "      <td>0.198</td>\n",
       "      <td>0.1160</td>\n",
       "      <td>0.196</td>\n",
       "      <td>0.258</td>\n",
       "      <td>0.19804</td>\n",
       "      <td>0.158</td>\n",
       "      <td>0.12600</td>\n",
       "      <td>0.332</td>\n",
       "      <td>0.202</td>\n",
       "      <td>0.1760</td>\n",
       "    </tr>\n",
       "    <tr>\n",
       "      <th>2020-03-26</th>\n",
       "      <td>0.100</td>\n",
       "      <td>0.840</td>\n",
       "      <td>0.38000</td>\n",
       "      <td>0.012</td>\n",
       "      <td>0.400</td>\n",
       "      <td>0.414</td>\n",
       "      <td>0.550</td>\n",
       "      <td>0.180</td>\n",
       "      <td>0.300</td>\n",
       "      <td>0.35436</td>\n",
       "      <td>...</td>\n",
       "      <td>0.000</td>\n",
       "      <td>0.1680</td>\n",
       "      <td>0.336</td>\n",
       "      <td>0.076</td>\n",
       "      <td>0.80000</td>\n",
       "      <td>0.476</td>\n",
       "      <td>0.29204</td>\n",
       "      <td>0.360</td>\n",
       "      <td>0.200</td>\n",
       "      <td>0.5800</td>\n",
       "    </tr>\n",
       "    <tr>\n",
       "      <th>2020-03-27</th>\n",
       "      <td>0.198</td>\n",
       "      <td>0.266</td>\n",
       "      <td>0.00000</td>\n",
       "      <td>0.020</td>\n",
       "      <td>0.202</td>\n",
       "      <td>0.090</td>\n",
       "      <td>0.400</td>\n",
       "      <td>0.032</td>\n",
       "      <td>0.200</td>\n",
       "      <td>0.20000</td>\n",
       "      <td>...</td>\n",
       "      <td>0.044</td>\n",
       "      <td>0.0900</td>\n",
       "      <td>0.180</td>\n",
       "      <td>0.090</td>\n",
       "      <td>0.29800</td>\n",
       "      <td>0.132</td>\n",
       "      <td>0.09600</td>\n",
       "      <td>0.178</td>\n",
       "      <td>0.016</td>\n",
       "      <td>0.3980</td>\n",
       "    </tr>\n",
       "    <tr>\n",
       "      <th>2020-03-30</th>\n",
       "      <td>0.208</td>\n",
       "      <td>1.406</td>\n",
       "      <td>0.00000</td>\n",
       "      <td>0.208</td>\n",
       "      <td>0.100</td>\n",
       "      <td>0.120</td>\n",
       "      <td>0.128</td>\n",
       "      <td>0.100</td>\n",
       "      <td>0.328</td>\n",
       "      <td>0.00000</td>\n",
       "      <td>...</td>\n",
       "      <td>0.098</td>\n",
       "      <td>0.1564</td>\n",
       "      <td>0.064</td>\n",
       "      <td>0.017</td>\n",
       "      <td>0.00000</td>\n",
       "      <td>0.200</td>\n",
       "      <td>0.21600</td>\n",
       "      <td>0.116</td>\n",
       "      <td>0.046</td>\n",
       "      <td>0.0054</td>\n",
       "    </tr>\n",
       "    <tr>\n",
       "      <th>2020-03-31</th>\n",
       "      <td>0.108</td>\n",
       "      <td>0.510</td>\n",
       "      <td>0.08200</td>\n",
       "      <td>0.060</td>\n",
       "      <td>0.294</td>\n",
       "      <td>0.044</td>\n",
       "      <td>0.000</td>\n",
       "      <td>0.000</td>\n",
       "      <td>0.000</td>\n",
       "      <td>0.03000</td>\n",
       "      <td>...</td>\n",
       "      <td>0.192</td>\n",
       "      <td>0.0940</td>\n",
       "      <td>0.194</td>\n",
       "      <td>0.006</td>\n",
       "      <td>0.00200</td>\n",
       "      <td>0.100</td>\n",
       "      <td>0.10000</td>\n",
       "      <td>0.240</td>\n",
       "      <td>0.000</td>\n",
       "      <td>0.2000</td>\n",
       "    </tr>\n",
       "  </tbody>\n",
       "</table>\n",
       "<p>5 rows × 50 columns</p>\n",
       "</div>"
      ],
      "text/plain": [
       "               0      1        2      3      4      5      6      7      8   \\\n",
       "date                                                                          \n",
       "2020-03-25  0.280  1.256  0.39598  0.798  0.168  0.250  0.352  0.060  0.082   \n",
       "2020-03-26  0.100  0.840  0.38000  0.012  0.400  0.414  0.550  0.180  0.300   \n",
       "2020-03-27  0.198  0.266  0.00000  0.020  0.202  0.090  0.400  0.032  0.200   \n",
       "2020-03-30  0.208  1.406  0.00000  0.208  0.100  0.120  0.128  0.100  0.328   \n",
       "2020-03-31  0.108  0.510  0.08200  0.060  0.294  0.044  0.000  0.000  0.000   \n",
       "\n",
       "                 9   ...     40      41     42     43       44     45  \\\n",
       "date                 ...                                                \n",
       "2020-03-25  0.29400  ...  0.198  0.1160  0.196  0.258  0.19804  0.158   \n",
       "2020-03-26  0.35436  ...  0.000  0.1680  0.336  0.076  0.80000  0.476   \n",
       "2020-03-27  0.20000  ...  0.044  0.0900  0.180  0.090  0.29800  0.132   \n",
       "2020-03-30  0.00000  ...  0.098  0.1564  0.064  0.017  0.00000  0.200   \n",
       "2020-03-31  0.03000  ...  0.192  0.0940  0.194  0.006  0.00200  0.100   \n",
       "\n",
       "                 46     47     48      49  \n",
       "date                                       \n",
       "2020-03-25  0.12600  0.332  0.202  0.1760  \n",
       "2020-03-26  0.29204  0.360  0.200  0.5800  \n",
       "2020-03-27  0.09600  0.178  0.016  0.3980  \n",
       "2020-03-30  0.21600  0.116  0.046  0.0054  \n",
       "2020-03-31  0.10000  0.240  0.000  0.2000  \n",
       "\n",
       "[5 rows x 50 columns]"
      ]
     },
     "execution_count": 22,
     "metadata": {},
     "output_type": "execute_result"
    }
   ],
   "source": [
    "data_pts = 50\n",
    "\n",
    "new_df = data.groupby('date', as_index=True)['volatility'].apply(list)\n",
    "new_df = pd.DataFrame(new_df)\n",
    "new_df = pd.DataFrame(new_df.volatility.apply(lambda lst: lst[:data_pts]))\n",
    "new_df = pd.DataFrame(new_df.volatility.to_list(), index=new_df.index)\n",
    "new_df.head()"
   ]
  },
  {
   "cell_type": "code",
   "execution_count": 24,
>>>>>>> Stashed changes
   "metadata": {},
   "outputs": [
    {
     "data": {
      "text/plain": [
       "(21, 50)"
      ]
     },
     "execution_count": 24,
     "metadata": {},
     "output_type": "execute_result"
    }
   ],
   "source": [
    "new_df.shape"
   ]
<<<<<<< Updated upstream
=======
  },
  {
   "cell_type": "code",
   "execution_count": 20,
   "metadata": {},
   "outputs": [],
   "source": [
    "new_df.to_csv('data_vol_.csv')"
   ]
>>>>>>> Stashed changes
  }
 ],
 "metadata": {
  "kernelspec": {
   "display_name": "Python 3",
   "language": "python",
   "name": "python3"
  },
  "language_info": {
   "codemirror_mode": {
    "name": "ipython",
    "version": 3
   },
   "file_extension": ".py",
   "mimetype": "text/x-python",
   "name": "python",
   "nbconvert_exporter": "python",
   "pygments_lexer": "ipython3",
   "version": "3.7.6"
  }
 },
 "nbformat": 4,
 "nbformat_minor": 4
}
