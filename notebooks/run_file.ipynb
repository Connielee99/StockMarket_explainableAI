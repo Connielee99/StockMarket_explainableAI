{
 "cells": [
  {
   "cell_type": "markdown",
   "metadata": {},
   "source": [
    "### Imports & Dependencies"
   ]
  },
  {
   "cell_type": "code",
   "execution_count": 1,
   "metadata": {},
   "outputs": [],
   "source": [
    "import sys, json, os\n",
    "import warnings \n",
    "warnings.filterwarnings(\"ignore\")"
   ]
  },
  {
   "cell_type": "code",
   "execution_count": 2,
   "metadata": {},
   "outputs": [],
   "source": [
    "import pandas as pd\n",
    "import matplotlib.pyplot as plt"
   ]
  },
  {
   "cell_type": "code",
   "execution_count": 3,
   "metadata": {},
   "outputs": [],
   "source": [
    "sys.path.insert(0, 'src')"
   ]
  },
  {
   "cell_type": "code",
   "execution_count": 4,
   "metadata": {},
   "outputs": [],
   "source": [
    "from data import make_dataset\n",
    "from features import build_features, build_images, build_labels"
   ]
  },
  {
   "cell_type": "markdown",
   "metadata": {},
   "source": [
    "### Define Params\n",
    "* Save these to params.json"
   ]
  },
  {
   "cell_type": "code",
   "execution_count": 18,
   "metadata": {},
   "outputs": [],
   "source": [
    "with open('config/data_params.json') as fh:\n",
    "    data_cfg = json.load(fh)\n",
    "    \n",
    "with open('config/test_params.json') as fh:\n",
    "    test_cfg = json.load(fh)"
   ]
  },
  {
   "cell_type": "code",
   "execution_count": 17,
   "metadata": {},
   "outputs": [
    {
     "data": {
      "text/plain": [
       "{'raw_path': 'data/TSLA/RawData',\n",
       " 'result_path': 'result/',\n",
       " 'time_wdw': 5,\n",
       " 'output_img_path': 'data/folderforrun'}"
      ]
     },
     "execution_count": 17,
     "metadata": {},
     "output_type": "execute_result"
    }
   ],
   "source": [
    "data_cfg"
   ]
  },
  {
   "cell_type": "code",
   "execution_count": 19,
   "metadata": {},
   "outputs": [
    {
     "data": {
      "text/plain": [
       "{'raw_path': 'data/TSLA/TestData',\n",
       " 'file_name': 'test_20210115.csv',\n",
       " 'result_path': 'result/',\n",
       " 'time_wdw': 5,\n",
       " 'output_img_path': 'data/imgs/test'}"
      ]
     },
     "execution_count": 19,
     "metadata": {},
     "output_type": "execute_result"
    }
   ],
   "source": [
    "test_cfg"
   ]
  },
  {
   "cell_type": "markdown",
   "metadata": {},
   "source": [
    "### Read in data -- Image Coordinate Data"
   ]
  },
  {
   "cell_type": "code",
   "execution_count": 6,
   "metadata": {},
   "outputs": [],
   "source": [
    "raw_fp = data_cfg['raw_path']\n",
    "time_wdw = data_cfg['time_wdw']\n",
    "img_fp = data_cfg['output_img_path']"
   ]
  },
  {
   "cell_type": "code",
   "execution_count": 7,
   "metadata": {},
   "outputs": [],
   "source": [
    "# merged 8:30-9:30 data\n",
    "data = make_dataset.merge_data(raw_fp)"
   ]
  },
  {
   "cell_type": "code",
   "execution_count": 8,
   "metadata": {},
   "outputs": [],
   "source": [
    "# data with volatility\n",
    "data = build_features.feature_engineer(data, time_wdw)"
   ]
  },
  {
   "cell_type": "code",
   "execution_count": 9,
   "metadata": {},
   "outputs": [],
   "source": [
    "# data for gramian angular field\n",
    "data = make_dataset.gaf_df(data)"
   ]
  },
  {
   "cell_type": "markdown",
   "metadata": {},
   "source": [
    "### Data -- Images"
   ]
  },
  {
   "cell_type": "code",
   "execution_count": 46,
   "metadata": {},
   "outputs": [],
   "source": [
    "# creates images from polar coordinates, saves them to img_fp\n",
    "# build_images.gramian_img(img_fp, data)"
   ]
  },
  {
   "cell_type": "markdown",
   "metadata": {},
   "source": [
    "### Wrap"
   ]
  },
  {
   "cell_type": "code",
   "execution_count": null,
   "metadata": {},
   "outputs": [],
   "source": [
    "# dependencies & imports\n",
    "\n",
    "import sys, json, os\n",
    "import warnings \n",
    "import pandas as pd\n",
    "import matplotlib.pyplot as plt\n",
    "\n",
    "warnings.filterwarnings(\"ignore\")\n",
    "sys.path.insert(0, 'src')\n",
    "\n",
    "from data import make_dataset\n",
    "from features import build_features, build_images, build_labels\n",
    "\n",
    "# define main\n",
    "def main(targets):\n",
    "\n",
    "    if ('test' in targets):\n",
    "        \n",
    "        # get test params\n",
    "        with open('config/test_params.json') as fh:\n",
    "            data_cfg = json.load(fh)\n",
    "        \n",
    "        raw_fp = data_cfg['raw_path']\n",
    "        test_fn = data_cfg['file_name']\n",
    "        time_wdw = data_cfg['time_wdw']\n",
    "        img_fp = data_cfg['output_img_path']\n",
    "        \n",
    "        data_file = os.path.join(raw_fp, test_fn)\n",
    "        data = pd.read_csv(data_file, parse_dates = ['time'])\n",
    "\n",
    "    # all case\n",
    "    else:\n",
    "        \n",
    "        # get all params\n",
    "        with open('config/data_params.json') as fh:\n",
    "            data_cfg = json.load(fh)\n",
    "        \n",
    "        raw_fp = data_cfg['raw_path']\n",
    "        time_wdw = data_cfg['time_wdw']\n",
    "        img_fp = data_cfg['output_img_path']\n",
    "        \n",
    "        # merged 8:30-9:30 data\n",
    "        data = make_dataset.merge_data(raw_fp)\n",
    "        \n",
    "    # data with volatility\n",
    "    data = build_features.feature_engineer(data, time_wdw)\n",
    "    # data for gramian angular field\n",
    "    data = make_dataset.gaf_df(data)\n",
    "    # creates images from polar coordinates, saves them to img_fp\n",
    "    build_images.gramian_img(img_fp, data)\n",
    "    \n",
    "    return "
   ]
  },
  {
   "cell_type": "code",
   "execution_count": null,
   "metadata": {},
   "outputs": [],
   "source": [
    "# if __name__ == '__main__':\n",
    "    \n",
    "#     targets = sys.argv[1:]\n",
    "#     main(targets)"
   ]
  },
  {
   "cell_type": "code",
   "execution_count": null,
   "metadata": {},
   "outputs": [],
   "source": []
  }
 ],
 "metadata": {
  "kernelspec": {
   "display_name": "Python 3",
   "language": "python",
   "name": "python3"
  },
  "language_info": {
   "codemirror_mode": {
    "name": "ipython",
    "version": 3
   },
   "file_extension": ".py",
   "mimetype": "text/x-python",
   "name": "python",
   "nbconvert_exporter": "python",
   "pygments_lexer": "ipython3",
   "version": "3.8.5"
  }
 },
 "nbformat": 4,
 "nbformat_minor": 4
}
